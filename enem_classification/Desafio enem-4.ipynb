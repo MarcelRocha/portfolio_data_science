{
 "cells": [
  {
   "cell_type": "markdown",
   "metadata": {},
   "source": [
    "# Supervides Learning: Finding Testers in Enem-2016  \n",
    "\n",
    "This project was completed as a part of the program Aceleradev - Data Science offered by Codenation.\n",
    "\n",
    "In this project, we will test out several supervised algorithms to accurately model students' tester status. Our goal with this implementation is to construct a model that accurately predicts whether a student who took the Brazilian National Exam Enem-2016 which enables students to a apply for a spot in several public and private universities, did it only to test his/her skills (tester).  "
   ]
  },
  {
   "cell_type": "markdown",
   "metadata": {},
   "source": [
    "# Exploring the Data\n",
    "\n",
    "Let's start with importing the necessary libaries, reading in the data, and checking out the dataset."
   ]
  },
  {
   "cell_type": "code",
   "execution_count": 1,
   "metadata": {},
   "outputs": [],
   "source": [
    "\n",
    "# Import libraries necessary for this project\n",
    "import pandas as pd\n",
    "import seaborn as sns\n",
    "from time import time\n",
    "\n",
    "# Import visualization libraries\n",
    "import matplotlib.pyplot as plt\n",
    "import numpy as np\n",
    "\n",
    "# Pretty display for notebooks\n",
    "%matplotlib inline\n",
    "\n",
    "from sklearn.preprocessing import StandardScaler\n",
    "from sklearn.ensemble import BaggingClassifier, RandomForestClassifier\n",
    "from sklearn.tree import DecisionTreeClassifier\n",
    "from sklearn.naive_bayes import GaussianNB\n",
    "\n",
    "from sklearn.linear_model import LogisticRegression"
   ]
  },
  {
   "cell_type": "code",
   "execution_count": 2,
   "metadata": {},
   "outputs": [],
   "source": [
    "# Image settings for visualization\n",
    "from IPython.core.pylabtools import figsize\n",
    "\n",
    "figsize(12, 9)\n",
    "\n",
    "sns.set()"
   ]
  },
  {
   "cell_type": "code",
   "execution_count": 3,
   "metadata": {},
   "outputs": [],
   "source": [
    "# load the train and test datasets\n",
    "df_train = pd.read_csv('train.csv')\n",
    "df_test = pd.read_csv('test.csv')"
   ]
  },
  {
   "cell_type": "code",
   "execution_count": 4,
   "metadata": {
    "scrolled": true
   },
   "outputs": [
    {
     "name": "stdout",
     "output_type": "stream",
     "text": [
      "Valid data\n"
     ]
    }
   ],
   "source": [
    "# dataset validation checking if the testset is a subset fron the trainingset\n",
    "if set(df_test.columns).issubset(set(df_train.columns)):print('Valid data')"
   ]
  },
  {
   "cell_type": "markdown",
   "metadata": {},
   "source": [
    "* Validando se o dataset de teste faz parte do dataset de treino."
   ]
  },
  {
   "cell_type": "code",
   "execution_count": 5,
   "metadata": {
    "scrolled": true
   },
   "outputs": [
    {
     "data": {
      "text/html": [
       "<div>\n",
       "<style scoped>\n",
       "    .dataframe tbody tr th:only-of-type {\n",
       "        vertical-align: middle;\n",
       "    }\n",
       "\n",
       "    .dataframe tbody tr th {\n",
       "        vertical-align: top;\n",
       "    }\n",
       "\n",
       "    .dataframe thead th {\n",
       "        text-align: right;\n",
       "    }\n",
       "</style>\n",
       "<table border=\"1\" class=\"dataframe\">\n",
       "  <thead>\n",
       "    <tr style=\"text-align: right;\">\n",
       "      <th></th>\n",
       "      <th>Unnamed: 0</th>\n",
       "      <th>NU_INSCRICAO</th>\n",
       "      <th>NU_ANO</th>\n",
       "      <th>CO_MUNICIPIO_RESIDENCIA</th>\n",
       "      <th>NO_MUNICIPIO_RESIDENCIA</th>\n",
       "      <th>CO_UF_RESIDENCIA</th>\n",
       "      <th>SG_UF_RESIDENCIA</th>\n",
       "      <th>NU_IDADE</th>\n",
       "      <th>TP_SEXO</th>\n",
       "      <th>TP_ESTADO_CIVIL</th>\n",
       "      <th>...</th>\n",
       "      <th>Q041</th>\n",
       "      <th>Q042</th>\n",
       "      <th>Q043</th>\n",
       "      <th>Q044</th>\n",
       "      <th>Q045</th>\n",
       "      <th>Q046</th>\n",
       "      <th>Q047</th>\n",
       "      <th>Q048</th>\n",
       "      <th>Q049</th>\n",
       "      <th>Q050</th>\n",
       "    </tr>\n",
       "  </thead>\n",
       "  <tbody>\n",
       "    <tr>\n",
       "      <th>0</th>\n",
       "      <td>1</td>\n",
       "      <td>ed50e8aaa58e7a806c337585efee9ca41f1eb1ad</td>\n",
       "      <td>2016</td>\n",
       "      <td>4314902</td>\n",
       "      <td>Porto Alegre</td>\n",
       "      <td>43</td>\n",
       "      <td>RS</td>\n",
       "      <td>24</td>\n",
       "      <td>M</td>\n",
       "      <td>0.0</td>\n",
       "      <td>...</td>\n",
       "      <td>5.0</td>\n",
       "      <td>A</td>\n",
       "      <td>A</td>\n",
       "      <td>A</td>\n",
       "      <td>A</td>\n",
       "      <td>A</td>\n",
       "      <td>A</td>\n",
       "      <td>A</td>\n",
       "      <td>B</td>\n",
       "      <td>D</td>\n",
       "    </tr>\n",
       "  </tbody>\n",
       "</table>\n",
       "<p>1 rows × 167 columns</p>\n",
       "</div>"
      ],
      "text/plain": [
       "   Unnamed: 0                              NU_INSCRICAO  NU_ANO  \\\n",
       "0           1  ed50e8aaa58e7a806c337585efee9ca41f1eb1ad    2016   \n",
       "\n",
       "   CO_MUNICIPIO_RESIDENCIA NO_MUNICIPIO_RESIDENCIA  CO_UF_RESIDENCIA  \\\n",
       "0                  4314902            Porto Alegre                43   \n",
       "\n",
       "  SG_UF_RESIDENCIA  NU_IDADE TP_SEXO  TP_ESTADO_CIVIL  ...  Q041  Q042  Q043  \\\n",
       "0               RS        24       M              0.0  ...   5.0     A     A   \n",
       "\n",
       "  Q044  Q045 Q046  Q047  Q048  Q049  Q050  \n",
       "0    A     A    A     A     A     B     D  \n",
       "\n",
       "[1 rows x 167 columns]"
      ]
     },
     "execution_count": 5,
     "metadata": {},
     "output_type": "execute_result"
    }
   ],
   "source": [
    "# display first row of the dataset\n",
    "df_train.head(1)"
   ]
  },
  {
   "cell_type": "markdown",
   "metadata": {},
   "source": [
    "We can see here some features of the dataset. but its hard to see all the features because we have 167 columns and due to the Pandas settings we can only see some of them.\n",
    "\n",
    "In that way we should find a better way to visualize the information that our features bring."
   ]
  },
  {
   "cell_type": "code",
   "execution_count": 6,
   "metadata": {
    "scrolled": true
   },
   "outputs": [
    {
     "data": {
      "text/html": [
       "<div>\n",
       "<style scoped>\n",
       "    .dataframe tbody tr th:only-of-type {\n",
       "        vertical-align: middle;\n",
       "    }\n",
       "\n",
       "    .dataframe tbody tr th {\n",
       "        vertical-align: top;\n",
       "    }\n",
       "\n",
       "    .dataframe thead th {\n",
       "        text-align: right;\n",
       "    }\n",
       "</style>\n",
       "<table border=\"1\" class=\"dataframe\">\n",
       "  <thead>\n",
       "    <tr style=\"text-align: right;\">\n",
       "      <th></th>\n",
       "      <th>type</th>\n",
       "      <th>Sum of NaN</th>\n",
       "      <th>NaN%</th>\n",
       "    </tr>\n",
       "  </thead>\n",
       "  <tbody>\n",
       "    <tr>\n",
       "      <th>CO_UF_ENTIDADE_CERTIFICACAO</th>\n",
       "      <td>float64</td>\n",
       "      <td>12092</td>\n",
       "      <td>0.880699</td>\n",
       "    </tr>\n",
       "    <tr>\n",
       "      <th>SG_UF_ENTIDADE_CERTIFICACAO</th>\n",
       "      <td>object</td>\n",
       "      <td>12092</td>\n",
       "      <td>0.880699</td>\n",
       "    </tr>\n",
       "    <tr>\n",
       "      <th>NO_ENTIDADE_CERTIFICACAO</th>\n",
       "      <td>object</td>\n",
       "      <td>12092</td>\n",
       "      <td>0.880699</td>\n",
       "    </tr>\n",
       "    <tr>\n",
       "      <th>Q041</th>\n",
       "      <td>float64</td>\n",
       "      <td>10792</td>\n",
       "      <td>0.786016</td>\n",
       "    </tr>\n",
       "    <tr>\n",
       "      <th>TP_ENSINO</th>\n",
       "      <td>float64</td>\n",
       "      <td>9448</td>\n",
       "      <td>0.688128</td>\n",
       "    </tr>\n",
       "    <tr>\n",
       "      <th>TP_LOCALIZACAO_ESC</th>\n",
       "      <td>float64</td>\n",
       "      <td>9448</td>\n",
       "      <td>0.688128</td>\n",
       "    </tr>\n",
       "    <tr>\n",
       "      <th>TP_DEPENDENCIA_ADM_ESC</th>\n",
       "      <td>float64</td>\n",
       "      <td>9448</td>\n",
       "      <td>0.688128</td>\n",
       "    </tr>\n",
       "    <tr>\n",
       "      <th>SG_UF_ESC</th>\n",
       "      <td>object</td>\n",
       "      <td>9448</td>\n",
       "      <td>0.688128</td>\n",
       "    </tr>\n",
       "    <tr>\n",
       "      <th>CO_UF_ESC</th>\n",
       "      <td>float64</td>\n",
       "      <td>9448</td>\n",
       "      <td>0.688128</td>\n",
       "    </tr>\n",
       "    <tr>\n",
       "      <th>NO_MUNICIPIO_ESC</th>\n",
       "      <td>object</td>\n",
       "      <td>9448</td>\n",
       "      <td>0.688128</td>\n",
       "    </tr>\n",
       "    <tr>\n",
       "      <th>CO_MUNICIPIO_ESC</th>\n",
       "      <td>float64</td>\n",
       "      <td>9448</td>\n",
       "      <td>0.688128</td>\n",
       "    </tr>\n",
       "    <tr>\n",
       "      <th>CO_ESCOLA</th>\n",
       "      <td>float64</td>\n",
       "      <td>9448</td>\n",
       "      <td>0.688128</td>\n",
       "    </tr>\n",
       "    <tr>\n",
       "      <th>TP_SIT_FUNC_ESC</th>\n",
       "      <td>float64</td>\n",
       "      <td>9448</td>\n",
       "      <td>0.688128</td>\n",
       "    </tr>\n",
       "    <tr>\n",
       "      <th>Q031</th>\n",
       "      <td>float64</td>\n",
       "      <td>7376</td>\n",
       "      <td>0.537218</td>\n",
       "    </tr>\n",
       "    <tr>\n",
       "      <th>Q033</th>\n",
       "      <td>float64</td>\n",
       "      <td>7376</td>\n",
       "      <td>0.537218</td>\n",
       "    </tr>\n",
       "  </tbody>\n",
       "</table>\n",
       "</div>"
      ],
      "text/plain": [
       "                                type  Sum of NaN      NaN%\n",
       "CO_UF_ENTIDADE_CERTIFICACAO  float64       12092  0.880699\n",
       "SG_UF_ENTIDADE_CERTIFICACAO   object       12092  0.880699\n",
       "NO_ENTIDADE_CERTIFICACAO      object       12092  0.880699\n",
       "Q041                         float64       10792  0.786016\n",
       "TP_ENSINO                    float64        9448  0.688128\n",
       "TP_LOCALIZACAO_ESC           float64        9448  0.688128\n",
       "TP_DEPENDENCIA_ADM_ESC       float64        9448  0.688128\n",
       "SG_UF_ESC                     object        9448  0.688128\n",
       "CO_UF_ESC                    float64        9448  0.688128\n",
       "NO_MUNICIPIO_ESC              object        9448  0.688128\n",
       "CO_MUNICIPIO_ESC             float64        9448  0.688128\n",
       "CO_ESCOLA                    float64        9448  0.688128\n",
       "TP_SIT_FUNC_ESC              float64        9448  0.688128\n",
       "Q031                         float64        7376  0.537218\n",
       "Q033                         float64        7376  0.537218"
      ]
     },
     "execution_count": 6,
     "metadata": {},
     "output_type": "execute_result"
    }
   ],
   "source": [
    "\n",
    "def create_status(df):\n",
    "    \"\"\"create a status dataset giving the column name, type, sum of NaNs and percentage of NaNs \n",
    "    Args:\n",
    "    \n",
    "    df: dataset\n",
    "    \n",
    "    Return:\n",
    "    \n",
    "    status: dataset (columns: column names of df,\n",
    "                    type: type of the data in each column of df,\n",
    "                    Sum of NaN: sum of NaN values for each column in df,\n",
    "                    NaN%: percentage of NaN values for each column in df)\n",
    "    \"\"\"\n",
    "    \n",
    "    status= pd.DataFrame({'columns': df.columns,\n",
    "                          'type': df.dtypes,\n",
    "                          'Sum of NaN': df.isnull().sum(),\n",
    "                          'NaN%': df.isnull().sum()/len(df)})\n",
    "    return status\n",
    "status_train = create_status(df_train)\n",
    "status_train.reindex(columns=['type','Sum of NaN','NaN%']).sort_values(by = 'Sum of NaN', ascending=False).head(15)"
   ]
  },
  {
   "cell_type": "markdown",
   "metadata": {},
   "source": [
    "Now it is easier to check some information about the dataset and think about some decisions during the preprocessing.\n",
    "For example, think about the way to deal with the NaN values in the features."
   ]
  },
  {
   "cell_type": "markdown",
   "metadata": {},
   "source": [
    "## Feature Selection\n",
    "### Searching the features high correlated to our target feature (IN_TREINEIRO)."
   ]
  },
  {
   "cell_type": "code",
   "execution_count": 13,
   "metadata": {
    "scrolled": false
   },
   "outputs": [
    {
     "data": {
      "text/html": [
       "<div>\n",
       "<style scoped>\n",
       "    .dataframe tbody tr th:only-of-type {\n",
       "        vertical-align: middle;\n",
       "    }\n",
       "\n",
       "    .dataframe tbody tr th {\n",
       "        vertical-align: top;\n",
       "    }\n",
       "\n",
       "    .dataframe thead th {\n",
       "        text-align: right;\n",
       "    }\n",
       "</style>\n",
       "<table border=\"1\" class=\"dataframe\">\n",
       "  <thead>\n",
       "    <tr style=\"text-align: right;\">\n",
       "      <th></th>\n",
       "      <th>Unnamed: 0</th>\n",
       "      <th>NU_ANO</th>\n",
       "      <th>CO_MUNICIPIO_RESIDENCIA</th>\n",
       "      <th>CO_UF_RESIDENCIA</th>\n",
       "      <th>NU_IDADE</th>\n",
       "      <th>TP_ESTADO_CIVIL</th>\n",
       "      <th>TP_COR_RACA</th>\n",
       "      <th>TP_NACIONALIDADE</th>\n",
       "      <th>CO_MUNICIPIO_NASCIMENTO</th>\n",
       "      <th>CO_UF_NASCIMENTO</th>\n",
       "      <th>...</th>\n",
       "      <th>Q032</th>\n",
       "      <th>Q033</th>\n",
       "      <th>Q034</th>\n",
       "      <th>Q035</th>\n",
       "      <th>Q036</th>\n",
       "      <th>Q037</th>\n",
       "      <th>Q038</th>\n",
       "      <th>Q039</th>\n",
       "      <th>Q040</th>\n",
       "      <th>Q041</th>\n",
       "    </tr>\n",
       "  </thead>\n",
       "  <tbody>\n",
       "    <tr>\n",
       "      <th>Unnamed: 0</th>\n",
       "      <td>1.000000</td>\n",
       "      <td>NaN</td>\n",
       "      <td>-0.007258</td>\n",
       "      <td>-0.007250</td>\n",
       "      <td>-0.007201</td>\n",
       "      <td>0.003678</td>\n",
       "      <td>0.005707</td>\n",
       "      <td>-0.006217</td>\n",
       "      <td>-0.004527</td>\n",
       "      <td>-0.004615</td>\n",
       "      <td>...</td>\n",
       "      <td>0.001520</td>\n",
       "      <td>0.018074</td>\n",
       "      <td>0.001693</td>\n",
       "      <td>-0.008141</td>\n",
       "      <td>0.002724</td>\n",
       "      <td>-0.004914</td>\n",
       "      <td>0.003906</td>\n",
       "      <td>0.001002</td>\n",
       "      <td>-0.010967</td>\n",
       "      <td>-0.029937</td>\n",
       "    </tr>\n",
       "    <tr>\n",
       "      <th>NU_ANO</th>\n",
       "      <td>NaN</td>\n",
       "      <td>NaN</td>\n",
       "      <td>NaN</td>\n",
       "      <td>NaN</td>\n",
       "      <td>NaN</td>\n",
       "      <td>NaN</td>\n",
       "      <td>NaN</td>\n",
       "      <td>NaN</td>\n",
       "      <td>NaN</td>\n",
       "      <td>NaN</td>\n",
       "      <td>...</td>\n",
       "      <td>NaN</td>\n",
       "      <td>NaN</td>\n",
       "      <td>NaN</td>\n",
       "      <td>NaN</td>\n",
       "      <td>NaN</td>\n",
       "      <td>NaN</td>\n",
       "      <td>NaN</td>\n",
       "      <td>NaN</td>\n",
       "      <td>NaN</td>\n",
       "      <td>NaN</td>\n",
       "    </tr>\n",
       "    <tr>\n",
       "      <th>CO_MUNICIPIO_RESIDENCIA</th>\n",
       "      <td>-0.007258</td>\n",
       "      <td>NaN</td>\n",
       "      <td>1.000000</td>\n",
       "      <td>0.999865</td>\n",
       "      <td>-0.002296</td>\n",
       "      <td>0.020813</td>\n",
       "      <td>-0.236178</td>\n",
       "      <td>0.009710</td>\n",
       "      <td>0.865294</td>\n",
       "      <td>0.865216</td>\n",
       "      <td>...</td>\n",
       "      <td>0.004115</td>\n",
       "      <td>-0.030114</td>\n",
       "      <td>-0.050304</td>\n",
       "      <td>-0.050138</td>\n",
       "      <td>-0.040668</td>\n",
       "      <td>-0.013479</td>\n",
       "      <td>-0.032710</td>\n",
       "      <td>-0.094862</td>\n",
       "      <td>-0.077456</td>\n",
       "      <td>-0.033205</td>\n",
       "    </tr>\n",
       "    <tr>\n",
       "      <th>CO_UF_RESIDENCIA</th>\n",
       "      <td>-0.007250</td>\n",
       "      <td>NaN</td>\n",
       "      <td>0.999865</td>\n",
       "      <td>1.000000</td>\n",
       "      <td>-0.002017</td>\n",
       "      <td>0.020947</td>\n",
       "      <td>-0.234786</td>\n",
       "      <td>0.009433</td>\n",
       "      <td>0.864791</td>\n",
       "      <td>0.864919</td>\n",
       "      <td>...</td>\n",
       "      <td>0.003968</td>\n",
       "      <td>-0.030345</td>\n",
       "      <td>-0.050096</td>\n",
       "      <td>-0.049292</td>\n",
       "      <td>-0.040688</td>\n",
       "      <td>-0.013647</td>\n",
       "      <td>-0.032467</td>\n",
       "      <td>-0.094113</td>\n",
       "      <td>-0.076838</td>\n",
       "      <td>-0.033149</td>\n",
       "    </tr>\n",
       "    <tr>\n",
       "      <th>NU_IDADE</th>\n",
       "      <td>-0.007201</td>\n",
       "      <td>NaN</td>\n",
       "      <td>-0.002296</td>\n",
       "      <td>-0.002017</td>\n",
       "      <td>1.000000</td>\n",
       "      <td>0.533462</td>\n",
       "      <td>0.009675</td>\n",
       "      <td>-0.017713</td>\n",
       "      <td>-0.030711</td>\n",
       "      <td>-0.030259</td>\n",
       "      <td>...</td>\n",
       "      <td>-0.044791</td>\n",
       "      <td>0.025077</td>\n",
       "      <td>-0.030681</td>\n",
       "      <td>0.012739</td>\n",
       "      <td>0.021949</td>\n",
       "      <td>-0.003569</td>\n",
       "      <td>-0.035306</td>\n",
       "      <td>-0.069973</td>\n",
       "      <td>-0.010988</td>\n",
       "      <td>0.160526</td>\n",
       "    </tr>\n",
       "    <tr>\n",
       "      <th>...</th>\n",
       "      <td>...</td>\n",
       "      <td>...</td>\n",
       "      <td>...</td>\n",
       "      <td>...</td>\n",
       "      <td>...</td>\n",
       "      <td>...</td>\n",
       "      <td>...</td>\n",
       "      <td>...</td>\n",
       "      <td>...</td>\n",
       "      <td>...</td>\n",
       "      <td>...</td>\n",
       "      <td>...</td>\n",
       "      <td>...</td>\n",
       "      <td>...</td>\n",
       "      <td>...</td>\n",
       "      <td>...</td>\n",
       "      <td>...</td>\n",
       "      <td>...</td>\n",
       "      <td>...</td>\n",
       "      <td>...</td>\n",
       "      <td>...</td>\n",
       "    </tr>\n",
       "    <tr>\n",
       "      <th>Q037</th>\n",
       "      <td>-0.004914</td>\n",
       "      <td>NaN</td>\n",
       "      <td>-0.013479</td>\n",
       "      <td>-0.013647</td>\n",
       "      <td>-0.003569</td>\n",
       "      <td>0.002294</td>\n",
       "      <td>0.086642</td>\n",
       "      <td>0.032588</td>\n",
       "      <td>-0.024174</td>\n",
       "      <td>-0.024201</td>\n",
       "      <td>...</td>\n",
       "      <td>0.220839</td>\n",
       "      <td>0.225791</td>\n",
       "      <td>0.245757</td>\n",
       "      <td>0.202230</td>\n",
       "      <td>0.387722</td>\n",
       "      <td>1.000000</td>\n",
       "      <td>0.496678</td>\n",
       "      <td>0.254418</td>\n",
       "      <td>0.270380</td>\n",
       "      <td>0.187921</td>\n",
       "    </tr>\n",
       "    <tr>\n",
       "      <th>Q038</th>\n",
       "      <td>0.003906</td>\n",
       "      <td>NaN</td>\n",
       "      <td>-0.032710</td>\n",
       "      <td>-0.032467</td>\n",
       "      <td>-0.035306</td>\n",
       "      <td>-0.014725</td>\n",
       "      <td>0.069298</td>\n",
       "      <td>0.024112</td>\n",
       "      <td>-0.038666</td>\n",
       "      <td>-0.038305</td>\n",
       "      <td>...</td>\n",
       "      <td>0.159887</td>\n",
       "      <td>0.223508</td>\n",
       "      <td>0.215767</td>\n",
       "      <td>0.142610</td>\n",
       "      <td>0.378421</td>\n",
       "      <td>0.496678</td>\n",
       "      <td>1.000000</td>\n",
       "      <td>0.374424</td>\n",
       "      <td>0.259947</td>\n",
       "      <td>0.219529</td>\n",
       "    </tr>\n",
       "    <tr>\n",
       "      <th>Q039</th>\n",
       "      <td>0.001002</td>\n",
       "      <td>NaN</td>\n",
       "      <td>-0.094862</td>\n",
       "      <td>-0.094113</td>\n",
       "      <td>-0.069973</td>\n",
       "      <td>-0.066346</td>\n",
       "      <td>0.046830</td>\n",
       "      <td>0.011327</td>\n",
       "      <td>-0.097273</td>\n",
       "      <td>-0.096666</td>\n",
       "      <td>...</td>\n",
       "      <td>0.144264</td>\n",
       "      <td>0.206979</td>\n",
       "      <td>0.189252</td>\n",
       "      <td>0.225724</td>\n",
       "      <td>0.270343</td>\n",
       "      <td>0.254418</td>\n",
       "      <td>0.374424</td>\n",
       "      <td>1.000000</td>\n",
       "      <td>0.305357</td>\n",
       "      <td>0.262031</td>\n",
       "    </tr>\n",
       "    <tr>\n",
       "      <th>Q040</th>\n",
       "      <td>-0.010967</td>\n",
       "      <td>NaN</td>\n",
       "      <td>-0.077456</td>\n",
       "      <td>-0.076838</td>\n",
       "      <td>-0.010988</td>\n",
       "      <td>-0.022736</td>\n",
       "      <td>0.053556</td>\n",
       "      <td>0.014847</td>\n",
       "      <td>-0.081490</td>\n",
       "      <td>-0.080963</td>\n",
       "      <td>...</td>\n",
       "      <td>0.215292</td>\n",
       "      <td>0.176028</td>\n",
       "      <td>0.243190</td>\n",
       "      <td>0.179292</td>\n",
       "      <td>0.177025</td>\n",
       "      <td>0.270380</td>\n",
       "      <td>0.259947</td>\n",
       "      <td>0.305357</td>\n",
       "      <td>1.000000</td>\n",
       "      <td>0.306438</td>\n",
       "    </tr>\n",
       "    <tr>\n",
       "      <th>Q041</th>\n",
       "      <td>-0.029937</td>\n",
       "      <td>NaN</td>\n",
       "      <td>-0.033205</td>\n",
       "      <td>-0.033149</td>\n",
       "      <td>0.160526</td>\n",
       "      <td>0.108771</td>\n",
       "      <td>0.020966</td>\n",
       "      <td>0.008132</td>\n",
       "      <td>-0.042237</td>\n",
       "      <td>-0.042134</td>\n",
       "      <td>...</td>\n",
       "      <td>0.233832</td>\n",
       "      <td>0.205239</td>\n",
       "      <td>0.154743</td>\n",
       "      <td>0.113574</td>\n",
       "      <td>0.214736</td>\n",
       "      <td>0.187921</td>\n",
       "      <td>0.219529</td>\n",
       "      <td>0.262031</td>\n",
       "      <td>0.306438</td>\n",
       "      <td>1.000000</td>\n",
       "    </tr>\n",
       "  </tbody>\n",
       "</table>\n",
       "<p>107 rows × 107 columns</p>\n",
       "</div>"
      ],
      "text/plain": [
       "                         Unnamed: 0  NU_ANO  CO_MUNICIPIO_RESIDENCIA  \\\n",
       "Unnamed: 0                 1.000000     NaN                -0.007258   \n",
       "NU_ANO                          NaN     NaN                      NaN   \n",
       "CO_MUNICIPIO_RESIDENCIA   -0.007258     NaN                 1.000000   \n",
       "CO_UF_RESIDENCIA          -0.007250     NaN                 0.999865   \n",
       "NU_IDADE                  -0.007201     NaN                -0.002296   \n",
       "...                             ...     ...                      ...   \n",
       "Q037                      -0.004914     NaN                -0.013479   \n",
       "Q038                       0.003906     NaN                -0.032710   \n",
       "Q039                       0.001002     NaN                -0.094862   \n",
       "Q040                      -0.010967     NaN                -0.077456   \n",
       "Q041                      -0.029937     NaN                -0.033205   \n",
       "\n",
       "                         CO_UF_RESIDENCIA  NU_IDADE  TP_ESTADO_CIVIL  \\\n",
       "Unnamed: 0                      -0.007250 -0.007201         0.003678   \n",
       "NU_ANO                                NaN       NaN              NaN   \n",
       "CO_MUNICIPIO_RESIDENCIA          0.999865 -0.002296         0.020813   \n",
       "CO_UF_RESIDENCIA                 1.000000 -0.002017         0.020947   \n",
       "NU_IDADE                        -0.002017  1.000000         0.533462   \n",
       "...                                   ...       ...              ...   \n",
       "Q037                            -0.013647 -0.003569         0.002294   \n",
       "Q038                            -0.032467 -0.035306        -0.014725   \n",
       "Q039                            -0.094113 -0.069973        -0.066346   \n",
       "Q040                            -0.076838 -0.010988        -0.022736   \n",
       "Q041                            -0.033149  0.160526         0.108771   \n",
       "\n",
       "                         TP_COR_RACA  TP_NACIONALIDADE  \\\n",
       "Unnamed: 0                  0.005707         -0.006217   \n",
       "NU_ANO                           NaN               NaN   \n",
       "CO_MUNICIPIO_RESIDENCIA    -0.236178          0.009710   \n",
       "CO_UF_RESIDENCIA           -0.234786          0.009433   \n",
       "NU_IDADE                    0.009675         -0.017713   \n",
       "...                              ...               ...   \n",
       "Q037                        0.086642          0.032588   \n",
       "Q038                        0.069298          0.024112   \n",
       "Q039                        0.046830          0.011327   \n",
       "Q040                        0.053556          0.014847   \n",
       "Q041                        0.020966          0.008132   \n",
       "\n",
       "                         CO_MUNICIPIO_NASCIMENTO  CO_UF_NASCIMENTO  ...  \\\n",
       "Unnamed: 0                             -0.004527         -0.004615  ...   \n",
       "NU_ANO                                       NaN               NaN  ...   \n",
       "CO_MUNICIPIO_RESIDENCIA                 0.865294          0.865216  ...   \n",
       "CO_UF_RESIDENCIA                        0.864791          0.864919  ...   \n",
       "NU_IDADE                               -0.030711         -0.030259  ...   \n",
       "...                                          ...               ...  ...   \n",
       "Q037                                   -0.024174         -0.024201  ...   \n",
       "Q038                                   -0.038666         -0.038305  ...   \n",
       "Q039                                   -0.097273         -0.096666  ...   \n",
       "Q040                                   -0.081490         -0.080963  ...   \n",
       "Q041                                   -0.042237         -0.042134  ...   \n",
       "\n",
       "                             Q032      Q033      Q034      Q035      Q036  \\\n",
       "Unnamed: 0               0.001520  0.018074  0.001693 -0.008141  0.002724   \n",
       "NU_ANO                        NaN       NaN       NaN       NaN       NaN   \n",
       "CO_MUNICIPIO_RESIDENCIA  0.004115 -0.030114 -0.050304 -0.050138 -0.040668   \n",
       "CO_UF_RESIDENCIA         0.003968 -0.030345 -0.050096 -0.049292 -0.040688   \n",
       "NU_IDADE                -0.044791  0.025077 -0.030681  0.012739  0.021949   \n",
       "...                           ...       ...       ...       ...       ...   \n",
       "Q037                     0.220839  0.225791  0.245757  0.202230  0.387722   \n",
       "Q038                     0.159887  0.223508  0.215767  0.142610  0.378421   \n",
       "Q039                     0.144264  0.206979  0.189252  0.225724  0.270343   \n",
       "Q040                     0.215292  0.176028  0.243190  0.179292  0.177025   \n",
       "Q041                     0.233832  0.205239  0.154743  0.113574  0.214736   \n",
       "\n",
       "                             Q037      Q038      Q039      Q040      Q041  \n",
       "Unnamed: 0              -0.004914  0.003906  0.001002 -0.010967 -0.029937  \n",
       "NU_ANO                        NaN       NaN       NaN       NaN       NaN  \n",
       "CO_MUNICIPIO_RESIDENCIA -0.013479 -0.032710 -0.094862 -0.077456 -0.033205  \n",
       "CO_UF_RESIDENCIA        -0.013647 -0.032467 -0.094113 -0.076838 -0.033149  \n",
       "NU_IDADE                -0.003569 -0.035306 -0.069973 -0.010988  0.160526  \n",
       "...                           ...       ...       ...       ...       ...  \n",
       "Q037                     1.000000  0.496678  0.254418  0.270380  0.187921  \n",
       "Q038                     0.496678  1.000000  0.374424  0.259947  0.219529  \n",
       "Q039                     0.254418  0.374424  1.000000  0.305357  0.262031  \n",
       "Q040                     0.270380  0.259947  0.305357  1.000000  0.306438  \n",
       "Q041                     0.187921  0.219529  0.262031  0.306438  1.000000  \n",
       "\n",
       "[107 rows x 107 columns]"
      ]
     },
     "execution_count": 13,
     "metadata": {},
     "output_type": "execute_result"
    }
   ],
   "source": [
    "# checking the correlation between features\n",
    "df_train.corr()"
   ]
  },
  {
   "cell_type": "markdown",
   "metadata": {},
   "source": [
    " Like before, searching for informating in a huge table like that can be very difficult and confuse.\n",
    " \n",
    " Let's try another approach."
   ]
  },
  {
   "cell_type": "code",
   "execution_count": 14,
   "metadata": {
    "scrolled": true
   },
   "outputs": [
    {
     "data": {
      "text/plain": [
       "IN_TREINEIRO       1.000000\n",
       "TP_ST_CONCLUSAO    0.536272\n",
       "TP_PRESENCA_CH     0.094805\n",
       "TP_PRESENCA_CN     0.094805\n",
       "TP_PRESENCA_LC     0.092589\n",
       "Name: IN_TREINEIRO, dtype: float64"
      ]
     },
     "execution_count": 14,
     "metadata": {},
     "output_type": "execute_result"
    }
   ],
   "source": [
    "# creating a table with the column names and their correlation to our target IN_TREINEIRO.\n",
    "corr_spearman = df_train[df_train.columns[1:]].corr(method='spearman')['IN_TREINEIRO'][:]\n",
    "corr_spearman.sort_values(ascending=False).head() # checking the top values"
   ]
  },
  {
   "cell_type": "code",
   "execution_count": 15,
   "metadata": {
    "scrolled": true
   },
   "outputs": [
    {
     "data": {
      "text/plain": [
       "NU_IDADE          -0.535499\n",
       "TP_ANO_CONCLUIU   -0.344331\n",
       "TP_ESCOLA         -0.258023\n",
       "IN_CERTIFICADO    -0.142185\n",
       "TP_ESTADO_CIVIL   -0.124211\n",
       "Name: IN_TREINEIRO, dtype: float64"
      ]
     },
     "execution_count": 15,
     "metadata": {},
     "output_type": "execute_result"
    }
   ],
   "source": [
    "corr_spearman.sort_values().head() # checking the botton values"
   ]
  },
  {
   "cell_type": "markdown",
   "metadata": {},
   "source": [
    "* From the standard correlation methods, Spearman's correlation was chosen, as it express better results when correlating categorial and numerical variables.\n",
    "\n",
    "* First we checked the top correlated values and we could see that most of the features were poor correlated excluding the feature `TP_ST_CONCLUSAO`. This gave us a sign that we should look into the negative correlated features.\n",
    "\n",
    "* As we checked the features negative correlated have a much better degree of correlation. From them we chose: `NU_IDADE, TP_ANO_CONCLUIU, TP_ESCOLA`."
   ]
  },
  {
   "cell_type": "markdown",
   "metadata": {},
   "source": [
    "#### Features Description:\n",
    "\n",
    "* `TP_ST_CONCLUSAO`: High school graduation status \n",
    "* `NU_IDADE`: Student's age\n",
    "* `TP_ANO_CONCLUIU`: Year the student graduated from high school\n",
    "* `TP_ESCOLA`: High school sort"
   ]
  },
  {
   "cell_type": "code",
   "execution_count": 16,
   "metadata": {},
   "outputs": [],
   "source": [
    "# creating a list with the features high correlated to our target\n",
    "features = ['TP_ST_CONCLUSAO', 'NU_IDADE', 'TP_ANO_CONCLUIU', 'TP_ESCOLA'] # target excluded\n",
    "features_corr = ['IN_TREINEIRO','TP_ST_CONCLUSAO', 'NU_IDADE', 'TP_ANO_CONCLUIU', 'TP_ESCOLA'] # target included"
   ]
  },
  {
   "cell_type": "code",
   "execution_count": 17,
   "metadata": {
    "scrolled": true
   },
   "outputs": [
    {
     "data": {
      "text/plain": [
       "IN_TREINEIRO       0\n",
       "TP_ST_CONCLUSAO    0\n",
       "NU_IDADE           0\n",
       "TP_ANO_CONCLUIU    0\n",
       "TP_ESCOLA          0\n",
       "dtype: int64"
      ]
     },
     "execution_count": 17,
     "metadata": {},
     "output_type": "execute_result"
    }
   ],
   "source": [
    "# checking for the presence of NaN values in the chosen features\n",
    "df_train[features_corr].isna().sum()"
   ]
  },
  {
   "cell_type": "code",
   "execution_count": 18,
   "metadata": {
    "scrolled": false
   },
   "outputs": [
    {
     "data": {
      "image/png": "[encoded data removed]",
      "text/plain": [
       "<Figure size 864x648 with 2 Axes>"
      ]
     },
     "metadata": {},
     "output_type": "display_data"
    }
   ],
   "source": [
    "# creating a correnlation heatmap with the chosen features\n",
    "correlation = df_train[features_corr].corr()\n",
    "sns.heatmap(correlation, annot=True, annot_kws={'size':10});"
   ]
  },
  {
   "cell_type": "markdown",
   "metadata": {},
   "source": [
    "## Data Preprocessing \n",
    "\n",
    "The dataset was already split into train and test datasets, so the only thing I had to do is to adress them to variables that will be used in our machine learning models."
   ]
  },
  {
   "cell_type": "code",
   "execution_count": 25,
   "metadata": {},
   "outputs": [],
   "source": [
    "target_train = df_train['IN_TREINEIRO'] # setting our target variable\n",
    "x_train = df_train[features] # setting our X train with the chosen features\n",
    "X_test = df_test[features] # setting our X test with the chosen features"
   ]
  },
  {
   "cell_type": "markdown",
   "metadata": {},
   "source": [
    "# Evaluating Model Performance\n",
    "\n",
    "In this section, we will investigate four different algorithms, and determine which is best at modeling the data.\n",
    "\n",
    "## Metrics\n",
    "\n",
    "__Accuracy__: Talks about how accurate our model is to those predicted positive, how many of them are actual positive.\n",
    "\n",
    "__Precision__: Works simmilar to accuracy.\n",
    "\n",
    "__Recall__: Calculates how many of the actual positives our model capture through labeling it as positive. We know that Recall shall be the model metric we use to select our best model when there is a high cost associated with False Negative.\n",
    "\n",
    "Reference: \n",
    "\n",
    "https://towardsdatascience.com/accuracy-precision-recall-or-f1-331fb37c5cb9"
   ]
  },
  {
   "cell_type": "code",
   "execution_count": 26,
   "metadata": {},
   "outputs": [],
   "source": [
    "# Import the metrics\n",
    "from sklearn.metrics import confusion_matrix, accuracy_score, precision_score, recall_score"
   ]
  },
  {
   "cell_type": "markdown",
   "metadata": {},
   "source": [
    "# Supervised Learning Models\n",
    "\n",
    "## Model Application\n",
    "\n",
    "Now we'll pick four supervised learning models above that are appropriate for this problem, and test them on the dataset.\n",
    "\n",
    "#### Decision Tree\n",
    "\n",
    "Decision trees are algorithms that can be used for both regression and classification. In general, they perform well and are good choices for creating ensembles.\n",
    "\n",
    "The idea for your training, at a high level, is very basic: at each step, we choose a variable and divide it into two parts, depending on a metric like purity. We repeat this step recursively, creating a binary tree (each non-leaf node has two children) until we have reached a stop condition (maximum number of leaves, or elements in each leaf, or maximum depth of the \n",
    "tree, etc.).\n",
    "\n",
    "Strenghts:\n",
    "\n",
    "* They are easy to interpret.\n",
    "* The data does not need to be pre-processed (normalization, standardization, nothing like that).\n",
    "* They are non-parametric, that is, they do not depend on any assumption regarding the data.\n",
    "\n",
    "Weaknesses:\n",
    "\n",
    "* They can overfitting the data with some ease.\n",
    "* They are very susceptible to variations in training data.\n",
    "* They do not work well with unbalanced data sets.\n",
    "* They always divide the regions in an orthogonal way.\n",
    "\n",
    "#### Bagging\n",
    "\n",
    "Using a single decision tree does not always lead to good results. Decision trees have a high variance and a low bias, which can lead to a high total error.\n",
    "\n",
    "To decrease the variance, we can use bootstrapping. The bootstraping technique consists of resampling the training set with replacement and training a model for each resampling. After training the various models, we can classify a test data simply using majority voting: the class predicted by most models is chosen as the final class.\n",
    "\n",
    "\n",
    "It is important to note that when doing bagging (or any type of ensemble_), we give up the model's interpretability. While a decision tree is a highly interpretable model, a lot of trees acting at the same time are not interpretable. This is a _tradeoff that we have to do between interpretability and performance.\n",
    "\n",
    "\n",
    "#### Random Forest\n",
    "\n",
    "Although bagging works very well in most cases, we can improve it further. The idea of ​​random forests is also to subdivide the features used during the training of decision trees.\n",
    "\n",
    "At each split of the decision tree, only a subset of the features is considered. This helps to create more varied trees, that is, less correlated. When we ensemble these trees, we have an even smaller total error.\n",
    "\n",
    "References:\n",
    "\n",
    "[Classification Algorithms Comparison](https://www.kaggle.com/metetik/classification-algorithms-comparison)\n",
    "\n",
    "[Classification: Basic Concepts, Decision Trees, and Model Evaluation](https://www-users.cs.umn.edu/~kumar001/dmbook/ch4.pdf)\n"
   ]
  },
  {
   "cell_type": "code",
   "execution_count": 89,
   "metadata": {},
   "outputs": [],
   "source": [
    "# creating a  dictiorany with the metrics I wanna use\n",
    "dict_metrics={'Accuracy': accuracy_score, 'Precision': precision_score, 'Recall': recall_score} \n",
    "\n",
    "# creating a dictiorany with the models I wanna test\n",
    "dict_models={'Decision Tree': DecisionTreeClassifier(criterion='entropy'),\n",
    "             'Bagging': BaggingClassifier(DecisionTreeClassifier(), n_estimators=300, max_samples=100, bootstrap=True),\n",
    "             'Random Forest': RandomForestClassifier(n_estimators=40, criterion='entropy', random_state=777)}"
   ]
  },
  {
   "cell_type": "code",
   "execution_count": 90,
   "metadata": {
    "scrolled": true
   },
   "outputs": [],
   "source": [
    "# implementation to evaluate the models based on their metrics\n",
    "with open('results.txt', 'w') as f: # writing a text file with the results\n",
    "    for name, model in dict_models.items():\n",
    "        classifier = model\n",
    "        start = time()\n",
    "        classifier.fit(x_train, target_train)\n",
    "        end = time()\n",
    "        predicted = classifier.predict(x_train)\n",
    "        list_results = []\n",
    "       \n",
    "        f.write(f'\\n{name}\\n')\n",
    "        f.write(f'Running time: {round(end - start, 3)} s\\n')\n",
    "        for score, metric in dict_metrics.items():\n",
    "\n",
    "            result = metric(target_train, predicted)\n",
    "            f.write(f'{score} {round(result,4)}\\n')\n",
    "            "
   ]
  },
  {
   "cell_type": "code",
   "execution_count": 91,
   "metadata": {
    "scrolled": true
   },
   "outputs": [
    {
     "name": "stdout",
     "output_type": "stream",
     "text": [
      "\n",
      "Decision Tree\n",
      "Running time: 0.005 s\n",
      "Accuracy 0.997\n",
      "Precision 1.0\n",
      "Recall 0.977\n",
      "\n",
      "Bagging\n",
      "Running time: 1.077 s\n",
      "Accuracy 0.9956\n",
      "Precision 0.9892\n",
      "Recall 0.977\n",
      "\n",
      "Random Forest\n",
      "Running time: 0.17 s\n",
      "Accuracy 0.997\n",
      "Precision 1.0\n",
      "Recall 0.977\n",
      "\n"
     ]
    }
   ],
   "source": [
    "with open('results.txt', 'r') as f:\n",
    "    print(f.read()) # reading the text file saved "
   ]
  },
  {
   "cell_type": "code",
   "execution_count": 88,
   "metadata": {
    "scrolled": true
   },
   "outputs": [
    {
     "data": {
      "image/png": "[encoded data removed]",
      "text/plain": [
       "<Figure size 864x648 with 2 Axes>"
      ]
     },
     "metadata": {},
     "output_type": "display_data"
    },
    {
     "data": {
      "image/png": "[encoded data removed]",
      "text/plain": [
       "<Figure size 864x648 with 2 Axes>"
      ]
     },
     "metadata": {},
     "output_type": "display_data"
    },
    {
     "data": {
      "image/png": "[encoded data removed]",
      "text/plain": [
       "<Figure size 864x648 with 2 Axes>"
      ]
     },
     "metadata": {},
     "output_type": "display_data"
    }
   ],
   "source": [
    "# visualizing the confusion matrix for each classifier\n",
    "from sklearn.metrics import confusion_matrix\n",
    "\n",
    "i =0\n",
    "for name, model in dict_models.items():\n",
    "    model.fit(x_train, target_train)\n",
    "    matrix = confusion_matrix(target_train, model.predict(x_train))\n",
    "    matrix = matrix.astype('float') / matrix.sum(axis=1)[:, np.newaxis] # normalize the data\n",
    "    \n",
    "    # view with a heatmap\n",
    "    plt.figure(i)\n",
    "    sns.heatmap(matrix, annot=True, annot_kws={\"size\":30}, \n",
    "            cmap='Greens', square=True, fmt='.3f')\n",
    "    plt.ylabel('True label')\n",
    "    plt.xlabel('Predicted label')\n",
    "    plt.title('Confusion matrix for:\\n{}'.format(model.__class__.__name__));\n",
    "    i+=1"
   ]
  },
  {
   "cell_type": "markdown",
   "metadata": {},
   "source": [
    "Based on the metrics and the confusion matrix, is possible to see that the random forest classifier performed the best.\n",
    "\n",
    "In that way this classifier was used further used to complete the challenge."
   ]
  },
  {
   "cell_type": "code",
   "execution_count": 84,
   "metadata": {},
   "outputs": [],
   "source": [
    "rf = dict_models.get('Random Forest')\n",
    "rf.fit(x_train, target_train)\n",
    "rf_predicted_test = rf.predict(X_test)\n",
    "\n",
    "NU_INSCRICAO = df_test['NU_INSCRICAO'].values\n",
    "final = pd.DataFrame(list(zip(NU_INSCRICAO, rf_predicted_test)), columns = ['NU_INSCRICAO', 'IN_TREINEIRO'])\n",
    "final.to_csv('answer.csv', sep=',', index=False)"
   ]
  },
  {
   "cell_type": "markdown",
   "metadata": {},
   "source": [
    "_Disclaimer: Like in the previous challenge I don't have access to how the Codenation calculates the results that's why I have to predict the `X_test` and submit in ther platform._"
   ]
  },
  {
   "cell_type": "markdown",
   "metadata": {},
   "source": [
    "# Implementing an Automatic Model Selection"
   ]
  },
  {
   "cell_type": "code",
   "execution_count": 92,
   "metadata": {},
   "outputs": [
    {
     "name": "stdout",
     "output_type": "stream",
     "text": [
      "Random Forest was chosen the best classifier\n"
     ]
    }
   ],
   "source": [
    "\n",
    "best_predictor = {}\n",
    "for name, model in dict_models.items():\n",
    "    classifier = model\n",
    "    classifier.fit(x_train, target_train)\n",
    "    predicted = classifier.predict(x_train)\n",
    "    list_results = []\n",
    "    \n",
    "    for score, metric in dict_metrics.items():\n",
    "        results = metric(target_train, predicted)\n",
    "        list_results.append(results)\n",
    "        \n",
    "    # first critetion for the model is accuracy and precision higher than 0.97    \n",
    "    if list_results[0]> 0.97 and list_results[1]> 0.97: \n",
    "        \n",
    "        best_predictor[name] = list_results\n",
    "\n",
    "best_result = [0, 0, 0] # starting results\n",
    "for predictor, result in best_predictor.items():\n",
    "    # for a model to be chosen it has to have the best overall metrics \n",
    "    if  result[0] >= best_result[0]  and result[1] >= best_result[1] and result[2] >= best_result[2]:\n",
    "        new_classifier = dict_models.get(predictor)\n",
    "        best_result = result\n",
    "        best_predictor = predictor\n",
    "\n",
    "new_classifier.fit(x_train, target_train)\n",
    "predicted_test = new_classifier.predict(X_test)\n",
    "print(f'{best_predictor} was chosen the best classifier')\n",
    "        \n",
    "NU_INSCRICAO = df_test['NU_INSCRICAO'].values\n",
    "final = pd.DataFrame(list(zip(NU_INSCRICAO, predicted_test)), columns = ['NU_INSCRICAO', 'IN_TREINEIRO'])\n",
    "final.to_csv('answer.csv', sep=',', index=False)\n",
    "         "
   ]
  },
  {
   "cell_type": "markdown",
   "metadata": {},
   "source": [
    "# Conclusion:\n",
    "\n",
    "* In this canllenge we learned how to choose our model based on its metrics.\n",
    "* We used the confusing matrix to check where each model is making erros\n",
    "* We were successful testing an auto-select implementation for our models.\n",
    "* The challenge's score was 99.73% which was very close to the accuracy of the model."
   ]
  }
 ],
 "metadata": {
  "kernelspec": {
   "display_name": "Python 3",
   "language": "python",
   "name": "python3"
  },
  "language_info": {
   "codemirror_mode": {
    "name": "ipython",
    "version": 3
   },
   "file_extension": ".py",
   "mimetype": "text/x-python",
   "name": "python",
   "nbconvert_exporter": "python",
   "pygments_lexer": "ipython3",
   "version": "3.7.3"
  }
 },
 "nbformat": 4,
 "nbformat_minor": 4
}
