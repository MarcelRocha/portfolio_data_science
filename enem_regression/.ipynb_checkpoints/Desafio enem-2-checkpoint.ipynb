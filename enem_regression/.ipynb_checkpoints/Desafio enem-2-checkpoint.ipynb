{
 "cells": [
  {
   "cell_type": "markdown",
   "metadata": {},
   "source": [
    "# Predicting Enem-2016 Math Marks \n",
    "\n",
    "This project was part of the entry challenge to be part of the 2 month program Aceleradev - Data Science offered by Codenation.\n",
    "\n",
    "In this project we will test out two regression models whether to predict the math marks of the students who took the Brazilian National Exam Enem-2016, which enables students to a apply for a spot in several public and private universities. Our goal is to construct a model predicts the math marks of these students. \n",
    "\n",
    "This dataset was originates from the Codenation challenge. You can access the challenge [here](https://codenation.dev/aceleradev/ds-online-1/ \"Condenation challenge\")."
   ]
  },
  {
   "cell_type": "markdown",
   "metadata": {},
   "source": [
    "# Exploring the Data\n",
    "\n",
    "Let's start with importing the necessary libaries, reading in the data, and checking out the dataset."
   ]
  },
  {
   "cell_type": "code",
   "execution_count": 1,
   "metadata": {},
   "outputs": [],
   "source": [
    "# Import libraries necessary for this project\n",
    "from time import time\n",
    "\n",
    "import pandas as pd\n",
    "import numpy as np\n",
    "\n",
    "#Import visualization libratires\n",
    "import seaborn as sns\n",
    "import matplotlib.pyplot as plt"
   ]
  },
  {
   "cell_type": "code",
   "execution_count": 2,
   "metadata": {},
   "outputs": [],
   "source": [
    "# Image settings for visualization\n",
    "from IPython.core.pylabtools import figsize\n",
    "\n",
    "figsize(12, 9)\n",
    "\n",
    "sns.set()"
   ]
  },
  {
   "cell_type": "code",
   "execution_count": 3,
   "metadata": {},
   "outputs": [],
   "source": [
    "# load the train and test datasets\n",
    "df_train = pd.read_csv('train.csv')\n",
    "df_test = pd.read_csv('test.csv')"
   ]
  },
  {
   "cell_type": "code",
   "execution_count": 4,
   "metadata": {
    "scrolled": true
   },
   "outputs": [
    {
     "name": "stdout",
     "output_type": "stream",
     "text": [
      "Valid data\n"
     ]
    }
   ],
   "source": [
    "# dataset validation checking if the testset is a subset fron the trainingset\n",
    "if set(df_test.columns).issubset(set(df_train.columns)):print('Valid data')"
   ]
  },
  {
   "cell_type": "code",
   "execution_count": 5,
   "metadata": {
    "scrolled": true
   },
   "outputs": [
    {
     "data": {
      "text/html": [
       "<div>\n",
       "<style scoped>\n",
       "    .dataframe tbody tr th:only-of-type {\n",
       "        vertical-align: middle;\n",
       "    }\n",
       "\n",
       "    .dataframe tbody tr th {\n",
       "        vertical-align: top;\n",
       "    }\n",
       "\n",
       "    .dataframe thead th {\n",
       "        text-align: right;\n",
       "    }\n",
       "</style>\n",
       "<table border=\"1\" class=\"dataframe\">\n",
       "  <thead>\n",
       "    <tr style=\"text-align: right;\">\n",
       "      <th></th>\n",
       "      <th>Unnamed: 0</th>\n",
       "      <th>NU_INSCRICAO</th>\n",
       "      <th>NU_ANO</th>\n",
       "      <th>CO_MUNICIPIO_RESIDENCIA</th>\n",
       "      <th>NO_MUNICIPIO_RESIDENCIA</th>\n",
       "      <th>CO_UF_RESIDENCIA</th>\n",
       "      <th>SG_UF_RESIDENCIA</th>\n",
       "      <th>NU_IDADE</th>\n",
       "      <th>TP_SEXO</th>\n",
       "      <th>TP_ESTADO_CIVIL</th>\n",
       "      <th>...</th>\n",
       "      <th>Q041</th>\n",
       "      <th>Q042</th>\n",
       "      <th>Q043</th>\n",
       "      <th>Q044</th>\n",
       "      <th>Q045</th>\n",
       "      <th>Q046</th>\n",
       "      <th>Q047</th>\n",
       "      <th>Q048</th>\n",
       "      <th>Q049</th>\n",
       "      <th>Q050</th>\n",
       "    </tr>\n",
       "  </thead>\n",
       "  <tbody>\n",
       "    <tr>\n",
       "      <th>0</th>\n",
       "      <td>1</td>\n",
       "      <td>ed50e8aaa58e7a806c337585efee9ca41f1eb1ad</td>\n",
       "      <td>2016</td>\n",
       "      <td>4314902</td>\n",
       "      <td>Porto Alegre</td>\n",
       "      <td>43</td>\n",
       "      <td>RS</td>\n",
       "      <td>24</td>\n",
       "      <td>M</td>\n",
       "      <td>0.0</td>\n",
       "      <td>...</td>\n",
       "      <td>5.0</td>\n",
       "      <td>A</td>\n",
       "      <td>A</td>\n",
       "      <td>A</td>\n",
       "      <td>A</td>\n",
       "      <td>A</td>\n",
       "      <td>A</td>\n",
       "      <td>A</td>\n",
       "      <td>B</td>\n",
       "      <td>D</td>\n",
       "    </tr>\n",
       "  </tbody>\n",
       "</table>\n",
       "<p>1 rows × 167 columns</p>\n",
       "</div>"
      ],
      "text/plain": [
       "   Unnamed: 0                              NU_INSCRICAO  NU_ANO  \\\n",
       "0           1  ed50e8aaa58e7a806c337585efee9ca41f1eb1ad    2016   \n",
       "\n",
       "   CO_MUNICIPIO_RESIDENCIA NO_MUNICIPIO_RESIDENCIA  CO_UF_RESIDENCIA  \\\n",
       "0                  4314902            Porto Alegre                43   \n",
       "\n",
       "  SG_UF_RESIDENCIA  NU_IDADE TP_SEXO  TP_ESTADO_CIVIL  ...  Q041  Q042  Q043  \\\n",
       "0               RS        24       M              0.0  ...   5.0     A     A   \n",
       "\n",
       "  Q044  Q045 Q046  Q047  Q048  Q049  Q050  \n",
       "0    A     A    A     A     A     B     D  \n",
       "\n",
       "[1 rows x 167 columns]"
      ]
     },
     "execution_count": 5,
     "metadata": {},
     "output_type": "execute_result"
    }
   ],
   "source": [
    "# display first row of the dataset\n",
    "df_train.head(1)"
   ]
  },
  {
   "cell_type": "markdown",
   "metadata": {},
   "source": [
    "We can see here some features of the dataset. but its hard to see all the features because we have 167 columns and due to the Pandas settings we can only see some of them.\n",
    "\n",
    "In that way we should find a better way to visualize the information that our features bring."
   ]
  },
  {
   "cell_type": "code",
   "execution_count": 3,
   "metadata": {
    "scrolled": true
   },
   "outputs": [
    {
     "ename": "NameError",
     "evalue": "name 'df_train' is not defined",
     "output_type": "error",
     "traceback": [
      "\u001b[1;31m---------------------------------------------------------------------------\u001b[0m",
      "\u001b[1;31mNameError\u001b[0m                                 Traceback (most recent call last)",
      "\u001b[1;32m<ipython-input-3-6b816b245b48>\u001b[0m in \u001b[0;36m<module>\u001b[1;34m\u001b[0m\n\u001b[0;32m     18\u001b[0m                           'NaN%': df.isnull().sum()/len(df)})\n\u001b[0;32m     19\u001b[0m     \u001b[1;32mreturn\u001b[0m \u001b[0mstatus\u001b[0m\u001b[1;33m\u001b[0m\u001b[1;33m\u001b[0m\u001b[0m\n\u001b[1;32m---> 20\u001b[1;33m \u001b[0mstatus_train\u001b[0m \u001b[1;33m=\u001b[0m \u001b[0mcreate_status\u001b[0m\u001b[1;33m(\u001b[0m\u001b[0mdf_train\u001b[0m\u001b[1;33m)\u001b[0m\u001b[1;33m\u001b[0m\u001b[1;33m\u001b[0m\u001b[0m\n\u001b[0m\u001b[0;32m     21\u001b[0m \u001b[0mstatus_train\u001b[0m\u001b[1;33m.\u001b[0m\u001b[0mreindex\u001b[0m\u001b[1;33m(\u001b[0m\u001b[0mcolumns\u001b[0m\u001b[1;33m=\u001b[0m\u001b[1;33m[\u001b[0m\u001b[1;34m'type'\u001b[0m\u001b[1;33m,\u001b[0m\u001b[1;34m'Sum of NaN'\u001b[0m\u001b[1;33m,\u001b[0m\u001b[1;34m'NaN%'\u001b[0m\u001b[1;33m]\u001b[0m\u001b[1;33m)\u001b[0m\u001b[1;33m.\u001b[0m\u001b[0msort_values\u001b[0m\u001b[1;33m(\u001b[0m\u001b[0mby\u001b[0m \u001b[1;33m=\u001b[0m \u001b[1;34m'Sum of NaN'\u001b[0m\u001b[1;33m,\u001b[0m \u001b[0mascending\u001b[0m\u001b[1;33m=\u001b[0m\u001b[1;32mFalse\u001b[0m\u001b[1;33m)\u001b[0m\u001b[1;33m.\u001b[0m\u001b[0mhead\u001b[0m\u001b[1;33m(\u001b[0m\u001b[1;36m15\u001b[0m\u001b[1;33m)\u001b[0m\u001b[1;33m\u001b[0m\u001b[1;33m\u001b[0m\u001b[0m\n",
      "\u001b[1;31mNameError\u001b[0m: name 'df_train' is not defined"
     ]
    }
   ],
   "source": [
    "\n",
    "def create_status(df):\n",
    "    \"\"\"create a status dataset giving the column name, type, sum of NaNs and percentage of NaNs \n",
    "    Args:\n",
    "    \n",
    "    df: dataset\n",
    "    \n",
    "    Return:\n",
    "    \n",
    "    status: dataset (columns: column names of df,\n",
    "                    type: type of the data in each column of df,\n",
    "                    Sum of NaN: sum of NaN values for each column in df,\n",
    "                    NaN%: percentage of NaN values for each column in df)\n",
    "    \"\"\"\n",
    "    \n",
    "    status= pd.DataFrame({'columns': df.columns,\n",
    "                          'type': df.dtypes,\n",
    "                          'Sum of NaN': df.isnull().sum(),\n",
    "                          'NaN%': df.isnull().sum()/len(df)})\n",
    "    return status\n",
    "status_train = create_status(df_train)\n",
    "status_train.reindex(columns=['type','Sum of NaN','NaN%']).sort_values(by = 'Sum of NaN', ascending=False).head(15)"
   ]
  },
  {
   "cell_type": "markdown",
   "metadata": {},
   "source": [
    "    Now it is easier to check some information about the dataset and think about some decisions during the preprocessing.\n",
    "    For example, think about the way to deal with the NaN values in the features."
   ]
  },
  {
   "cell_type": "markdown",
   "metadata": {},
   "source": [
    "## Feature Selection\n",
    "### Searching the features high correlated to our target feature (NU_NOTA_MT)."
   ]
  },
  {
   "cell_type": "code",
   "execution_count": 6,
   "metadata": {
    "scrolled": true
   },
   "outputs": [
    {
     "data": {
      "text/html": [
       "<div>\n",
       "<style scoped>\n",
       "    .dataframe tbody tr th:only-of-type {\n",
       "        vertical-align: middle;\n",
       "    }\n",
       "\n",
       "    .dataframe tbody tr th {\n",
       "        vertical-align: top;\n",
       "    }\n",
       "\n",
       "    .dataframe thead th {\n",
       "        text-align: right;\n",
       "    }\n",
       "</style>\n",
       "<table border=\"1\" class=\"dataframe\">\n",
       "  <thead>\n",
       "    <tr style=\"text-align: right;\">\n",
       "      <th></th>\n",
       "      <th>Unnamed: 0</th>\n",
       "      <th>NU_ANO</th>\n",
       "      <th>CO_MUNICIPIO_RESIDENCIA</th>\n",
       "      <th>CO_UF_RESIDENCIA</th>\n",
       "      <th>NU_IDADE</th>\n",
       "      <th>TP_ESTADO_CIVIL</th>\n",
       "      <th>TP_COR_RACA</th>\n",
       "      <th>TP_NACIONALIDADE</th>\n",
       "      <th>CO_MUNICIPIO_NASCIMENTO</th>\n",
       "      <th>CO_UF_NASCIMENTO</th>\n",
       "      <th>...</th>\n",
       "      <th>Q032</th>\n",
       "      <th>Q033</th>\n",
       "      <th>Q034</th>\n",
       "      <th>Q035</th>\n",
       "      <th>Q036</th>\n",
       "      <th>Q037</th>\n",
       "      <th>Q038</th>\n",
       "      <th>Q039</th>\n",
       "      <th>Q040</th>\n",
       "      <th>Q041</th>\n",
       "    </tr>\n",
       "  </thead>\n",
       "  <tbody>\n",
       "    <tr>\n",
       "      <th>Unnamed: 0</th>\n",
       "      <td>1.000000</td>\n",
       "      <td>NaN</td>\n",
       "      <td>-0.007258</td>\n",
       "      <td>-0.007250</td>\n",
       "      <td>-0.007201</td>\n",
       "      <td>0.003678</td>\n",
       "      <td>0.005707</td>\n",
       "      <td>-0.006217</td>\n",
       "      <td>-0.004527</td>\n",
       "      <td>-0.004615</td>\n",
       "      <td>...</td>\n",
       "      <td>0.001520</td>\n",
       "      <td>0.018074</td>\n",
       "      <td>0.001693</td>\n",
       "      <td>-0.008141</td>\n",
       "      <td>0.002724</td>\n",
       "      <td>-0.004914</td>\n",
       "      <td>0.003906</td>\n",
       "      <td>0.001002</td>\n",
       "      <td>-0.010967</td>\n",
       "      <td>-0.029937</td>\n",
       "    </tr>\n",
       "    <tr>\n",
       "      <th>NU_ANO</th>\n",
       "      <td>NaN</td>\n",
       "      <td>NaN</td>\n",
       "      <td>NaN</td>\n",
       "      <td>NaN</td>\n",
       "      <td>NaN</td>\n",
       "      <td>NaN</td>\n",
       "      <td>NaN</td>\n",
       "      <td>NaN</td>\n",
       "      <td>NaN</td>\n",
       "      <td>NaN</td>\n",
       "      <td>...</td>\n",
       "      <td>NaN</td>\n",
       "      <td>NaN</td>\n",
       "      <td>NaN</td>\n",
       "      <td>NaN</td>\n",
       "      <td>NaN</td>\n",
       "      <td>NaN</td>\n",
       "      <td>NaN</td>\n",
       "      <td>NaN</td>\n",
       "      <td>NaN</td>\n",
       "      <td>NaN</td>\n",
       "    </tr>\n",
       "    <tr>\n",
       "      <th>CO_MUNICIPIO_RESIDENCIA</th>\n",
       "      <td>-0.007258</td>\n",
       "      <td>NaN</td>\n",
       "      <td>1.000000</td>\n",
       "      <td>0.999865</td>\n",
       "      <td>-0.002296</td>\n",
       "      <td>0.020813</td>\n",
       "      <td>-0.236178</td>\n",
       "      <td>0.009710</td>\n",
       "      <td>0.865294</td>\n",
       "      <td>0.865216</td>\n",
       "      <td>...</td>\n",
       "      <td>0.004115</td>\n",
       "      <td>-0.030114</td>\n",
       "      <td>-0.050304</td>\n",
       "      <td>-0.050138</td>\n",
       "      <td>-0.040668</td>\n",
       "      <td>-0.013479</td>\n",
       "      <td>-0.032710</td>\n",
       "      <td>-0.094862</td>\n",
       "      <td>-0.077456</td>\n",
       "      <td>-0.033205</td>\n",
       "    </tr>\n",
       "    <tr>\n",
       "      <th>CO_UF_RESIDENCIA</th>\n",
       "      <td>-0.007250</td>\n",
       "      <td>NaN</td>\n",
       "      <td>0.999865</td>\n",
       "      <td>1.000000</td>\n",
       "      <td>-0.002017</td>\n",
       "      <td>0.020947</td>\n",
       "      <td>-0.234786</td>\n",
       "      <td>0.009433</td>\n",
       "      <td>0.864791</td>\n",
       "      <td>0.864919</td>\n",
       "      <td>...</td>\n",
       "      <td>0.003968</td>\n",
       "      <td>-0.030345</td>\n",
       "      <td>-0.050096</td>\n",
       "      <td>-0.049292</td>\n",
       "      <td>-0.040688</td>\n",
       "      <td>-0.013647</td>\n",
       "      <td>-0.032467</td>\n",
       "      <td>-0.094113</td>\n",
       "      <td>-0.076838</td>\n",
       "      <td>-0.033149</td>\n",
       "    </tr>\n",
       "    <tr>\n",
       "      <th>NU_IDADE</th>\n",
       "      <td>-0.007201</td>\n",
       "      <td>NaN</td>\n",
       "      <td>-0.002296</td>\n",
       "      <td>-0.002017</td>\n",
       "      <td>1.000000</td>\n",
       "      <td>0.533462</td>\n",
       "      <td>0.009675</td>\n",
       "      <td>-0.017713</td>\n",
       "      <td>-0.030711</td>\n",
       "      <td>-0.030259</td>\n",
       "      <td>...</td>\n",
       "      <td>-0.044791</td>\n",
       "      <td>0.025077</td>\n",
       "      <td>-0.030681</td>\n",
       "      <td>0.012739</td>\n",
       "      <td>0.021949</td>\n",
       "      <td>-0.003569</td>\n",
       "      <td>-0.035306</td>\n",
       "      <td>-0.069973</td>\n",
       "      <td>-0.010988</td>\n",
       "      <td>0.160526</td>\n",
       "    </tr>\n",
       "    <tr>\n",
       "      <th>...</th>\n",
       "      <td>...</td>\n",
       "      <td>...</td>\n",
       "      <td>...</td>\n",
       "      <td>...</td>\n",
       "      <td>...</td>\n",
       "      <td>...</td>\n",
       "      <td>...</td>\n",
       "      <td>...</td>\n",
       "      <td>...</td>\n",
       "      <td>...</td>\n",
       "      <td>...</td>\n",
       "      <td>...</td>\n",
       "      <td>...</td>\n",
       "      <td>...</td>\n",
       "      <td>...</td>\n",
       "      <td>...</td>\n",
       "      <td>...</td>\n",
       "      <td>...</td>\n",
       "      <td>...</td>\n",
       "      <td>...</td>\n",
       "      <td>...</td>\n",
       "    </tr>\n",
       "    <tr>\n",
       "      <th>Q037</th>\n",
       "      <td>-0.004914</td>\n",
       "      <td>NaN</td>\n",
       "      <td>-0.013479</td>\n",
       "      <td>-0.013647</td>\n",
       "      <td>-0.003569</td>\n",
       "      <td>0.002294</td>\n",
       "      <td>0.086642</td>\n",
       "      <td>0.032588</td>\n",
       "      <td>-0.024174</td>\n",
       "      <td>-0.024201</td>\n",
       "      <td>...</td>\n",
       "      <td>0.220839</td>\n",
       "      <td>0.225791</td>\n",
       "      <td>0.245757</td>\n",
       "      <td>0.202230</td>\n",
       "      <td>0.387722</td>\n",
       "      <td>1.000000</td>\n",
       "      <td>0.496678</td>\n",
       "      <td>0.254418</td>\n",
       "      <td>0.270380</td>\n",
       "      <td>0.187921</td>\n",
       "    </tr>\n",
       "    <tr>\n",
       "      <th>Q038</th>\n",
       "      <td>0.003906</td>\n",
       "      <td>NaN</td>\n",
       "      <td>-0.032710</td>\n",
       "      <td>-0.032467</td>\n",
       "      <td>-0.035306</td>\n",
       "      <td>-0.014725</td>\n",
       "      <td>0.069298</td>\n",
       "      <td>0.024112</td>\n",
       "      <td>-0.038666</td>\n",
       "      <td>-0.038305</td>\n",
       "      <td>...</td>\n",
       "      <td>0.159887</td>\n",
       "      <td>0.223508</td>\n",
       "      <td>0.215767</td>\n",
       "      <td>0.142610</td>\n",
       "      <td>0.378421</td>\n",
       "      <td>0.496678</td>\n",
       "      <td>1.000000</td>\n",
       "      <td>0.374424</td>\n",
       "      <td>0.259947</td>\n",
       "      <td>0.219529</td>\n",
       "    </tr>\n",
       "    <tr>\n",
       "      <th>Q039</th>\n",
       "      <td>0.001002</td>\n",
       "      <td>NaN</td>\n",
       "      <td>-0.094862</td>\n",
       "      <td>-0.094113</td>\n",
       "      <td>-0.069973</td>\n",
       "      <td>-0.066346</td>\n",
       "      <td>0.046830</td>\n",
       "      <td>0.011327</td>\n",
       "      <td>-0.097273</td>\n",
       "      <td>-0.096666</td>\n",
       "      <td>...</td>\n",
       "      <td>0.144264</td>\n",
       "      <td>0.206979</td>\n",
       "      <td>0.189252</td>\n",
       "      <td>0.225724</td>\n",
       "      <td>0.270343</td>\n",
       "      <td>0.254418</td>\n",
       "      <td>0.374424</td>\n",
       "      <td>1.000000</td>\n",
       "      <td>0.305357</td>\n",
       "      <td>0.262031</td>\n",
       "    </tr>\n",
       "    <tr>\n",
       "      <th>Q040</th>\n",
       "      <td>-0.010967</td>\n",
       "      <td>NaN</td>\n",
       "      <td>-0.077456</td>\n",
       "      <td>-0.076838</td>\n",
       "      <td>-0.010988</td>\n",
       "      <td>-0.022736</td>\n",
       "      <td>0.053556</td>\n",
       "      <td>0.014847</td>\n",
       "      <td>-0.081490</td>\n",
       "      <td>-0.080963</td>\n",
       "      <td>...</td>\n",
       "      <td>0.215292</td>\n",
       "      <td>0.176028</td>\n",
       "      <td>0.243190</td>\n",
       "      <td>0.179292</td>\n",
       "      <td>0.177025</td>\n",
       "      <td>0.270380</td>\n",
       "      <td>0.259947</td>\n",
       "      <td>0.305357</td>\n",
       "      <td>1.000000</td>\n",
       "      <td>0.306438</td>\n",
       "    </tr>\n",
       "    <tr>\n",
       "      <th>Q041</th>\n",
       "      <td>-0.029937</td>\n",
       "      <td>NaN</td>\n",
       "      <td>-0.033205</td>\n",
       "      <td>-0.033149</td>\n",
       "      <td>0.160526</td>\n",
       "      <td>0.108771</td>\n",
       "      <td>0.020966</td>\n",
       "      <td>0.008132</td>\n",
       "      <td>-0.042237</td>\n",
       "      <td>-0.042134</td>\n",
       "      <td>...</td>\n",
       "      <td>0.233832</td>\n",
       "      <td>0.205239</td>\n",
       "      <td>0.154743</td>\n",
       "      <td>0.113574</td>\n",
       "      <td>0.214736</td>\n",
       "      <td>0.187921</td>\n",
       "      <td>0.219529</td>\n",
       "      <td>0.262031</td>\n",
       "      <td>0.306438</td>\n",
       "      <td>1.000000</td>\n",
       "    </tr>\n",
       "  </tbody>\n",
       "</table>\n",
       "<p>107 rows × 107 columns</p>\n",
       "</div>"
      ],
      "text/plain": [
       "                         Unnamed: 0  NU_ANO  CO_MUNICIPIO_RESIDENCIA  \\\n",
       "Unnamed: 0                 1.000000     NaN                -0.007258   \n",
       "NU_ANO                          NaN     NaN                      NaN   \n",
       "CO_MUNICIPIO_RESIDENCIA   -0.007258     NaN                 1.000000   \n",
       "CO_UF_RESIDENCIA          -0.007250     NaN                 0.999865   \n",
       "NU_IDADE                  -0.007201     NaN                -0.002296   \n",
       "...                             ...     ...                      ...   \n",
       "Q037                      -0.004914     NaN                -0.013479   \n",
       "Q038                       0.003906     NaN                -0.032710   \n",
       "Q039                       0.001002     NaN                -0.094862   \n",
       "Q040                      -0.010967     NaN                -0.077456   \n",
       "Q041                      -0.029937     NaN                -0.033205   \n",
       "\n",
       "                         CO_UF_RESIDENCIA  NU_IDADE  TP_ESTADO_CIVIL  \\\n",
       "Unnamed: 0                      -0.007250 -0.007201         0.003678   \n",
       "NU_ANO                                NaN       NaN              NaN   \n",
       "CO_MUNICIPIO_RESIDENCIA          0.999865 -0.002296         0.020813   \n",
       "CO_UF_RESIDENCIA                 1.000000 -0.002017         0.020947   \n",
       "NU_IDADE                        -0.002017  1.000000         0.533462   \n",
       "...                                   ...       ...              ...   \n",
       "Q037                            -0.013647 -0.003569         0.002294   \n",
       "Q038                            -0.032467 -0.035306        -0.014725   \n",
       "Q039                            -0.094113 -0.069973        -0.066346   \n",
       "Q040                            -0.076838 -0.010988        -0.022736   \n",
       "Q041                            -0.033149  0.160526         0.108771   \n",
       "\n",
       "                         TP_COR_RACA  TP_NACIONALIDADE  \\\n",
       "Unnamed: 0                  0.005707         -0.006217   \n",
       "NU_ANO                           NaN               NaN   \n",
       "CO_MUNICIPIO_RESIDENCIA    -0.236178          0.009710   \n",
       "CO_UF_RESIDENCIA           -0.234786          0.009433   \n",
       "NU_IDADE                    0.009675         -0.017713   \n",
       "...                              ...               ...   \n",
       "Q037                        0.086642          0.032588   \n",
       "Q038                        0.069298          0.024112   \n",
       "Q039                        0.046830          0.011327   \n",
       "Q040                        0.053556          0.014847   \n",
       "Q041                        0.020966          0.008132   \n",
       "\n",
       "                         CO_MUNICIPIO_NASCIMENTO  CO_UF_NASCIMENTO  ...  \\\n",
       "Unnamed: 0                             -0.004527         -0.004615  ...   \n",
       "NU_ANO                                       NaN               NaN  ...   \n",
       "CO_MUNICIPIO_RESIDENCIA                 0.865294          0.865216  ...   \n",
       "CO_UF_RESIDENCIA                        0.864791          0.864919  ...   \n",
       "NU_IDADE                               -0.030711         -0.030259  ...   \n",
       "...                                          ...               ...  ...   \n",
       "Q037                                   -0.024174         -0.024201  ...   \n",
       "Q038                                   -0.038666         -0.038305  ...   \n",
       "Q039                                   -0.097273         -0.096666  ...   \n",
       "Q040                                   -0.081490         -0.080963  ...   \n",
       "Q041                                   -0.042237         -0.042134  ...   \n",
       "\n",
       "                             Q032      Q033      Q034      Q035      Q036  \\\n",
       "Unnamed: 0               0.001520  0.018074  0.001693 -0.008141  0.002724   \n",
       "NU_ANO                        NaN       NaN       NaN       NaN       NaN   \n",
       "CO_MUNICIPIO_RESIDENCIA  0.004115 -0.030114 -0.050304 -0.050138 -0.040668   \n",
       "CO_UF_RESIDENCIA         0.003968 -0.030345 -0.050096 -0.049292 -0.040688   \n",
       "NU_IDADE                -0.044791  0.025077 -0.030681  0.012739  0.021949   \n",
       "...                           ...       ...       ...       ...       ...   \n",
       "Q037                     0.220839  0.225791  0.245757  0.202230  0.387722   \n",
       "Q038                     0.159887  0.223508  0.215767  0.142610  0.378421   \n",
       "Q039                     0.144264  0.206979  0.189252  0.225724  0.270343   \n",
       "Q040                     0.215292  0.176028  0.243190  0.179292  0.177025   \n",
       "Q041                     0.233832  0.205239  0.154743  0.113574  0.214736   \n",
       "\n",
       "                             Q037      Q038      Q039      Q040      Q041  \n",
       "Unnamed: 0              -0.004914  0.003906  0.001002 -0.010967 -0.029937  \n",
       "NU_ANO                        NaN       NaN       NaN       NaN       NaN  \n",
       "CO_MUNICIPIO_RESIDENCIA -0.013479 -0.032710 -0.094862 -0.077456 -0.033205  \n",
       "CO_UF_RESIDENCIA        -0.013647 -0.032467 -0.094113 -0.076838 -0.033149  \n",
       "NU_IDADE                -0.003569 -0.035306 -0.069973 -0.010988  0.160526  \n",
       "...                           ...       ...       ...       ...       ...  \n",
       "Q037                     1.000000  0.496678  0.254418  0.270380  0.187921  \n",
       "Q038                     0.496678  1.000000  0.374424  0.259947  0.219529  \n",
       "Q039                     0.254418  0.374424  1.000000  0.305357  0.262031  \n",
       "Q040                     0.270380  0.259947  0.305357  1.000000  0.306438  \n",
       "Q041                     0.187921  0.219529  0.262031  0.306438  1.000000  \n",
       "\n",
       "[107 rows x 107 columns]"
      ]
     },
     "execution_count": 6,
     "metadata": {},
     "output_type": "execute_result"
    }
   ],
   "source": [
    "df_train.corr()"
   ]
  },
  {
   "cell_type": "markdown",
   "metadata": {},
   "source": [
    " Like before, searching for informating in a huge table like that can be very difficult and confuse.\n",
    " Let's try another approach."
   ]
  },
  {
   "cell_type": "code",
   "execution_count": 13,
   "metadata": {
    "scrolled": false
   },
   "outputs": [
    {
     "data": {
      "text/plain": [
       "NU_NOTA_MT         1.000000\n",
       "NU_NOTA_CH         0.486841\n",
       "NU_NOTA_CN         0.454966\n",
       "NU_NOTA_LC         0.454404\n",
       "NU_NOTA_REDACAO    0.359829\n",
       "NU_NOTA_COMP3      0.323907\n",
       "NU_NOTA_COMP2      0.317760\n",
       "NU_NOTA_COMP4      0.315616\n",
       "NU_NOTA_COMP1      0.306191\n",
       "NU_NOTA_COMP5      0.303174\n",
       "Name: NU_NOTA_MT, dtype: float64"
      ]
     },
     "execution_count": 13,
     "metadata": {},
     "output_type": "execute_result"
    }
   ],
   "source": [
    "# creating a table with the column names and their correlation to our target NU_NOTA_MT.\n",
    "corr_mt = df_train[df_train.columns[1:]].corr(method = 'spearman')['NU_NOTA_MT'][:]\n",
    "corr_mt_sorted =corr_mt.sort_values(ascending=False)\n",
    "corr_mt_sorted.head(10) # displaying the top 5 high correlated features"
   ]
  },
  {
   "cell_type": "markdown",
   "metadata": {},
   "source": [
    "Para ter uma visão melhor das correlações, eu filtrei a correlações somente pela feature target, com o propósito de encontrar as 10 features melhor correlacionadas ao nosso target.  "
   ]
  },
  {
   "cell_type": "code",
   "execution_count": 12,
   "metadata": {},
   "outputs": [],
   "source": [
    "# creating a list with the features high correlated to our target\n",
    "features = [x for x,y in corr_mt_sorted[1:5].items()] # target excluded\n",
    "features_corr = [x for x,y in corr_mt_sorted[0:5].items()] # target included"
   ]
  },
  {
   "cell_type": "markdown",
   "metadata": {},
   "source": [
    "As part of the decision of which features I should include in my model I decided for four features:\n",
    "   * NU_NOTA_CH, NU_NOTA_CN, NU_NOTA_LC, NU_NOTA_REDACAO\n",
    "   \n",
    "   \n",
    "**Description of the selected features:**\n",
    "* `NU_NOTA_CH`: Mark regarded to human science exam.\n",
    "* `NU_NOTA_CN`: Mark regarded to natural science exam.\n",
    "* `NU_NOTA_LC`: Mark regarded to languages and codes exam.\n",
    "* `NU_NOTA_REDACAO`: Mark regarded to the writen essay.\n",
    "\n",
    "I took this decision because the 5 following high correlated features are compositions of the feature  `'NU_NOTA_REDACAO'`, so in my understanding, this feature already express itself."
   ]
  },
  {
   "cell_type": "code",
   "execution_count": 14,
   "metadata": {},
   "outputs": [
    {
     "data": {
      "text/plain": [
       "['NU_NOTA_MT', 'NU_NOTA_CH', 'NU_NOTA_CN', 'NU_NOTA_LC', 'NU_NOTA_REDACAO']"
      ]
     },
     "execution_count": 14,
     "metadata": {},
     "output_type": "execute_result"
    }
   ],
   "source": [
    "# checking if we got the right features\n",
    "features_corr"
   ]
  },
  {
   "cell_type": "code",
   "execution_count": 15,
   "metadata": {},
   "outputs": [
    {
     "data": {
      "image/png": "[encoded data removed]",
      "text/plain": [
       "<Figure size 864x648 with 2 Axes>"
      ]
     },
     "metadata": {},
     "output_type": "display_data"
    }
   ],
   "source": [
    "# creating a correnlation heatmap with the chosen features\n",
    "correlation = df_train[features_corr].corr()\n",
    "sns.heatmap(correlation, annot=True, annot_kws={'size':10});"
   ]
  },
  {
   "cell_type": "code",
   "execution_count": 16,
   "metadata": {
    "scrolled": true
   },
   "outputs": [
    {
     "data": {
      "text/html": [
       "<div>\n",
       "<style scoped>\n",
       "    .dataframe tbody tr th:only-of-type {\n",
       "        vertical-align: middle;\n",
       "    }\n",
       "\n",
       "    .dataframe tbody tr th {\n",
       "        vertical-align: top;\n",
       "    }\n",
       "\n",
       "    .dataframe thead th {\n",
       "        text-align: right;\n",
       "    }\n",
       "</style>\n",
       "<table border=\"1\" class=\"dataframe\">\n",
       "  <thead>\n",
       "    <tr style=\"text-align: right;\">\n",
       "      <th></th>\n",
       "      <th>NU_NOTA_MT</th>\n",
       "      <th>NU_NOTA_CH</th>\n",
       "      <th>NU_NOTA_CN</th>\n",
       "      <th>NU_NOTA_LC</th>\n",
       "      <th>NU_NOTA_REDACAO</th>\n",
       "    </tr>\n",
       "  </thead>\n",
       "  <tbody>\n",
       "    <tr>\n",
       "      <th>count</th>\n",
       "      <td>10133.000000</td>\n",
       "      <td>10341.000000</td>\n",
       "      <td>10341.000000</td>\n",
       "      <td>10133.000000</td>\n",
       "      <td>10133.000000</td>\n",
       "    </tr>\n",
       "    <tr>\n",
       "      <th>mean</th>\n",
       "      <td>482.497928</td>\n",
       "      <td>529.661087</td>\n",
       "      <td>473.495155</td>\n",
       "      <td>516.472841</td>\n",
       "      <td>529.048258</td>\n",
       "    </tr>\n",
       "    <tr>\n",
       "      <th>std</th>\n",
       "      <td>99.826323</td>\n",
       "      <td>73.726344</td>\n",
       "      <td>71.093674</td>\n",
       "      <td>68.688190</td>\n",
       "      <td>154.294758</td>\n",
       "    </tr>\n",
       "    <tr>\n",
       "      <th>min</th>\n",
       "      <td>0.000000</td>\n",
       "      <td>0.000000</td>\n",
       "      <td>0.000000</td>\n",
       "      <td>0.000000</td>\n",
       "      <td>0.000000</td>\n",
       "    </tr>\n",
       "    <tr>\n",
       "      <th>25%</th>\n",
       "      <td>408.900000</td>\n",
       "      <td>480.400000</td>\n",
       "      <td>419.900000</td>\n",
       "      <td>468.100000</td>\n",
       "      <td>440.000000</td>\n",
       "    </tr>\n",
       "    <tr>\n",
       "      <th>50%</th>\n",
       "      <td>461.200000</td>\n",
       "      <td>532.000000</td>\n",
       "      <td>459.800000</td>\n",
       "      <td>520.900000</td>\n",
       "      <td>540.000000</td>\n",
       "    </tr>\n",
       "    <tr>\n",
       "      <th>75%</th>\n",
       "      <td>537.600000</td>\n",
       "      <td>581.200000</td>\n",
       "      <td>514.500000</td>\n",
       "      <td>564.900000</td>\n",
       "      <td>600.000000</td>\n",
       "    </tr>\n",
       "    <tr>\n",
       "      <th>max</th>\n",
       "      <td>952.000000</td>\n",
       "      <td>807.000000</td>\n",
       "      <td>806.400000</td>\n",
       "      <td>763.600000</td>\n",
       "      <td>1000.000000</td>\n",
       "    </tr>\n",
       "  </tbody>\n",
       "</table>\n",
       "</div>"
      ],
      "text/plain": [
       "         NU_NOTA_MT    NU_NOTA_CH    NU_NOTA_CN    NU_NOTA_LC  NU_NOTA_REDACAO\n",
       "count  10133.000000  10341.000000  10341.000000  10133.000000     10133.000000\n",
       "mean     482.497928    529.661087    473.495155    516.472841       529.048258\n",
       "std       99.826323     73.726344     71.093674     68.688190       154.294758\n",
       "min        0.000000      0.000000      0.000000      0.000000         0.000000\n",
       "25%      408.900000    480.400000    419.900000    468.100000       440.000000\n",
       "50%      461.200000    532.000000    459.800000    520.900000       540.000000\n",
       "75%      537.600000    581.200000    514.500000    564.900000       600.000000\n",
       "max      952.000000    807.000000    806.400000    763.600000      1000.000000"
      ]
     },
     "execution_count": 16,
     "metadata": {},
     "output_type": "execute_result"
    }
   ],
   "source": [
    "# statistical description of the features\n",
    "df_train[features_corr].describe()"
   ]
  },
  {
   "cell_type": "code",
   "execution_count": 20,
   "metadata": {},
   "outputs": [
    {
     "data": {
      "text/html": [
       "<div>\n",
       "<style scoped>\n",
       "    .dataframe tbody tr th:only-of-type {\n",
       "        vertical-align: middle;\n",
       "    }\n",
       "\n",
       "    .dataframe tbody tr th {\n",
       "        vertical-align: top;\n",
       "    }\n",
       "\n",
       "    .dataframe thead th {\n",
       "        text-align: right;\n",
       "    }\n",
       "</style>\n",
       "<table border=\"1\" class=\"dataframe\">\n",
       "  <thead>\n",
       "    <tr style=\"text-align: right;\">\n",
       "      <th></th>\n",
       "      <th>NaN%</th>\n",
       "    </tr>\n",
       "  </thead>\n",
       "  <tbody>\n",
       "    <tr>\n",
       "      <th>NU_NOTA_CH</th>\n",
       "      <td>0.246832</td>\n",
       "    </tr>\n",
       "    <tr>\n",
       "      <th>NU_NOTA_CN</th>\n",
       "      <td>0.246832</td>\n",
       "    </tr>\n",
       "    <tr>\n",
       "      <th>NU_NOTA_LC</th>\n",
       "      <td>0.261981</td>\n",
       "    </tr>\n",
       "    <tr>\n",
       "      <th>NU_NOTA_REDACAO</th>\n",
       "      <td>0.261981</td>\n",
       "    </tr>\n",
       "  </tbody>\n",
       "</table>\n",
       "</div>"
      ],
      "text/plain": [
       "                     NaN%\n",
       "NU_NOTA_CH       0.246832\n",
       "NU_NOTA_CN       0.246832\n",
       "NU_NOTA_LC       0.261981\n",
       "NU_NOTA_REDACAO  0.261981"
      ]
     },
     "execution_count": 20,
     "metadata": {},
     "output_type": "execute_result"
    }
   ],
   "source": [
    "# Cheking the NaN percentage of the chosen features\n",
    "status_train.loc[['NU_NOTA_CH', 'NU_NOTA_CN', 'NU_NOTA_LC', 'NU_NOTA_REDACAO'], ['NaN%']]"
   ]
  },
  {
   "cell_type": "markdown",
   "metadata": {},
   "source": [
    "### Treating the NaN values\n",
    "\n",
    "To treat the NaN values, first I decided to visualize de normal distribution of the features following to hypothesis.\n",
    "\n",
    "1. dropping the NaN values\n",
    "\n",
    "2. Second: replacing the NaN values with zeros\n",
    "\n"
   ]
  },
  {
   "cell_type": "code",
   "execution_count": 24,
   "metadata": {
    "scrolled": true
   },
   "outputs": [
    {
     "data": {
      "image/png": "[encoded data removed]",
      "text/plain": [
       "<Figure size 864x648 with 4 Axes>"
      ]
     },
     "metadata": {},
     "output_type": "display_data"
    }
   ],
   "source": [
    "# visualizing each feature chosen in the train and test datasets dropping the NaN values\n",
    "for i in range(1,len(features_corr)):\n",
    "    plt.title(features_corr[i])\n",
    "    ax=plt.subplot(3, 4, i)\n",
    "    sns.distplot(df_train[features_corr[i]].dropna())\n",
    "    sns.distplot(df_test[features_corr[i]].dropna())\n",
    "\n",
    "\n",
    "    ax.set_title(features_corr[i])\n",
    "    ax.set_xlabel('')\n",
    "    plt.legend(labels=['Train', 'Test'], ncol=2, loc='upper right')\n",
    "plt.tight_layout()\n"
   ]
  },
  {
   "cell_type": "markdown",
   "metadata": {},
   "source": [
    "* We can see that the values follow the normal distribution.\n",
    "* The feature `NU_NOTA_REDACAO` has two distribution, the first one is arround zero showing that a certain number of students got zero in their writen essay. "
   ]
  },
  {
   "cell_type": "code",
   "execution_count": 25,
   "metadata": {
    "scrolled": true
   },
   "outputs": [
    {
     "data": {
      "image/png": "[encoded data removed]",
      "text/plain": [
       "<Figure size 864x648 with 4 Axes>"
      ]
     },
     "metadata": {},
     "output_type": "display_data"
    }
   ],
   "source": [
    "# visualizing each feature chosen in the train and test datasets replacing the NaN values with zeros\n",
    "for i in range(1,len(features_corr)):\n",
    "    plt.title(features_corr[i])\n",
    "    ax=plt.subplot(3, 4, i)\n",
    "    sns.distplot(df_train[features_corr[i]].fillna(0))\n",
    "    sns.distplot(df_test[features_corr[i]].fillna(0))\n",
    "\n",
    "\n",
    "    ax.set_title(features_corr[i])\n",
    "    ax.set_xlabel('')\n",
    "    plt.legend(labels=['Train', 'Test'], ncol=2, loc='upper right')\n",
    "plt.tight_layout()\n",
    "plt.show()"
   ]
  },
  {
   "cell_type": "markdown",
   "metadata": {},
   "source": [
    "* For the second case, we can see that replacing the NaN values with zeros created a new distribution around zero in the features. "
   ]
  },
  {
   "cell_type": "code",
   "execution_count": 26,
   "metadata": {},
   "outputs": [],
   "source": [
    "# creating a shallow copy of the datasets for the purpos of tests\n",
    "aux_train = df_train[features_corr].copy()\n",
    "aux_test = df_test[features].copy()"
   ]
  },
  {
   "cell_type": "code",
   "execution_count": 27,
   "metadata": {
    "scrolled": true
   },
   "outputs": [],
   "source": [
    "aux_train.fillna(0, inplace=True)\n",
    "aux_test.fillna(0, inplace=True)"
   ]
  },
  {
   "cell_type": "markdown",
   "metadata": {},
   "source": [
    "*Note: for the purpose of this challenge I had to choose to replace the NaN values with zeros as one of the requirements of the challenge was that the dataset has to have the same size of the original one.*"
   ]
  },
  {
   "cell_type": "markdown",
   "metadata": {},
   "source": [
    "## Data Preprocessing \n",
    "\n",
    "The dataset was already split into train and test datasets, so the only thing I had to do is to adress them to variables that will be used in our machine learning models."
   ]
  },
  {
   "cell_type": "code",
   "execution_count": 37,
   "metadata": {},
   "outputs": [],
   "source": [
    "target_train = aux_train['NU_NOTA_MT'] # setting our target variable\n",
    "x_train = aux_train[features] # setting our X train with the chosen features\n",
    "X_test = aux_test # setting our X test with the chosen features"
   ]
  },
  {
   "cell_type": "markdown",
   "metadata": {},
   "source": [
    "# Regression Models"
   ]
  },
  {
   "cell_type": "markdown",
   "metadata": {},
   "source": [
    "## Model Validation\n",
    "In this section, we will investigate three different algorithms, and determine which is best at modeling the data."
   ]
  },
  {
   "cell_type": "markdown",
   "metadata": {},
   "source": [
    "There's a set of merics for us to validate de performance of our linear regression models. Those metrics can be used to compare models and to adjust de hiperparameters values.\n",
    "\n",
    "### $R^{2}$\n",
    "\n",
    "The $ R ^ {2} $, or coefficient of determination, is a classic metric for regression validation.\n",
    "\n",
    "The $ R ^ {2} $ is a value ranging from 0 to 1. The closer to zero, the less the model explains the total variance, that is, the lower the model's performance. The closer to one, the greater the portion of the variance explained by the model, that is, the better the model.\n",
    "\n",
    "### _Mean Squared Error_\n",
    "\n",
    "\n",
    "This value, unlike $ R ^ {2} $, is always strictly non-negative (being zero in the case of a perfect fit to the data). The closer to zero, the better the performance of the model, because the differences between the predictions and the real values ​​is smaller.\n",
    "\n",
    "This value alone does not pass much information, and therefore the MSE is better used when comparing models.\n",
    "\n",
    "### _Median Absolute Error_\n",
    "\n",
    "Another interesting measure is MedAE, the median of prediction errors. This metric is robust to the presence of _outliers_, as it considers the quantiles of the results instead of the average, which is much more sensitive to extreme variations.\n",
    "\n",
    "This value assumes any real value and, like any error measure, the smaller, the better the model. Like the MSE, this value alone does not say much, and is best used when comparing models."
   ]
  },
  {
   "cell_type": "code",
   "execution_count": 38,
   "metadata": {},
   "outputs": [],
   "source": [
    "# Import metrics to evaluate the best algorithm\n",
    "from sklearn.metrics import mean_squared_error, median_absolute_error, r2_score"
   ]
  },
  {
   "cell_type": "markdown",
   "metadata": {},
   "source": [
    "## Model Application \n",
    "\n",
    "Now we'll pick two regression models above that are appropriate for this problem, and test them on the training dataset."
   ]
  },
  {
   "cell_type": "markdown",
   "metadata": {},
   "source": [
    "### Linear Regression\n",
    "\n",
    "Is used for predictive analysis. Linear regression is a linear approach for modeling the relationship between the criterion or the scalar response and the multiple predictors or explanatory variables. Linear regression focuses on the conditional probability distribution of the response given the values of the predictors.\n",
    "\n",
    "* Strenghts:\n",
    "    * Fast and easy to model and is particularly useful when the relationship to be modeled is not extremely complex and if you don’t have a lot of data.\n",
    "    * Very intuitive to understand and interpret.\n",
    "\n",
    "* Weaknesses:\n",
    "    * Linear Regression is very sensitive to outliers.\n",
    "    \n",
    "References:\n",
    "\n",
    "https://towardsdatascience.com/5-types-of-regression-and-their-properties-c5e1fa12d55e\n",
    "    \n",
    "https://www.geeksforgeeks.org/types-of-regression-techniques/"
   ]
  },
  {
   "cell_type": "code",
   "execution_count": 63,
   "metadata": {},
   "outputs": [],
   "source": [
    "# Importing regression model algorithm \n",
    "from sklearn.linear_model import LinearRegression"
   ]
  },
  {
   "cell_type": "code",
   "execution_count": 64,
   "metadata": {},
   "outputs": [],
   "source": [
    "regressor = LinearRegression()"
   ]
  },
  {
   "cell_type": "code",
   "execution_count": 65,
   "metadata": {},
   "outputs": [],
   "source": [
    "# Checking the runtime for the algorithm\n",
    "start = time()\n",
    "regressor.fit(x_train, target_train)\n",
    "end = time()"
   ]
  },
  {
   "cell_type": "code",
   "execution_count": 78,
   "metadata": {
    "scrolled": true
   },
   "outputs": [],
   "source": [
    "# Predicting in the df_train dataset\n",
    "predicted = regressor.predict(x_train)"
   ]
  },
  {
   "cell_type": "code",
   "execution_count": 85,
   "metadata": {
    "scrolled": true
   },
   "outputs": [
    {
     "name": "stdout",
     "output_type": "stream",
     "text": [
      "Processing time: 0.006 s  R2: 0.903 MSE: 5097.347 MedAE: 36.154\n"
     ]
    }
   ],
   "source": [
    "# printing the runtime and the metrics of the model \n",
    "print(f'Processing time: {round(end-start, 3)} s ',\n",
    "      f'R2: {round(r2_score(target_train, predicted),3)}',\n",
    "      f'MSE: {round(mean_squared_error(target_train, predicted),3)}',\n",
    "      f'MedAE: {round(median_absolute_error(target_train, predicted),3)}')"
   ]
  },
  {
   "cell_type": "markdown",
   "metadata": {},
   "source": [
    "### Random Forest Regressor\n",
    "\n",
    "The random forest is an ensemble approach that can also be thought of as a form of nearest neighbor predictor.\n",
    "\n",
    "Ensembles are a divide-and-conquer approach used to improve performance. The main principle behind ensemble methods is that a group of “weak learners” can come together to form a “strong learner”. The figure below (taken from here) provides an example. Each classifier, individually, is a “weak learner,” while all the classifiers taken together are a “strong learner”.\n",
    "\n",
    "* Strenghts:\n",
    "\n",
    "    * Random forest can solve both type of problems that is classification and regression and does a decent estimation at both fronts.\n",
    "    * One of benefits of Random Forest which exists me most is, the power of handle large data sets with higher dimensionality. It can handle thousands of input variables and identity most significant variables so it is considered as one of the dimensionality reduction method. Further, the model outputs importance of variable, which can be a very handy feature.\n",
    "    * It has an effective method for estimating missing data and maintains accuracy when large proportion of the data are missing.\n",
    "    * It has methods for balancing errors in data sets where classes are imbalanced.\n",
    "    * The capability of the above can be extended to unlabeled data, leading to unsupervised clustering,data views and outlier detection.\n",
    "    * Random forest involves sampling of the input data with replacement called as bootstrap sampling. Here one third of data is not used for training and can be used to testing. These are called the OUT OF BAG samples. Error estimated on these out put bag samples is know as out of bag error. Study of error estimates by out of bag, gives avidenc to show that the out of bag estimate is as accurate as using a test set of the same size as the training set. Therefore, using the out of bag error estimate removes the need for a set aside test set.\n",
    "\n",
    "* Weaknesses::\n",
    "\n",
    "    * It surely does a good job at classification but not as for regression problem as it does not gives precise continuous nature prediction. In case of regression, it doesn't predict beyond the range in the training data, and that they may over fit data sets that are particularly noisy.\n",
    "    * Random forest can feel like a black box approach for a statistical modelers we have very little control on what the model does. You can at best try different parameters and random seeds.\n",
    "    \n",
    "References: \n",
    "\n",
    "https://blog.citizennet.com/blog/2012/11/10/random-forests-ensembles-and-performance-metrics#:~:text=must%20be%20discovered.-,Strengths%20and%20weaknesses.,sets%20that%20are%20particularly%20noisy.\n",
    "\n",
    "https://www.quora.com/What-are-the-advantages-and-disadvantages-for-a-random-forest-algorithm"
   ]
  },
  {
   "cell_type": "code",
   "execution_count": 79,
   "metadata": {},
   "outputs": [],
   "source": [
    "# Importing regression model algorithm \n",
    "from sklearn.ensemble import RandomForestRegressor"
   ]
  },
  {
   "cell_type": "code",
   "execution_count": 80,
   "metadata": {},
   "outputs": [],
   "source": [
    "random_forest = RandomForestRegressor(n_estimators=100, random_state=777)"
   ]
  },
  {
   "cell_type": "code",
   "execution_count": 81,
   "metadata": {
    "scrolled": true
   },
   "outputs": [],
   "source": [
    "# Checking the runtime for the algorithm\n",
    "rf_start = time()\n",
    "random_forest.fit(x_train, target_train)\n",
    "rf_end = time()"
   ]
  },
  {
   "cell_type": "code",
   "execution_count": 82,
   "metadata": {},
   "outputs": [],
   "source": [
    "# Predicting in the df_train dataset\n",
    "rf_predicted = random_forest.predict(x_train)"
   ]
  },
  {
   "cell_type": "code",
   "execution_count": 83,
   "metadata": {},
   "outputs": [],
   "source": [
    "# Predicting in the df_test dataset\n",
    "rf_predicted_test = random_forest.predict(X_test)"
   ]
  },
  {
   "cell_type": "code",
   "execution_count": 84,
   "metadata": {},
   "outputs": [
    {
     "name": "stdout",
     "output_type": "stream",
     "text": [
      "Processing time: 5.172 s  R2: 0.988 MSE: 618.133 MedAE: 11.676\n"
     ]
    }
   ],
   "source": [
    "# printing the runtime and the metrics of the model \n",
    "print(f'Processing time: {round(rf_end-rf_start, 3)} s ',\n",
    "      f'R2: {round(r2_score(target_train, rf_predicted),3)}',\n",
    "      f'MSE: {round(mean_squared_error(target_train, rf_predicted),3)}',\n",
    "      f'MedAE: {round(median_absolute_error(target_train, rf_predicted),3)}')"
   ]
  },
  {
   "cell_type": "code",
   "execution_count": 86,
   "metadata": {},
   "outputs": [],
   "source": [
    "# saving the students' ids in a new table\n",
    "NU_INSCRICAO = df_test['NU_INSCRICAO'].values"
   ]
  },
  {
   "cell_type": "code",
   "execution_count": 87,
   "metadata": {},
   "outputs": [],
   "source": [
    "# creating a new dataset only with the ids and the test predicted results\n",
    "final = pd.DataFrame(list(zip(NU_INSCRICAO, rf_predicted_test)), columns = ['NU_INSCRICAO', 'NU_NOTA_MT'])\n",
    "final.to_csv('answer.csv', sep=',', index=False)"
   ]
  },
  {
   "cell_type": "markdown",
   "metadata": {},
   "source": [
    "# Conclusion\n",
    "\n",
    "Even though the linear regression had a runtime considerably smaller than the random forest regressor, when we compare the metrics between the two algorithms, we see that the performance of the RF regressor was much greater than the Linear Regression algorithm. The $ R ^ {2} $ for the RF regressor was way closer to 1 than the linear regressor, also the difference in the MSE metric between the algorithms was   substantial.\n",
    "\n",
    "For those reasons the model chosen was the  Random Forest Regressor.\n",
    "\n",
    "_Note: Codenation doesn't reveal it's evaluation process. When I uploaded my `rf_predicted_test` in their system I got the score of 93.87 %._\n"
   ]
  }
 ],
 "metadata": {
  "kernelspec": {
   "display_name": "Python 3",
   "language": "python",
   "name": "python3"
  },
  "language_info": {
   "codemirror_mode": {
    "name": "ipython",
    "version": 3
   },
   "file_extension": ".py",
   "mimetype": "text/x-python",
   "name": "python",
   "nbconvert_exporter": "python",
   "pygments_lexer": "ipython3",
   "version": "3.7.3"
  }
 },
 "nbformat": 4,
 "nbformat_minor": 4
}
