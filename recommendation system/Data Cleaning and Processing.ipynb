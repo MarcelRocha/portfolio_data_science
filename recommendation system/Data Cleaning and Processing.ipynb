{
 "cells": [
  {
   "cell_type": "markdown",
   "metadata": {},
   "source": [
    "# Exploring the Data\n",
    "\n",
    "Let's start with importing the necessary libaries, reading in the data, and checking out the dataset."
   ]
  },
  {
   "cell_type": "code",
   "execution_count": 1,
   "metadata": {},
   "outputs": [],
   "source": [
    "# Import libraries necessary for this project\n",
    "import pandas as pd\n",
    "import seaborn as sns\n",
    "import numpy as np\n",
    "import matplotlib.pyplot as plt\n",
    "from sklearn.preprocessing import LabelEncoder, MinMaxScaler"
   ]
  },
  {
   "cell_type": "code",
   "execution_count": 2,
   "metadata": {},
   "outputs": [],
   "source": [
    "# Image settings for visualization\n",
    "from IPython.core.pylabtools import figsize\n",
    "\n",
    "figsize(12, 9)\n",
    "\n",
    "sns.set()"
   ]
  },
  {
   "cell_type": "code",
   "execution_count": 3,
   "metadata": {},
   "outputs": [],
   "source": [
    "# loading the database\n",
    "market = pd.read_csv('mercado.csv', index_col='id')"
   ]
  },
  {
   "cell_type": "code",
   "execution_count": 4,
   "metadata": {},
   "outputs": [
    {
     "data": {
      "text/plain": [
       "(462298, 181)"
      ]
     },
     "execution_count": 4,
     "metadata": {},
     "output_type": "execute_result"
    }
   ],
   "source": [
    "# getting to know the size of the dataset \n",
    "market.shape"
   ]
  },
  {
   "cell_type": "code",
   "execution_count": 5,
   "metadata": {
    "scrolled": true
   },
   "outputs": [
    {
     "data": {
      "text/html": [
       "<div>\n",
       "<style scoped>\n",
       "    .dataframe tbody tr th:only-of-type {\n",
       "        vertical-align: middle;\n",
       "    }\n",
       "\n",
       "    .dataframe tbody tr th {\n",
       "        vertical-align: top;\n",
       "    }\n",
       "\n",
       "    .dataframe thead th {\n",
       "        text-align: right;\n",
       "    }\n",
       "</style>\n",
       "<table border=\"1\" class=\"dataframe\">\n",
       "  <thead>\n",
       "    <tr style=\"text-align: right;\">\n",
       "      <th></th>\n",
       "      <th>Unnamed: 0</th>\n",
       "      <th>fl_matriz</th>\n",
       "      <th>de_natureza_juridica</th>\n",
       "      <th>sg_uf</th>\n",
       "      <th>natureza_juridica_macro</th>\n",
       "      <th>de_ramo</th>\n",
       "      <th>setor</th>\n",
       "      <th>idade_empresa_anos</th>\n",
       "      <th>idade_emp_cat</th>\n",
       "      <th>fl_me</th>\n",
       "      <th>...</th>\n",
       "      <th>media_meses_servicos</th>\n",
       "      <th>max_meses_servicos</th>\n",
       "      <th>min_meses_servicos</th>\n",
       "      <th>qt_funcionarios</th>\n",
       "      <th>qt_funcionarios_12meses</th>\n",
       "      <th>qt_funcionarios_24meses</th>\n",
       "      <th>tx_crescimento_12meses</th>\n",
       "      <th>tx_crescimento_24meses</th>\n",
       "      <th>tx_rotatividade</th>\n",
       "      <th>qt_filiais</th>\n",
       "    </tr>\n",
       "    <tr>\n",
       "      <th>id</th>\n",
       "      <th></th>\n",
       "      <th></th>\n",
       "      <th></th>\n",
       "      <th></th>\n",
       "      <th></th>\n",
       "      <th></th>\n",
       "      <th></th>\n",
       "      <th></th>\n",
       "      <th></th>\n",
       "      <th></th>\n",
       "      <th></th>\n",
       "      <th></th>\n",
       "      <th></th>\n",
       "      <th></th>\n",
       "      <th></th>\n",
       "      <th></th>\n",
       "      <th></th>\n",
       "      <th></th>\n",
       "      <th></th>\n",
       "      <th></th>\n",
       "      <th></th>\n",
       "    </tr>\n",
       "  </thead>\n",
       "  <tbody>\n",
       "    <tr>\n",
       "      <th>a6984c3ae395090e3bee8ad63c3758b110de096d5d819583a784a113726db849</th>\n",
       "      <td>0</td>\n",
       "      <td>True</td>\n",
       "      <td>SOCIEDADE EMPRESARIA LIMITADA</td>\n",
       "      <td>RN</td>\n",
       "      <td>ENTIDADES EMPRESARIAIS</td>\n",
       "      <td>INDUSTRIA DA CONSTRUCAO</td>\n",
       "      <td>CONSTRUÇÃO CIVIL</td>\n",
       "      <td>14.457534</td>\n",
       "      <td>10 a 15</td>\n",
       "      <td>False</td>\n",
       "      <td>...</td>\n",
       "      <td>43.738462</td>\n",
       "      <td>93.266667</td>\n",
       "      <td>19.166667</td>\n",
       "      <td>26.0</td>\n",
       "      <td>26.0</td>\n",
       "      <td>27.0</td>\n",
       "      <td>0.0</td>\n",
       "      <td>-3.703704</td>\n",
       "      <td>0.0</td>\n",
       "      <td>0</td>\n",
       "    </tr>\n",
       "    <tr>\n",
       "      <th>6178f41ade1365e44bc2c46654c2c8c0eaae27dcb476c47fdef50b33f4f56f05</th>\n",
       "      <td>1</td>\n",
       "      <td>True</td>\n",
       "      <td>EMPRESARIO INDIVIDUAL</td>\n",
       "      <td>PI</td>\n",
       "      <td>OUTROS</td>\n",
       "      <td>SERVICOS DE ALOJAMENTO/ALIMENTACAO</td>\n",
       "      <td>SERVIÇO</td>\n",
       "      <td>1.463014</td>\n",
       "      <td>1 a 5</td>\n",
       "      <td>False</td>\n",
       "      <td>...</td>\n",
       "      <td>NaN</td>\n",
       "      <td>NaN</td>\n",
       "      <td>NaN</td>\n",
       "      <td>NaN</td>\n",
       "      <td>NaN</td>\n",
       "      <td>NaN</td>\n",
       "      <td>NaN</td>\n",
       "      <td>NaN</td>\n",
       "      <td>NaN</td>\n",
       "      <td>0</td>\n",
       "    </tr>\n",
       "    <tr>\n",
       "      <th>4a7e5069a397f12fdd7fd57111d6dc5d3ba558958efc02edc5147bc2a2535b08</th>\n",
       "      <td>2</td>\n",
       "      <td>True</td>\n",
       "      <td>EMPRESARIO INDIVIDUAL</td>\n",
       "      <td>AM</td>\n",
       "      <td>OUTROS</td>\n",
       "      <td>TRANSPORTE, ARMAZENAGEM E CORREIO</td>\n",
       "      <td>SERVIÇO</td>\n",
       "      <td>7.093151</td>\n",
       "      <td>5 a 10</td>\n",
       "      <td>False</td>\n",
       "      <td>...</td>\n",
       "      <td>NaN</td>\n",
       "      <td>NaN</td>\n",
       "      <td>NaN</td>\n",
       "      <td>NaN</td>\n",
       "      <td>NaN</td>\n",
       "      <td>NaN</td>\n",
       "      <td>NaN</td>\n",
       "      <td>NaN</td>\n",
       "      <td>NaN</td>\n",
       "      <td>0</td>\n",
       "    </tr>\n",
       "    <tr>\n",
       "      <th>3348900fe63216a439d2e5238c79ddd46ede454df7b9d8c24ac33eb21d4b21ef</th>\n",
       "      <td>3</td>\n",
       "      <td>True</td>\n",
       "      <td>EMPRESARIO INDIVIDUAL</td>\n",
       "      <td>AM</td>\n",
       "      <td>OUTROS</td>\n",
       "      <td>SERVICOS DIVERSOS</td>\n",
       "      <td>SERVIÇO</td>\n",
       "      <td>6.512329</td>\n",
       "      <td>5 a 10</td>\n",
       "      <td>False</td>\n",
       "      <td>...</td>\n",
       "      <td>NaN</td>\n",
       "      <td>NaN</td>\n",
       "      <td>NaN</td>\n",
       "      <td>NaN</td>\n",
       "      <td>NaN</td>\n",
       "      <td>NaN</td>\n",
       "      <td>NaN</td>\n",
       "      <td>NaN</td>\n",
       "      <td>NaN</td>\n",
       "      <td>0</td>\n",
       "    </tr>\n",
       "    <tr>\n",
       "      <th>1f9bcabc9d3173c1fe769899e4fac14b053037b953a1e4b102c769f7611ab29f</th>\n",
       "      <td>4</td>\n",
       "      <td>True</td>\n",
       "      <td>EMPRESARIO INDIVIDUAL</td>\n",
       "      <td>RN</td>\n",
       "      <td>OUTROS</td>\n",
       "      <td>SERVICOS PROFISSIONAIS, TECNICOS E CIENTIFICOS</td>\n",
       "      <td>SERVIÇO</td>\n",
       "      <td>3.200000</td>\n",
       "      <td>1 a 5</td>\n",
       "      <td>False</td>\n",
       "      <td>...</td>\n",
       "      <td>NaN</td>\n",
       "      <td>NaN</td>\n",
       "      <td>NaN</td>\n",
       "      <td>NaN</td>\n",
       "      <td>NaN</td>\n",
       "      <td>NaN</td>\n",
       "      <td>NaN</td>\n",
       "      <td>NaN</td>\n",
       "      <td>NaN</td>\n",
       "      <td>0</td>\n",
       "    </tr>\n",
       "  </tbody>\n",
       "</table>\n",
       "<p>5 rows × 181 columns</p>\n",
       "</div>"
      ],
      "text/plain": [
       "                                                    Unnamed: 0  fl_matriz  \\\n",
       "id                                                                          \n",
       "a6984c3ae395090e3bee8ad63c3758b110de096d5d81958...           0       True   \n",
       "6178f41ade1365e44bc2c46654c2c8c0eaae27dcb476c47...           1       True   \n",
       "4a7e5069a397f12fdd7fd57111d6dc5d3ba558958efc02e...           2       True   \n",
       "3348900fe63216a439d2e5238c79ddd46ede454df7b9d8c...           3       True   \n",
       "1f9bcabc9d3173c1fe769899e4fac14b053037b953a1e4b...           4       True   \n",
       "\n",
       "                                                             de_natureza_juridica  \\\n",
       "id                                                                                  \n",
       "a6984c3ae395090e3bee8ad63c3758b110de096d5d81958...  SOCIEDADE EMPRESARIA LIMITADA   \n",
       "6178f41ade1365e44bc2c46654c2c8c0eaae27dcb476c47...          EMPRESARIO INDIVIDUAL   \n",
       "4a7e5069a397f12fdd7fd57111d6dc5d3ba558958efc02e...          EMPRESARIO INDIVIDUAL   \n",
       "3348900fe63216a439d2e5238c79ddd46ede454df7b9d8c...          EMPRESARIO INDIVIDUAL   \n",
       "1f9bcabc9d3173c1fe769899e4fac14b053037b953a1e4b...          EMPRESARIO INDIVIDUAL   \n",
       "\n",
       "                                                   sg_uf  \\\n",
       "id                                                         \n",
       "a6984c3ae395090e3bee8ad63c3758b110de096d5d81958...    RN   \n",
       "6178f41ade1365e44bc2c46654c2c8c0eaae27dcb476c47...    PI   \n",
       "4a7e5069a397f12fdd7fd57111d6dc5d3ba558958efc02e...    AM   \n",
       "3348900fe63216a439d2e5238c79ddd46ede454df7b9d8c...    AM   \n",
       "1f9bcabc9d3173c1fe769899e4fac14b053037b953a1e4b...    RN   \n",
       "\n",
       "                                                   natureza_juridica_macro  \\\n",
       "id                                                                           \n",
       "a6984c3ae395090e3bee8ad63c3758b110de096d5d81958...  ENTIDADES EMPRESARIAIS   \n",
       "6178f41ade1365e44bc2c46654c2c8c0eaae27dcb476c47...                  OUTROS   \n",
       "4a7e5069a397f12fdd7fd57111d6dc5d3ba558958efc02e...                  OUTROS   \n",
       "3348900fe63216a439d2e5238c79ddd46ede454df7b9d8c...                  OUTROS   \n",
       "1f9bcabc9d3173c1fe769899e4fac14b053037b953a1e4b...                  OUTROS   \n",
       "\n",
       "                                                                                           de_ramo  \\\n",
       "id                                                                                                   \n",
       "a6984c3ae395090e3bee8ad63c3758b110de096d5d81958...                         INDUSTRIA DA CONSTRUCAO   \n",
       "6178f41ade1365e44bc2c46654c2c8c0eaae27dcb476c47...              SERVICOS DE ALOJAMENTO/ALIMENTACAO   \n",
       "4a7e5069a397f12fdd7fd57111d6dc5d3ba558958efc02e...               TRANSPORTE, ARMAZENAGEM E CORREIO   \n",
       "3348900fe63216a439d2e5238c79ddd46ede454df7b9d8c...                               SERVICOS DIVERSOS   \n",
       "1f9bcabc9d3173c1fe769899e4fac14b053037b953a1e4b...  SERVICOS PROFISSIONAIS, TECNICOS E CIENTIFICOS   \n",
       "\n",
       "                                                               setor  \\\n",
       "id                                                                     \n",
       "a6984c3ae395090e3bee8ad63c3758b110de096d5d81958...  CONSTRUÇÃO CIVIL   \n",
       "6178f41ade1365e44bc2c46654c2c8c0eaae27dcb476c47...           SERVIÇO   \n",
       "4a7e5069a397f12fdd7fd57111d6dc5d3ba558958efc02e...           SERVIÇO   \n",
       "3348900fe63216a439d2e5238c79ddd46ede454df7b9d8c...           SERVIÇO   \n",
       "1f9bcabc9d3173c1fe769899e4fac14b053037b953a1e4b...           SERVIÇO   \n",
       "\n",
       "                                                    idade_empresa_anos  \\\n",
       "id                                                                       \n",
       "a6984c3ae395090e3bee8ad63c3758b110de096d5d81958...           14.457534   \n",
       "6178f41ade1365e44bc2c46654c2c8c0eaae27dcb476c47...            1.463014   \n",
       "4a7e5069a397f12fdd7fd57111d6dc5d3ba558958efc02e...            7.093151   \n",
       "3348900fe63216a439d2e5238c79ddd46ede454df7b9d8c...            6.512329   \n",
       "1f9bcabc9d3173c1fe769899e4fac14b053037b953a1e4b...            3.200000   \n",
       "\n",
       "                                                   idade_emp_cat  fl_me  ...  \\\n",
       "id                                                                       ...   \n",
       "a6984c3ae395090e3bee8ad63c3758b110de096d5d81958...       10 a 15  False  ...   \n",
       "6178f41ade1365e44bc2c46654c2c8c0eaae27dcb476c47...         1 a 5  False  ...   \n",
       "4a7e5069a397f12fdd7fd57111d6dc5d3ba558958efc02e...        5 a 10  False  ...   \n",
       "3348900fe63216a439d2e5238c79ddd46ede454df7b9d8c...        5 a 10  False  ...   \n",
       "1f9bcabc9d3173c1fe769899e4fac14b053037b953a1e4b...         1 a 5  False  ...   \n",
       "\n",
       "                                                    media_meses_servicos  \\\n",
       "id                                                                         \n",
       "a6984c3ae395090e3bee8ad63c3758b110de096d5d81958...             43.738462   \n",
       "6178f41ade1365e44bc2c46654c2c8c0eaae27dcb476c47...                   NaN   \n",
       "4a7e5069a397f12fdd7fd57111d6dc5d3ba558958efc02e...                   NaN   \n",
       "3348900fe63216a439d2e5238c79ddd46ede454df7b9d8c...                   NaN   \n",
       "1f9bcabc9d3173c1fe769899e4fac14b053037b953a1e4b...                   NaN   \n",
       "\n",
       "                                                    max_meses_servicos  \\\n",
       "id                                                                       \n",
       "a6984c3ae395090e3bee8ad63c3758b110de096d5d81958...           93.266667   \n",
       "6178f41ade1365e44bc2c46654c2c8c0eaae27dcb476c47...                 NaN   \n",
       "4a7e5069a397f12fdd7fd57111d6dc5d3ba558958efc02e...                 NaN   \n",
       "3348900fe63216a439d2e5238c79ddd46ede454df7b9d8c...                 NaN   \n",
       "1f9bcabc9d3173c1fe769899e4fac14b053037b953a1e4b...                 NaN   \n",
       "\n",
       "                                                    min_meses_servicos  \\\n",
       "id                                                                       \n",
       "a6984c3ae395090e3bee8ad63c3758b110de096d5d81958...           19.166667   \n",
       "6178f41ade1365e44bc2c46654c2c8c0eaae27dcb476c47...                 NaN   \n",
       "4a7e5069a397f12fdd7fd57111d6dc5d3ba558958efc02e...                 NaN   \n",
       "3348900fe63216a439d2e5238c79ddd46ede454df7b9d8c...                 NaN   \n",
       "1f9bcabc9d3173c1fe769899e4fac14b053037b953a1e4b...                 NaN   \n",
       "\n",
       "                                                    qt_funcionarios  \\\n",
       "id                                                                    \n",
       "a6984c3ae395090e3bee8ad63c3758b110de096d5d81958...             26.0   \n",
       "6178f41ade1365e44bc2c46654c2c8c0eaae27dcb476c47...              NaN   \n",
       "4a7e5069a397f12fdd7fd57111d6dc5d3ba558958efc02e...              NaN   \n",
       "3348900fe63216a439d2e5238c79ddd46ede454df7b9d8c...              NaN   \n",
       "1f9bcabc9d3173c1fe769899e4fac14b053037b953a1e4b...              NaN   \n",
       "\n",
       "                                                   qt_funcionarios_12meses  \\\n",
       "id                                                                           \n",
       "a6984c3ae395090e3bee8ad63c3758b110de096d5d81958...                    26.0   \n",
       "6178f41ade1365e44bc2c46654c2c8c0eaae27dcb476c47...                     NaN   \n",
       "4a7e5069a397f12fdd7fd57111d6dc5d3ba558958efc02e...                     NaN   \n",
       "3348900fe63216a439d2e5238c79ddd46ede454df7b9d8c...                     NaN   \n",
       "1f9bcabc9d3173c1fe769899e4fac14b053037b953a1e4b...                     NaN   \n",
       "\n",
       "                                                    qt_funcionarios_24meses  \\\n",
       "id                                                                            \n",
       "a6984c3ae395090e3bee8ad63c3758b110de096d5d81958...                     27.0   \n",
       "6178f41ade1365e44bc2c46654c2c8c0eaae27dcb476c47...                      NaN   \n",
       "4a7e5069a397f12fdd7fd57111d6dc5d3ba558958efc02e...                      NaN   \n",
       "3348900fe63216a439d2e5238c79ddd46ede454df7b9d8c...                      NaN   \n",
       "1f9bcabc9d3173c1fe769899e4fac14b053037b953a1e4b...                      NaN   \n",
       "\n",
       "                                                    tx_crescimento_12meses  \\\n",
       "id                                                                           \n",
       "a6984c3ae395090e3bee8ad63c3758b110de096d5d81958...                     0.0   \n",
       "6178f41ade1365e44bc2c46654c2c8c0eaae27dcb476c47...                     NaN   \n",
       "4a7e5069a397f12fdd7fd57111d6dc5d3ba558958efc02e...                     NaN   \n",
       "3348900fe63216a439d2e5238c79ddd46ede454df7b9d8c...                     NaN   \n",
       "1f9bcabc9d3173c1fe769899e4fac14b053037b953a1e4b...                     NaN   \n",
       "\n",
       "                                                    tx_crescimento_24meses  \\\n",
       "id                                                                           \n",
       "a6984c3ae395090e3bee8ad63c3758b110de096d5d81958...               -3.703704   \n",
       "6178f41ade1365e44bc2c46654c2c8c0eaae27dcb476c47...                     NaN   \n",
       "4a7e5069a397f12fdd7fd57111d6dc5d3ba558958efc02e...                     NaN   \n",
       "3348900fe63216a439d2e5238c79ddd46ede454df7b9d8c...                     NaN   \n",
       "1f9bcabc9d3173c1fe769899e4fac14b053037b953a1e4b...                     NaN   \n",
       "\n",
       "                                                   tx_rotatividade qt_filiais  \n",
       "id                                                                             \n",
       "a6984c3ae395090e3bee8ad63c3758b110de096d5d81958...             0.0          0  \n",
       "6178f41ade1365e44bc2c46654c2c8c0eaae27dcb476c47...             NaN          0  \n",
       "4a7e5069a397f12fdd7fd57111d6dc5d3ba558958efc02e...             NaN          0  \n",
       "3348900fe63216a439d2e5238c79ddd46ede454df7b9d8c...             NaN          0  \n",
       "1f9bcabc9d3173c1fe769899e4fac14b053037b953a1e4b...             NaN          0  \n",
       "\n",
       "[5 rows x 181 columns]"
      ]
     },
     "execution_count": 5,
     "metadata": {},
     "output_type": "execute_result"
    }
   ],
   "source": [
    "# let's take a look in the dataset\n",
    "market.head()"
   ]
  },
  {
   "cell_type": "code",
   "execution_count": 6,
   "metadata": {
    "scrolled": false
   },
   "outputs": [],
   "source": [
    "market = market.drop(columns =['Unnamed: 0'], axis = 1)"
   ]
  },
  {
   "cell_type": "code",
   "execution_count": 7,
   "metadata": {},
   "outputs": [],
   "source": [
    "def create_status(df):\n",
    "    \"\"\"create a status dataset giving the column name, type, sum of NaNs and percentage of NaNs \n",
    "    Args:\n",
    "    \n",
    "    df: dataset\n",
    "    \n",
    "    Return:\n",
    "    \n",
    "    status: dataset (columns: column names of df,\n",
    "                    type: type of the data in each column of df,\n",
    "                    Sum of NaN: sum of NaN values for each column in df,\n",
    "                    NaN%: percentage of NaN values for each column in df)\n",
    "    \"\"\"\n",
    "    \n",
    "    status= pd.DataFrame({'columns': df.columns,\n",
    "                          'type': df.dtypes,\n",
    "                          'Sum of NaN': df.isnull().sum(),\n",
    "                          'NaN%': df.isnull().sum()/len(df)})\n",
    "    return status"
   ]
  },
  {
   "cell_type": "code",
   "execution_count": 8,
   "metadata": {
    "scrolled": true
   },
   "outputs": [
    {
     "data": {
      "text/html": [
       "<div>\n",
       "<style scoped>\n",
       "    .dataframe tbody tr th:only-of-type {\n",
       "        vertical-align: middle;\n",
       "    }\n",
       "\n",
       "    .dataframe tbody tr th {\n",
       "        vertical-align: top;\n",
       "    }\n",
       "\n",
       "    .dataframe thead th {\n",
       "        text-align: right;\n",
       "    }\n",
       "</style>\n",
       "<table border=\"1\" class=\"dataframe\">\n",
       "  <thead>\n",
       "    <tr style=\"text-align: right;\">\n",
       "      <th></th>\n",
       "      <th>type</th>\n",
       "      <th>Sum of NaN</th>\n",
       "      <th>NaN%</th>\n",
       "    </tr>\n",
       "  </thead>\n",
       "  <tbody>\n",
       "    <tr>\n",
       "      <th>grau_instrucao_macro_desconhecido</th>\n",
       "      <td>float64</td>\n",
       "      <td>462298</td>\n",
       "      <td>1.000000</td>\n",
       "    </tr>\n",
       "    <tr>\n",
       "      <th>qt_alteracao_socio_total</th>\n",
       "      <td>float64</td>\n",
       "      <td>462298</td>\n",
       "      <td>1.000000</td>\n",
       "    </tr>\n",
       "    <tr>\n",
       "      <th>qt_alteracao_socio_90d</th>\n",
       "      <td>float64</td>\n",
       "      <td>462298</td>\n",
       "      <td>1.000000</td>\n",
       "    </tr>\n",
       "    <tr>\n",
       "      <th>qt_alteracao_socio_180d</th>\n",
       "      <td>float64</td>\n",
       "      <td>462298</td>\n",
       "      <td>1.000000</td>\n",
       "    </tr>\n",
       "    <tr>\n",
       "      <th>qt_alteracao_socio_365d</th>\n",
       "      <td>float64</td>\n",
       "      <td>462298</td>\n",
       "      <td>1.000000</td>\n",
       "    </tr>\n",
       "    <tr>\n",
       "      <th>coligada_mais_antiga_baixada</th>\n",
       "      <td>float64</td>\n",
       "      <td>462162</td>\n",
       "      <td>0.999706</td>\n",
       "    </tr>\n",
       "    <tr>\n",
       "      <th>idade_media_coligadas_baixadas</th>\n",
       "      <td>float64</td>\n",
       "      <td>462162</td>\n",
       "      <td>0.999706</td>\n",
       "    </tr>\n",
       "    <tr>\n",
       "      <th>coligada_mais_nova_baixada</th>\n",
       "      <td>float64</td>\n",
       "      <td>462162</td>\n",
       "      <td>0.999706</td>\n",
       "    </tr>\n",
       "    <tr>\n",
       "      <th>vl_total_veiculos_antt</th>\n",
       "      <td>float64</td>\n",
       "      <td>462122</td>\n",
       "      <td>0.999619</td>\n",
       "    </tr>\n",
       "    <tr>\n",
       "      <th>vl_total_tancagem</th>\n",
       "      <td>float64</td>\n",
       "      <td>462018</td>\n",
       "      <td>0.999394</td>\n",
       "    </tr>\n",
       "    <tr>\n",
       "      <th>vl_total_veiculos_antt_grupo</th>\n",
       "      <td>float64</td>\n",
       "      <td>461962</td>\n",
       "      <td>0.999273</td>\n",
       "    </tr>\n",
       "    <tr>\n",
       "      <th>vl_total_tancagem_grupo</th>\n",
       "      <td>float64</td>\n",
       "      <td>460538</td>\n",
       "      <td>0.996193</td>\n",
       "    </tr>\n",
       "    <tr>\n",
       "      <th>grau_instrucao_macro_analfabeto</th>\n",
       "      <td>float64</td>\n",
       "      <td>460414</td>\n",
       "      <td>0.995925</td>\n",
       "    </tr>\n",
       "    <tr>\n",
       "      <th>idade_ate_18</th>\n",
       "      <td>float64</td>\n",
       "      <td>459392</td>\n",
       "      <td>0.993714</td>\n",
       "    </tr>\n",
       "    <tr>\n",
       "      <th>qt_socios_st_suspensa</th>\n",
       "      <td>float64</td>\n",
       "      <td>459047</td>\n",
       "      <td>0.992968</td>\n",
       "    </tr>\n",
       "    <tr>\n",
       "      <th>vl_potenc_cons_oleo_gas</th>\n",
       "      <td>float64</td>\n",
       "      <td>458615</td>\n",
       "      <td>0.992033</td>\n",
       "    </tr>\n",
       "    <tr>\n",
       "      <th>qt_socios_pj_ativos</th>\n",
       "      <td>float64</td>\n",
       "      <td>457754</td>\n",
       "      <td>0.990171</td>\n",
       "    </tr>\n",
       "    <tr>\n",
       "      <th>qt_socios_pj_nulos</th>\n",
       "      <td>float64</td>\n",
       "      <td>457754</td>\n",
       "      <td>0.990171</td>\n",
       "    </tr>\n",
       "    <tr>\n",
       "      <th>vl_idade_minima_socios_pj</th>\n",
       "      <td>float64</td>\n",
       "      <td>457754</td>\n",
       "      <td>0.990171</td>\n",
       "    </tr>\n",
       "    <tr>\n",
       "      <th>qt_socios_pj_baixados</th>\n",
       "      <td>float64</td>\n",
       "      <td>457754</td>\n",
       "      <td>0.990171</td>\n",
       "    </tr>\n",
       "    <tr>\n",
       "      <th>qt_socios_pj_inaptos</th>\n",
       "      <td>float64</td>\n",
       "      <td>457754</td>\n",
       "      <td>0.990171</td>\n",
       "    </tr>\n",
       "    <tr>\n",
       "      <th>vl_idade_media_socios_pj</th>\n",
       "      <td>float64</td>\n",
       "      <td>457754</td>\n",
       "      <td>0.990171</td>\n",
       "    </tr>\n",
       "    <tr>\n",
       "      <th>vl_idade_maxima_socios_pj</th>\n",
       "      <td>float64</td>\n",
       "      <td>457754</td>\n",
       "      <td>0.990171</td>\n",
       "    </tr>\n",
       "    <tr>\n",
       "      <th>qt_socios_pj_suspensos</th>\n",
       "      <td>float64</td>\n",
       "      <td>457754</td>\n",
       "      <td>0.990171</td>\n",
       "    </tr>\n",
       "    <tr>\n",
       "      <th>qt_art</th>\n",
       "      <td>float64</td>\n",
       "      <td>455708</td>\n",
       "      <td>0.985745</td>\n",
       "    </tr>\n",
       "    <tr>\n",
       "      <th>qt_socios_pep</th>\n",
       "      <td>float64</td>\n",
       "      <td>455555</td>\n",
       "      <td>0.985414</td>\n",
       "    </tr>\n",
       "    <tr>\n",
       "      <th>idade_acima_de_58</th>\n",
       "      <td>float64</td>\n",
       "      <td>451272</td>\n",
       "      <td>0.976150</td>\n",
       "    </tr>\n",
       "    <tr>\n",
       "      <th>idade_de_54_a_58</th>\n",
       "      <td>float64</td>\n",
       "      <td>448323</td>\n",
       "      <td>0.969771</td>\n",
       "    </tr>\n",
       "    <tr>\n",
       "      <th>idade_de_49_a_53</th>\n",
       "      <td>float64</td>\n",
       "      <td>443261</td>\n",
       "      <td>0.958821</td>\n",
       "    </tr>\n",
       "    <tr>\n",
       "      <th>min_filiais_coligados</th>\n",
       "      <td>float64</td>\n",
       "      <td>441898</td>\n",
       "      <td>0.955873</td>\n",
       "    </tr>\n",
       "    <tr>\n",
       "      <th>max_filiais_coligados</th>\n",
       "      <td>float64</td>\n",
       "      <td>441898</td>\n",
       "      <td>0.955873</td>\n",
       "    </tr>\n",
       "    <tr>\n",
       "      <th>media_filiais_coligados</th>\n",
       "      <td>float64</td>\n",
       "      <td>441898</td>\n",
       "      <td>0.955873</td>\n",
       "    </tr>\n",
       "    <tr>\n",
       "      <th>total_filiais_coligados</th>\n",
       "      <td>float64</td>\n",
       "      <td>441898</td>\n",
       "      <td>0.955873</td>\n",
       "    </tr>\n",
       "    <tr>\n",
       "      <th>grau_instrucao_macro_escolaridade_superior</th>\n",
       "      <td>float64</td>\n",
       "      <td>439571</td>\n",
       "      <td>0.950839</td>\n",
       "    </tr>\n",
       "    <tr>\n",
       "      <th>vl_frota</th>\n",
       "      <td>float64</td>\n",
       "      <td>438108</td>\n",
       "      <td>0.947674</td>\n",
       "    </tr>\n",
       "    <tr>\n",
       "      <th>idade_de_44_a_48</th>\n",
       "      <td>float64</td>\n",
       "      <td>438008</td>\n",
       "      <td>0.947458</td>\n",
       "    </tr>\n",
       "    <tr>\n",
       "      <th>grau_instrucao_macro_escolaridade_fundamental</th>\n",
       "      <td>float64</td>\n",
       "      <td>437402</td>\n",
       "      <td>0.946147</td>\n",
       "    </tr>\n",
       "    <tr>\n",
       "      <th>idade_de_19_a_23</th>\n",
       "      <td>float64</td>\n",
       "      <td>436408</td>\n",
       "      <td>0.943997</td>\n",
       "    </tr>\n",
       "    <tr>\n",
       "      <th>idade_de_39_a_43</th>\n",
       "      <td>float64</td>\n",
       "      <td>431890</td>\n",
       "      <td>0.934224</td>\n",
       "    </tr>\n",
       "    <tr>\n",
       "      <th>vl_total_veiculos_pesados</th>\n",
       "      <td>float64</td>\n",
       "      <td>431614</td>\n",
       "      <td>0.933627</td>\n",
       "    </tr>\n",
       "  </tbody>\n",
       "</table>\n",
       "</div>"
      ],
      "text/plain": [
       "                                                  type  Sum of NaN      NaN%\n",
       "grau_instrucao_macro_desconhecido              float64      462298  1.000000\n",
       "qt_alteracao_socio_total                       float64      462298  1.000000\n",
       "qt_alteracao_socio_90d                         float64      462298  1.000000\n",
       "qt_alteracao_socio_180d                        float64      462298  1.000000\n",
       "qt_alteracao_socio_365d                        float64      462298  1.000000\n",
       "coligada_mais_antiga_baixada                   float64      462162  0.999706\n",
       "idade_media_coligadas_baixadas                 float64      462162  0.999706\n",
       "coligada_mais_nova_baixada                     float64      462162  0.999706\n",
       "vl_total_veiculos_antt                         float64      462122  0.999619\n",
       "vl_total_tancagem                              float64      462018  0.999394\n",
       "vl_total_veiculos_antt_grupo                   float64      461962  0.999273\n",
       "vl_total_tancagem_grupo                        float64      460538  0.996193\n",
       "grau_instrucao_macro_analfabeto                float64      460414  0.995925\n",
       "idade_ate_18                                   float64      459392  0.993714\n",
       "qt_socios_st_suspensa                          float64      459047  0.992968\n",
       "vl_potenc_cons_oleo_gas                        float64      458615  0.992033\n",
       "qt_socios_pj_ativos                            float64      457754  0.990171\n",
       "qt_socios_pj_nulos                             float64      457754  0.990171\n",
       "vl_idade_minima_socios_pj                      float64      457754  0.990171\n",
       "qt_socios_pj_baixados                          float64      457754  0.990171\n",
       "qt_socios_pj_inaptos                           float64      457754  0.990171\n",
       "vl_idade_media_socios_pj                       float64      457754  0.990171\n",
       "vl_idade_maxima_socios_pj                      float64      457754  0.990171\n",
       "qt_socios_pj_suspensos                         float64      457754  0.990171\n",
       "qt_art                                         float64      455708  0.985745\n",
       "qt_socios_pep                                  float64      455555  0.985414\n",
       "idade_acima_de_58                              float64      451272  0.976150\n",
       "idade_de_54_a_58                               float64      448323  0.969771\n",
       "idade_de_49_a_53                               float64      443261  0.958821\n",
       "min_filiais_coligados                          float64      441898  0.955873\n",
       "max_filiais_coligados                          float64      441898  0.955873\n",
       "media_filiais_coligados                        float64      441898  0.955873\n",
       "total_filiais_coligados                        float64      441898  0.955873\n",
       "grau_instrucao_macro_escolaridade_superior     float64      439571  0.950839\n",
       "vl_frota                                       float64      438108  0.947674\n",
       "idade_de_44_a_48                               float64      438008  0.947458\n",
       "grau_instrucao_macro_escolaridade_fundamental  float64      437402  0.946147\n",
       "idade_de_19_a_23                               float64      436408  0.943997\n",
       "idade_de_39_a_43                               float64      431890  0.934224\n",
       "vl_total_veiculos_pesados                      float64      431614  0.933627"
      ]
     },
     "execution_count": 8,
     "metadata": {},
     "output_type": "execute_result"
    }
   ],
   "source": [
    "status_market = create_status(market)\n",
    "status_market.reindex(columns=['type','Sum of NaN','NaN%']).sort_values(by = 'Sum of NaN', ascending=False).head(40)"
   ]
  },
  {
   "cell_type": "markdown",
   "metadata": {},
   "source": [
    "* Here we can see that we have a large number of features with a NaN percentage close to 100%\n",
    "* Let's create a base line for that"
   ]
  },
  {
   "cell_type": "markdown",
   "metadata": {},
   "source": [
    "# Feature Selection\n",
    "## First Round\n",
    "### The selected features in the filter list were chosen as follows:\n",
    "* Features with an amount of NaN values greater than 25% have been removed.\n",
    "* As a result, there was a reduction from 180 to 45 columns. 75% reduction in columns.\n",
    "* A random sample was taken containing 10% of the number of lines in the market base.\n",
    "* This sample was used to search for the largest correlated features using the pandas proifiling tool.\n",
    "* For this, the sample database was analyzed in a notebook  to assist in google colab for greater agility in the analysis.\n",
    "* The features with the highest correlation were listed in the filter variable and will be further analyzed below."
   ]
  },
  {
   "cell_type": "code",
   "execution_count": 9,
   "metadata": {},
   "outputs": [],
   "source": [
    "# working with an auxiliary dataset\n",
    "aux_market = market"
   ]
  },
  {
   "cell_type": "code",
   "execution_count": 10,
   "metadata": {},
   "outputs": [],
   "source": [
    "# organizing the NaN values\n",
    "mer_na_sorted = market.isna().sum().sort_values(ascending=False)"
   ]
  },
  {
   "cell_type": "code",
   "execution_count": 11,
   "metadata": {
    "scrolled": true
   },
   "outputs": [
    {
     "name": "stdout",
     "output_type": "stream",
     "text": [
      "Number of features to drop: 136\n"
     ]
    }
   ],
   "source": [
    "# creating a baseline\n",
    "list_to_drop = []\n",
    "for column,quantity_na in mer_na_sorted.items():\n",
    "    if (quantity_na/aux_market.shape[0]) > 0.25:\n",
    "        list_to_drop.append(column)\n",
    "        \n",
    "print(f'Number of features to drop: {len(list_to_drop)}')"
   ]
  },
  {
   "cell_type": "markdown",
   "metadata": {},
   "source": [
    "* I set a baseline of features with a NaN percentage higher than 0.25 % should be dropped\n",
    "* So I'll need to drop 136 features"
   ]
  },
  {
   "cell_type": "code",
   "execution_count": 12,
   "metadata": {},
   "outputs": [],
   "source": [
    "#dropping the features\n",
    "aux_market = aux_market.drop(list_to_drop, axis = 1)"
   ]
  },
  {
   "cell_type": "code",
   "execution_count": 13,
   "metadata": {
    "scrolled": true
   },
   "outputs": [
    {
     "data": {
      "text/html": [
       "<div>\n",
       "<style scoped>\n",
       "    .dataframe tbody tr th:only-of-type {\n",
       "        vertical-align: middle;\n",
       "    }\n",
       "\n",
       "    .dataframe tbody tr th {\n",
       "        vertical-align: top;\n",
       "    }\n",
       "\n",
       "    .dataframe thead th {\n",
       "        text-align: right;\n",
       "    }\n",
       "</style>\n",
       "<table border=\"1\" class=\"dataframe\">\n",
       "  <thead>\n",
       "    <tr style=\"text-align: right;\">\n",
       "      <th></th>\n",
       "      <th>fl_matriz</th>\n",
       "      <th>de_natureza_juridica</th>\n",
       "      <th>sg_uf</th>\n",
       "      <th>natureza_juridica_macro</th>\n",
       "      <th>de_ramo</th>\n",
       "      <th>setor</th>\n",
       "      <th>idade_empresa_anos</th>\n",
       "      <th>idade_emp_cat</th>\n",
       "      <th>fl_me</th>\n",
       "      <th>fl_sa</th>\n",
       "      <th>...</th>\n",
       "      <th>nm_micro_regiao</th>\n",
       "      <th>fl_passivel_iss</th>\n",
       "      <th>qt_socios</th>\n",
       "      <th>qt_socios_pf</th>\n",
       "      <th>qt_socios_pj</th>\n",
       "      <th>de_faixa_faturamento_estimado</th>\n",
       "      <th>de_faixa_faturamento_estimado_grupo</th>\n",
       "      <th>vl_faturamento_estimado_aux</th>\n",
       "      <th>vl_faturamento_estimado_grupo_aux</th>\n",
       "      <th>qt_filiais</th>\n",
       "    </tr>\n",
       "    <tr>\n",
       "      <th>id</th>\n",
       "      <th></th>\n",
       "      <th></th>\n",
       "      <th></th>\n",
       "      <th></th>\n",
       "      <th></th>\n",
       "      <th></th>\n",
       "      <th></th>\n",
       "      <th></th>\n",
       "      <th></th>\n",
       "      <th></th>\n",
       "      <th></th>\n",
       "      <th></th>\n",
       "      <th></th>\n",
       "      <th></th>\n",
       "      <th></th>\n",
       "      <th></th>\n",
       "      <th></th>\n",
       "      <th></th>\n",
       "      <th></th>\n",
       "      <th></th>\n",
       "      <th></th>\n",
       "    </tr>\n",
       "  </thead>\n",
       "  <tbody>\n",
       "    <tr>\n",
       "      <th>a6984c3ae395090e3bee8ad63c3758b110de096d5d819583a784a113726db849</th>\n",
       "      <td>True</td>\n",
       "      <td>SOCIEDADE EMPRESARIA LIMITADA</td>\n",
       "      <td>RN</td>\n",
       "      <td>ENTIDADES EMPRESARIAIS</td>\n",
       "      <td>INDUSTRIA DA CONSTRUCAO</td>\n",
       "      <td>CONSTRUÇÃO CIVIL</td>\n",
       "      <td>14.457534</td>\n",
       "      <td>10 a 15</td>\n",
       "      <td>False</td>\n",
       "      <td>False</td>\n",
       "      <td>...</td>\n",
       "      <td>NATAL</td>\n",
       "      <td>True</td>\n",
       "      <td>2.0</td>\n",
       "      <td>2.0</td>\n",
       "      <td>0.0</td>\n",
       "      <td>DE R$ 1.500.000,01 A R$ 4.800.000,00</td>\n",
       "      <td>DE R$ 1.500.000,01 A R$ 4.800.000,00</td>\n",
       "      <td>3132172.8</td>\n",
       "      <td>3132172.8</td>\n",
       "      <td>0</td>\n",
       "    </tr>\n",
       "    <tr>\n",
       "      <th>6178f41ade1365e44bc2c46654c2c8c0eaae27dcb476c47fdef50b33f4f56f05</th>\n",
       "      <td>True</td>\n",
       "      <td>EMPRESARIO INDIVIDUAL</td>\n",
       "      <td>PI</td>\n",
       "      <td>OUTROS</td>\n",
       "      <td>SERVICOS DE ALOJAMENTO/ALIMENTACAO</td>\n",
       "      <td>SERVIÇO</td>\n",
       "      <td>1.463014</td>\n",
       "      <td>1 a 5</td>\n",
       "      <td>False</td>\n",
       "      <td>False</td>\n",
       "      <td>...</td>\n",
       "      <td>TERESINA</td>\n",
       "      <td>True</td>\n",
       "      <td>1.0</td>\n",
       "      <td>1.0</td>\n",
       "      <td>0.0</td>\n",
       "      <td>DE R$ 81.000,01 A R$ 360.000,00</td>\n",
       "      <td>DE R$ 81.000,01 A R$ 360.000,00</td>\n",
       "      <td>210000.0</td>\n",
       "      <td>210000.0</td>\n",
       "      <td>0</td>\n",
       "    </tr>\n",
       "    <tr>\n",
       "      <th>4a7e5069a397f12fdd7fd57111d6dc5d3ba558958efc02edc5147bc2a2535b08</th>\n",
       "      <td>True</td>\n",
       "      <td>EMPRESARIO INDIVIDUAL</td>\n",
       "      <td>AM</td>\n",
       "      <td>OUTROS</td>\n",
       "      <td>TRANSPORTE, ARMAZENAGEM E CORREIO</td>\n",
       "      <td>SERVIÇO</td>\n",
       "      <td>7.093151</td>\n",
       "      <td>5 a 10</td>\n",
       "      <td>False</td>\n",
       "      <td>False</td>\n",
       "      <td>...</td>\n",
       "      <td>MANAUS</td>\n",
       "      <td>True</td>\n",
       "      <td>1.0</td>\n",
       "      <td>1.0</td>\n",
       "      <td>0.0</td>\n",
       "      <td>ATE R$ 81.000,00</td>\n",
       "      <td>ATE R$ 81.000,00</td>\n",
       "      <td>50000.0</td>\n",
       "      <td>50000.0</td>\n",
       "      <td>0</td>\n",
       "    </tr>\n",
       "    <tr>\n",
       "      <th>3348900fe63216a439d2e5238c79ddd46ede454df7b9d8c24ac33eb21d4b21ef</th>\n",
       "      <td>True</td>\n",
       "      <td>EMPRESARIO INDIVIDUAL</td>\n",
       "      <td>AM</td>\n",
       "      <td>OUTROS</td>\n",
       "      <td>SERVICOS DIVERSOS</td>\n",
       "      <td>SERVIÇO</td>\n",
       "      <td>6.512329</td>\n",
       "      <td>5 a 10</td>\n",
       "      <td>False</td>\n",
       "      <td>False</td>\n",
       "      <td>...</td>\n",
       "      <td>MANAUS</td>\n",
       "      <td>True</td>\n",
       "      <td>1.0</td>\n",
       "      <td>1.0</td>\n",
       "      <td>0.0</td>\n",
       "      <td>DE R$ 81.000,01 A R$ 360.000,00</td>\n",
       "      <td>DE R$ 81.000,01 A R$ 360.000,00</td>\n",
       "      <td>210000.0</td>\n",
       "      <td>210000.0</td>\n",
       "      <td>0</td>\n",
       "    </tr>\n",
       "    <tr>\n",
       "      <th>1f9bcabc9d3173c1fe769899e4fac14b053037b953a1e4b102c769f7611ab29f</th>\n",
       "      <td>True</td>\n",
       "      <td>EMPRESARIO INDIVIDUAL</td>\n",
       "      <td>RN</td>\n",
       "      <td>OUTROS</td>\n",
       "      <td>SERVICOS PROFISSIONAIS, TECNICOS E CIENTIFICOS</td>\n",
       "      <td>SERVIÇO</td>\n",
       "      <td>3.200000</td>\n",
       "      <td>1 a 5</td>\n",
       "      <td>False</td>\n",
       "      <td>False</td>\n",
       "      <td>...</td>\n",
       "      <td>NATAL</td>\n",
       "      <td>True</td>\n",
       "      <td>1.0</td>\n",
       "      <td>1.0</td>\n",
       "      <td>0.0</td>\n",
       "      <td>DE R$ 81.000,01 A R$ 360.000,00</td>\n",
       "      <td>DE R$ 81.000,01 A R$ 360.000,00</td>\n",
       "      <td>210000.0</td>\n",
       "      <td>210000.0</td>\n",
       "      <td>0</td>\n",
       "    </tr>\n",
       "  </tbody>\n",
       "</table>\n",
       "<p>5 rows × 44 columns</p>\n",
       "</div>"
      ],
      "text/plain": [
       "                                                    fl_matriz  \\\n",
       "id                                                              \n",
       "a6984c3ae395090e3bee8ad63c3758b110de096d5d81958...       True   \n",
       "6178f41ade1365e44bc2c46654c2c8c0eaae27dcb476c47...       True   \n",
       "4a7e5069a397f12fdd7fd57111d6dc5d3ba558958efc02e...       True   \n",
       "3348900fe63216a439d2e5238c79ddd46ede454df7b9d8c...       True   \n",
       "1f9bcabc9d3173c1fe769899e4fac14b053037b953a1e4b...       True   \n",
       "\n",
       "                                                             de_natureza_juridica  \\\n",
       "id                                                                                  \n",
       "a6984c3ae395090e3bee8ad63c3758b110de096d5d81958...  SOCIEDADE EMPRESARIA LIMITADA   \n",
       "6178f41ade1365e44bc2c46654c2c8c0eaae27dcb476c47...          EMPRESARIO INDIVIDUAL   \n",
       "4a7e5069a397f12fdd7fd57111d6dc5d3ba558958efc02e...          EMPRESARIO INDIVIDUAL   \n",
       "3348900fe63216a439d2e5238c79ddd46ede454df7b9d8c...          EMPRESARIO INDIVIDUAL   \n",
       "1f9bcabc9d3173c1fe769899e4fac14b053037b953a1e4b...          EMPRESARIO INDIVIDUAL   \n",
       "\n",
       "                                                   sg_uf  \\\n",
       "id                                                         \n",
       "a6984c3ae395090e3bee8ad63c3758b110de096d5d81958...    RN   \n",
       "6178f41ade1365e44bc2c46654c2c8c0eaae27dcb476c47...    PI   \n",
       "4a7e5069a397f12fdd7fd57111d6dc5d3ba558958efc02e...    AM   \n",
       "3348900fe63216a439d2e5238c79ddd46ede454df7b9d8c...    AM   \n",
       "1f9bcabc9d3173c1fe769899e4fac14b053037b953a1e4b...    RN   \n",
       "\n",
       "                                                   natureza_juridica_macro  \\\n",
       "id                                                                           \n",
       "a6984c3ae395090e3bee8ad63c3758b110de096d5d81958...  ENTIDADES EMPRESARIAIS   \n",
       "6178f41ade1365e44bc2c46654c2c8c0eaae27dcb476c47...                  OUTROS   \n",
       "4a7e5069a397f12fdd7fd57111d6dc5d3ba558958efc02e...                  OUTROS   \n",
       "3348900fe63216a439d2e5238c79ddd46ede454df7b9d8c...                  OUTROS   \n",
       "1f9bcabc9d3173c1fe769899e4fac14b053037b953a1e4b...                  OUTROS   \n",
       "\n",
       "                                                                                           de_ramo  \\\n",
       "id                                                                                                   \n",
       "a6984c3ae395090e3bee8ad63c3758b110de096d5d81958...                         INDUSTRIA DA CONSTRUCAO   \n",
       "6178f41ade1365e44bc2c46654c2c8c0eaae27dcb476c47...              SERVICOS DE ALOJAMENTO/ALIMENTACAO   \n",
       "4a7e5069a397f12fdd7fd57111d6dc5d3ba558958efc02e...               TRANSPORTE, ARMAZENAGEM E CORREIO   \n",
       "3348900fe63216a439d2e5238c79ddd46ede454df7b9d8c...                               SERVICOS DIVERSOS   \n",
       "1f9bcabc9d3173c1fe769899e4fac14b053037b953a1e4b...  SERVICOS PROFISSIONAIS, TECNICOS E CIENTIFICOS   \n",
       "\n",
       "                                                               setor  \\\n",
       "id                                                                     \n",
       "a6984c3ae395090e3bee8ad63c3758b110de096d5d81958...  CONSTRUÇÃO CIVIL   \n",
       "6178f41ade1365e44bc2c46654c2c8c0eaae27dcb476c47...           SERVIÇO   \n",
       "4a7e5069a397f12fdd7fd57111d6dc5d3ba558958efc02e...           SERVIÇO   \n",
       "3348900fe63216a439d2e5238c79ddd46ede454df7b9d8c...           SERVIÇO   \n",
       "1f9bcabc9d3173c1fe769899e4fac14b053037b953a1e4b...           SERVIÇO   \n",
       "\n",
       "                                                    idade_empresa_anos  \\\n",
       "id                                                                       \n",
       "a6984c3ae395090e3bee8ad63c3758b110de096d5d81958...           14.457534   \n",
       "6178f41ade1365e44bc2c46654c2c8c0eaae27dcb476c47...            1.463014   \n",
       "4a7e5069a397f12fdd7fd57111d6dc5d3ba558958efc02e...            7.093151   \n",
       "3348900fe63216a439d2e5238c79ddd46ede454df7b9d8c...            6.512329   \n",
       "1f9bcabc9d3173c1fe769899e4fac14b053037b953a1e4b...            3.200000   \n",
       "\n",
       "                                                   idade_emp_cat  fl_me  \\\n",
       "id                                                                        \n",
       "a6984c3ae395090e3bee8ad63c3758b110de096d5d81958...       10 a 15  False   \n",
       "6178f41ade1365e44bc2c46654c2c8c0eaae27dcb476c47...         1 a 5  False   \n",
       "4a7e5069a397f12fdd7fd57111d6dc5d3ba558958efc02e...        5 a 10  False   \n",
       "3348900fe63216a439d2e5238c79ddd46ede454df7b9d8c...        5 a 10  False   \n",
       "1f9bcabc9d3173c1fe769899e4fac14b053037b953a1e4b...         1 a 5  False   \n",
       "\n",
       "                                                    fl_sa  ...  \\\n",
       "id                                                         ...   \n",
       "a6984c3ae395090e3bee8ad63c3758b110de096d5d81958...  False  ...   \n",
       "6178f41ade1365e44bc2c46654c2c8c0eaae27dcb476c47...  False  ...   \n",
       "4a7e5069a397f12fdd7fd57111d6dc5d3ba558958efc02e...  False  ...   \n",
       "3348900fe63216a439d2e5238c79ddd46ede454df7b9d8c...  False  ...   \n",
       "1f9bcabc9d3173c1fe769899e4fac14b053037b953a1e4b...  False  ...   \n",
       "\n",
       "                                                    nm_micro_regiao  \\\n",
       "id                                                                    \n",
       "a6984c3ae395090e3bee8ad63c3758b110de096d5d81958...            NATAL   \n",
       "6178f41ade1365e44bc2c46654c2c8c0eaae27dcb476c47...         TERESINA   \n",
       "4a7e5069a397f12fdd7fd57111d6dc5d3ba558958efc02e...           MANAUS   \n",
       "3348900fe63216a439d2e5238c79ddd46ede454df7b9d8c...           MANAUS   \n",
       "1f9bcabc9d3173c1fe769899e4fac14b053037b953a1e4b...            NATAL   \n",
       "\n",
       "                                                    fl_passivel_iss  \\\n",
       "id                                                                    \n",
       "a6984c3ae395090e3bee8ad63c3758b110de096d5d81958...             True   \n",
       "6178f41ade1365e44bc2c46654c2c8c0eaae27dcb476c47...             True   \n",
       "4a7e5069a397f12fdd7fd57111d6dc5d3ba558958efc02e...             True   \n",
       "3348900fe63216a439d2e5238c79ddd46ede454df7b9d8c...             True   \n",
       "1f9bcabc9d3173c1fe769899e4fac14b053037b953a1e4b...             True   \n",
       "\n",
       "                                                    qt_socios qt_socios_pf  \\\n",
       "id                                                                           \n",
       "a6984c3ae395090e3bee8ad63c3758b110de096d5d81958...        2.0          2.0   \n",
       "6178f41ade1365e44bc2c46654c2c8c0eaae27dcb476c47...        1.0          1.0   \n",
       "4a7e5069a397f12fdd7fd57111d6dc5d3ba558958efc02e...        1.0          1.0   \n",
       "3348900fe63216a439d2e5238c79ddd46ede454df7b9d8c...        1.0          1.0   \n",
       "1f9bcabc9d3173c1fe769899e4fac14b053037b953a1e4b...        1.0          1.0   \n",
       "\n",
       "                                                    qt_socios_pj  \\\n",
       "id                                                                 \n",
       "a6984c3ae395090e3bee8ad63c3758b110de096d5d81958...           0.0   \n",
       "6178f41ade1365e44bc2c46654c2c8c0eaae27dcb476c47...           0.0   \n",
       "4a7e5069a397f12fdd7fd57111d6dc5d3ba558958efc02e...           0.0   \n",
       "3348900fe63216a439d2e5238c79ddd46ede454df7b9d8c...           0.0   \n",
       "1f9bcabc9d3173c1fe769899e4fac14b053037b953a1e4b...           0.0   \n",
       "\n",
       "                                                           de_faixa_faturamento_estimado  \\\n",
       "id                                                                                         \n",
       "a6984c3ae395090e3bee8ad63c3758b110de096d5d81958...  DE R$ 1.500.000,01 A R$ 4.800.000,00   \n",
       "6178f41ade1365e44bc2c46654c2c8c0eaae27dcb476c47...       DE R$ 81.000,01 A R$ 360.000,00   \n",
       "4a7e5069a397f12fdd7fd57111d6dc5d3ba558958efc02e...                      ATE R$ 81.000,00   \n",
       "3348900fe63216a439d2e5238c79ddd46ede454df7b9d8c...       DE R$ 81.000,01 A R$ 360.000,00   \n",
       "1f9bcabc9d3173c1fe769899e4fac14b053037b953a1e4b...       DE R$ 81.000,01 A R$ 360.000,00   \n",
       "\n",
       "                                                     de_faixa_faturamento_estimado_grupo  \\\n",
       "id                                                                                         \n",
       "a6984c3ae395090e3bee8ad63c3758b110de096d5d81958...  DE R$ 1.500.000,01 A R$ 4.800.000,00   \n",
       "6178f41ade1365e44bc2c46654c2c8c0eaae27dcb476c47...       DE R$ 81.000,01 A R$ 360.000,00   \n",
       "4a7e5069a397f12fdd7fd57111d6dc5d3ba558958efc02e...                      ATE R$ 81.000,00   \n",
       "3348900fe63216a439d2e5238c79ddd46ede454df7b9d8c...       DE R$ 81.000,01 A R$ 360.000,00   \n",
       "1f9bcabc9d3173c1fe769899e4fac14b053037b953a1e4b...       DE R$ 81.000,01 A R$ 360.000,00   \n",
       "\n",
       "                                                   vl_faturamento_estimado_aux  \\\n",
       "id                                                                               \n",
       "a6984c3ae395090e3bee8ad63c3758b110de096d5d81958...                   3132172.8   \n",
       "6178f41ade1365e44bc2c46654c2c8c0eaae27dcb476c47...                    210000.0   \n",
       "4a7e5069a397f12fdd7fd57111d6dc5d3ba558958efc02e...                     50000.0   \n",
       "3348900fe63216a439d2e5238c79ddd46ede454df7b9d8c...                    210000.0   \n",
       "1f9bcabc9d3173c1fe769899e4fac14b053037b953a1e4b...                    210000.0   \n",
       "\n",
       "                                                   vl_faturamento_estimado_grupo_aux  \\\n",
       "id                                                                                     \n",
       "a6984c3ae395090e3bee8ad63c3758b110de096d5d81958...                         3132172.8   \n",
       "6178f41ade1365e44bc2c46654c2c8c0eaae27dcb476c47...                          210000.0   \n",
       "4a7e5069a397f12fdd7fd57111d6dc5d3ba558958efc02e...                           50000.0   \n",
       "3348900fe63216a439d2e5238c79ddd46ede454df7b9d8c...                          210000.0   \n",
       "1f9bcabc9d3173c1fe769899e4fac14b053037b953a1e4b...                          210000.0   \n",
       "\n",
       "                                                   qt_filiais  \n",
       "id                                                             \n",
       "a6984c3ae395090e3bee8ad63c3758b110de096d5d81958...          0  \n",
       "6178f41ade1365e44bc2c46654c2c8c0eaae27dcb476c47...          0  \n",
       "4a7e5069a397f12fdd7fd57111d6dc5d3ba558958efc02e...          0  \n",
       "3348900fe63216a439d2e5238c79ddd46ede454df7b9d8c...          0  \n",
       "1f9bcabc9d3173c1fe769899e4fac14b053037b953a1e4b...          0  \n",
       "\n",
       "[5 rows x 44 columns]"
      ]
     },
     "execution_count": 13,
     "metadata": {},
     "output_type": "execute_result"
    }
   ],
   "source": [
    "aux_market.head()"
   ]
  },
  {
   "cell_type": "markdown",
   "metadata": {},
   "source": [
    "## Analysis in Google Colaboratory.\n",
    "\n",
    "In this part, I collected a small sample of the dataset, so that I could analyse it better in Google Colab usin the pandas profiling tool."
   ]
  },
  {
   "cell_type": "code",
   "execution_count": 14,
   "metadata": {},
   "outputs": [],
   "source": [
    "sample_market = aux_market.sample(frac=.10)"
   ]
  },
  {
   "cell_type": "code",
   "execution_count": 15,
   "metadata": {},
   "outputs": [],
   "source": [
    "sample_market.to_csv('sample_mercado.csv')"
   ]
  },
  {
   "cell_type": "markdown",
   "metadata": {},
   "source": [
    "### Features Selected"
   ]
  },
  {
   "cell_type": "code",
   "execution_count": 16,
   "metadata": {},
   "outputs": [],
   "source": [
    "filter1 = ['de_natureza_juridica', 'sg_uf', 'natureza_juridica_macro', 'de_ramo', 'setor', 'fl_rm', 'nm_divisao', \n",
    "          'nm_segmento', 'sg_uf_matriz', 'nm_meso_regiao', 'nm_micro_regiao','qt_socios']"
   ]
  },
  {
   "cell_type": "markdown",
   "metadata": {},
   "source": [
    "### Descrição das features escolhidas com base do dicionário de dados.\n",
    "\n",
    "* **natureza_juridica_macro**: character, juridic nature of the company.\n",
    "* **sg_uf**: character, initials of the name of the state of the company.\n",
    "* **natureza_juridica_macro**: a macro legal category for \"natureza jurídica\".\n",
    "* **de_ramo**: a macro legal category for \"natureza jurídica\".\n",
    "* **setor**: : character, economic sector of the company (Industry, Services, Agrobusiness, Etc.).\n",
    "* **fl_rm**: : character, true if the company address is located in an metropolitan area\n",
    "* **nm_divisao**: character, name description of the primary economic activity of the company\n",
    "* **nm_segmento**: character, name description of the primary economic activity cluster of the company\n",
    "* **sg_uf_matriz**: character, state of the main office location.\n",
    "* **nm_meso_regiao**: character, name of the meso region where the company is located.\n",
    "* **nm_micro_regiao**: character, name of the micro region where the company is located.\n",
    "* **qt_socios**: : integer value, quantity of partners/shareholders of the cnpj."
   ]
  },
  {
   "cell_type": "markdown",
   "metadata": {},
   "source": [
    "## Second Round\n",
    "* A more specific analysis was carried out for the second round. Based on the information from pandas profiling and the dictionary of features, from that point features were listed, which despite not showing a high correlation in pandas profiling have a great adherence to the problem we seek to solve.\n",
    "* Another issue was the removal of redundant features added in the first round."
   ]
  },
  {
   "cell_type": "code",
   "execution_count": 17,
   "metadata": {},
   "outputs": [],
   "source": [
    "filter2 = ['sg_uf','natureza_juridica_macro', 'de_ramo', 'setor', 'fl_rm','nm_segmento','sg_uf_matriz',\n",
    "           'de_saude_tributaria','de_nivel_atividade','nm_meso_regiao','de_faixa_faturamento_estimado','qt_socios']"
   ]
  },
  {
   "cell_type": "markdown",
   "metadata": {},
   "source": [
    "### Reasons Why I Removed Some Features\n",
    "* **de_saude_tributaria**: important information when it comes to knowing if the new prospective customer is really suited to the company's standard.\n",
    "* **de_nivel_atividade**: reports the likelihood that a company is operating or not.\n",
    "* **nm_micro_regiao**: was removed due to its high specificity and cardinality.\n",
    "* **de_natureza_juridica**: was removed due to its high cardinality.\n",
    "* **sg_uf_matriz**: when verifying the feature `fl_matriz`, it was noticed that more than 90% of the companies were also the matrix de-characterizing this * feature *, since the feature `sq_uf` already represents this function well. \n",
    "* **nm_divisao**: given the high specificity and cardinality of this feature it has been removed."
   ]
  },
  {
   "cell_type": "code",
   "execution_count": 18,
   "metadata": {},
   "outputs": [
    {
     "data": {
      "text/plain": [
       "12"
      ]
     },
     "execution_count": 18,
     "metadata": {},
     "output_type": "execute_result"
    }
   ],
   "source": [
    "# checking the number of columns left\n",
    "aux_market[filter2].shape[1]"
   ]
  },
  {
   "cell_type": "code",
   "execution_count": 19,
   "metadata": {},
   "outputs": [],
   "source": [
    "# making a new copy\n",
    "market_filter = aux_market[filter2]"
   ]
  },
  {
   "cell_type": "code",
   "execution_count": 20,
   "metadata": {
    "scrolled": true
   },
   "outputs": [
    {
     "data": {
      "text/plain": [
       "sg_uf                             object\n",
       "natureza_juridica_macro           object\n",
       "de_ramo                           object\n",
       "setor                             object\n",
       "fl_rm                             object\n",
       "nm_segmento                       object\n",
       "sg_uf_matriz                      object\n",
       "de_saude_tributaria               object\n",
       "de_nivel_atividade                object\n",
       "nm_meso_regiao                    object\n",
       "de_faixa_faturamento_estimado     object\n",
       "qt_socios                        float64\n",
       "dtype: object"
      ]
     },
     "execution_count": 20,
     "metadata": {},
     "output_type": "execute_result"
    }
   ],
   "source": [
    "market_filter.dtypes"
   ]
  },
  {
   "cell_type": "markdown",
   "metadata": {},
   "source": [
    "## Analysing the NaN Values of the Remaning Features."
   ]
  },
  {
   "cell_type": "code",
   "execution_count": 21,
   "metadata": {
    "scrolled": false
   },
   "outputs": [
    {
     "data": {
      "text/html": [
       "<div>\n",
       "<style scoped>\n",
       "    .dataframe tbody tr th:only-of-type {\n",
       "        vertical-align: middle;\n",
       "    }\n",
       "\n",
       "    .dataframe tbody tr th {\n",
       "        vertical-align: top;\n",
       "    }\n",
       "\n",
       "    .dataframe thead th {\n",
       "        text-align: right;\n",
       "    }\n",
       "</style>\n",
       "<table border=\"1\" class=\"dataframe\">\n",
       "  <thead>\n",
       "    <tr style=\"text-align: right;\">\n",
       "      <th></th>\n",
       "      <th>type</th>\n",
       "      <th>Sum of NaN</th>\n",
       "      <th>NaN%</th>\n",
       "    </tr>\n",
       "  </thead>\n",
       "  <tbody>\n",
       "    <tr>\n",
       "      <th>qt_socios</th>\n",
       "      <td>float64</td>\n",
       "      <td>115091</td>\n",
       "      <td>0.248954</td>\n",
       "    </tr>\n",
       "    <tr>\n",
       "      <th>nm_meso_regiao</th>\n",
       "      <td>object</td>\n",
       "      <td>58698</td>\n",
       "      <td>0.126970</td>\n",
       "    </tr>\n",
       "    <tr>\n",
       "      <th>de_faixa_faturamento_estimado</th>\n",
       "      <td>object</td>\n",
       "      <td>27513</td>\n",
       "      <td>0.059514</td>\n",
       "    </tr>\n",
       "    <tr>\n",
       "      <th>de_saude_tributaria</th>\n",
       "      <td>object</td>\n",
       "      <td>14851</td>\n",
       "      <td>0.032124</td>\n",
       "    </tr>\n",
       "    <tr>\n",
       "      <th>de_nivel_atividade</th>\n",
       "      <td>object</td>\n",
       "      <td>11168</td>\n",
       "      <td>0.024158</td>\n",
       "    </tr>\n",
       "    <tr>\n",
       "      <th>sg_uf_matriz</th>\n",
       "      <td>object</td>\n",
       "      <td>1939</td>\n",
       "      <td>0.004194</td>\n",
       "    </tr>\n",
       "    <tr>\n",
       "      <th>setor</th>\n",
       "      <td>object</td>\n",
       "      <td>1927</td>\n",
       "      <td>0.004168</td>\n",
       "    </tr>\n",
       "    <tr>\n",
       "      <th>nm_segmento</th>\n",
       "      <td>object</td>\n",
       "      <td>1927</td>\n",
       "      <td>0.004168</td>\n",
       "    </tr>\n",
       "    <tr>\n",
       "      <th>sg_uf</th>\n",
       "      <td>object</td>\n",
       "      <td>0</td>\n",
       "      <td>0.000000</td>\n",
       "    </tr>\n",
       "    <tr>\n",
       "      <th>natureza_juridica_macro</th>\n",
       "      <td>object</td>\n",
       "      <td>0</td>\n",
       "      <td>0.000000</td>\n",
       "    </tr>\n",
       "    <tr>\n",
       "      <th>de_ramo</th>\n",
       "      <td>object</td>\n",
       "      <td>0</td>\n",
       "      <td>0.000000</td>\n",
       "    </tr>\n",
       "    <tr>\n",
       "      <th>fl_rm</th>\n",
       "      <td>object</td>\n",
       "      <td>0</td>\n",
       "      <td>0.000000</td>\n",
       "    </tr>\n",
       "  </tbody>\n",
       "</table>\n",
       "</div>"
      ],
      "text/plain": [
       "                                  type  Sum of NaN      NaN%\n",
       "qt_socios                      float64      115091  0.248954\n",
       "nm_meso_regiao                  object       58698  0.126970\n",
       "de_faixa_faturamento_estimado   object       27513  0.059514\n",
       "de_saude_tributaria             object       14851  0.032124\n",
       "de_nivel_atividade              object       11168  0.024158\n",
       "sg_uf_matriz                    object        1939  0.004194\n",
       "setor                           object        1927  0.004168\n",
       "nm_segmento                     object        1927  0.004168\n",
       "sg_uf                           object           0  0.000000\n",
       "natureza_juridica_macro         object           0  0.000000\n",
       "de_ramo                         object           0  0.000000\n",
       "fl_rm                           object           0  0.000000"
      ]
     },
     "execution_count": 21,
     "metadata": {},
     "output_type": "execute_result"
    }
   ],
   "source": [
    "status_filter = create_status(market_filter)\n",
    "status_filter.reindex(columns=['type','Sum of NaN','NaN%']).sort_values(by = 'Sum of NaN', ascending=False).head(40)"
   ]
  },
  {
   "cell_type": "code",
   "execution_count": 22,
   "metadata": {},
   "outputs": [
    {
     "name": "stderr",
     "output_type": "stream",
     "text": [
      "c:\\users\\marcel.rocha\\appdata\\local\\programs\\python\\python37\\lib\\site-packages\\pandas\\core\\generic.py:6245: SettingWithCopyWarning: \n",
      "A value is trying to be set on a copy of a slice from a DataFrame\n",
      "\n",
      "See the caveats in the documentation: https://pandas.pydata.org/pandas-docs/stable/user_guide/indexing.html#returning-a-view-versus-a-copy\n",
      "  self._update_inplace(new_data)\n"
     ]
    }
   ],
   "source": [
    "# filling some of the categorical features with \"Not Informed\"\n",
    "market_filter['setor'].fillna('NAO INFORMADO', inplace=True)\n",
    "market_filter['nm_segmento'].fillna('NAO INFORMADO', inplace=True)\n",
    "market_filter['nm_meso_regiao'].fillna('NAO INFORMADO', inplace=True)\n",
    "market_filter['sg_uf_matriz'].fillna('NAO INFORMADO', inplace=True)"
   ]
  },
  {
   "cell_type": "code",
   "execution_count": 23,
   "metadata": {},
   "outputs": [],
   "source": [
    "market_filter['de_faixa_faturamento_estimado'].fillna('NAO INFORMADO', inplace=True)"
   ]
  },
  {
   "cell_type": "code",
   "execution_count": 24,
   "metadata": {},
   "outputs": [],
   "source": [
    "#I decided to input the sharedolder's quatity following the mode of the feature \n",
    "market_filter['qt_socios'].fillna(market_filter['qt_socios'].mode()[0], inplace=True)"
   ]
  },
  {
   "cell_type": "markdown",
   "metadata": {},
   "source": [
    "### Evaluating  `de_saude_tributaria` and ``de_nivel_atividade"
   ]
  },
  {
   "cell_type": "code",
   "execution_count": 25,
   "metadata": {},
   "outputs": [
    {
     "data": {
      "text/plain": [
       "array(['VERDE', 'CINZA', 'AMARELO', 'LARANJA', nan, 'AZUL', 'VERMELHO'],\n",
       "      dtype=object)"
      ]
     },
     "execution_count": 25,
     "metadata": {},
     "output_type": "execute_result"
    }
   ],
   "source": [
    "market_filter['de_saude_tributaria'].unique()"
   ]
  },
  {
   "cell_type": "code",
   "execution_count": 26,
   "metadata": {
    "scrolled": true
   },
   "outputs": [],
   "source": [
    "market_filter['de_saude_tributaria'].fillna('CINZA', inplace=True)"
   ]
  },
  {
   "cell_type": "markdown",
   "metadata": {},
   "source": [
    "* We can check that the feature is based on a color scale ranging from green to red. Based on that I decided to input the NaN values with 'CINZA' (Grey) which seems to be the most neutral value in the scale."
   ]
  },
  {
   "cell_type": "code",
   "execution_count": 27,
   "metadata": {},
   "outputs": [
    {
     "data": {
      "text/plain": [
       "array(['ALTA', 'BAIXA', 'MEDIA', nan, 'MUITO BAIXA'], dtype=object)"
      ]
     },
     "execution_count": 27,
     "metadata": {},
     "output_type": "execute_result"
    }
   ],
   "source": [
    "market_filter['de_nivel_atividade'].unique()"
   ]
  },
  {
   "cell_type": "code",
   "execution_count": 28,
   "metadata": {},
   "outputs": [],
   "source": [
    "market_filter['de_nivel_atividade'].fillna('INATIVO', inplace=True)"
   ]
  },
  {
   "cell_type": "markdown",
   "metadata": {},
   "source": [
    "* For this feature I decided to input the NaN for the activity level of the company as 'INATIVO' (Inactive)."
   ]
  },
  {
   "cell_type": "markdown",
   "metadata": {},
   "source": [
    "### Enconding Categorical Features `de_nivel_atividade` and `de_saude_tributaria`"
   ]
  },
  {
   "cell_type": "code",
   "execution_count": 29,
   "metadata": {},
   "outputs": [],
   "source": [
    "# Dictionary of codes for each value\n",
    "classification_saude = {'VERMELHO': 0, 'LARANJA': 1, 'CINZA': 2, 'AMARELO':3, 'AZUL': 4, 'VERDE': 5}\n",
    "classification_atividade = {'INATIVO': 0, 'MUITO BAIXA': 1, 'BAIXA': 2, 'MEDIA': 3, 'ALTA': 4}"
   ]
  },
  {
   "cell_type": "code",
   "execution_count": 30,
   "metadata": {},
   "outputs": [
    {
     "name": "stderr",
     "output_type": "stream",
     "text": [
      "c:\\users\\marcel.rocha\\appdata\\local\\programs\\python\\python37\\lib\\site-packages\\pandas\\core\\generic.py:6746: SettingWithCopyWarning: \n",
      "A value is trying to be set on a copy of a slice from a DataFrame\n",
      "\n",
      "See the caveats in the documentation: https://pandas.pydata.org/pandas-docs/stable/user_guide/indexing.html#returning-a-view-versus-a-copy\n",
      "  self._update_inplace(new_data)\n"
     ]
    }
   ],
   "source": [
    "market_filter['de_saude_tributaria'].replace(classification_saude, inplace=True)"
   ]
  },
  {
   "cell_type": "code",
   "execution_count": 31,
   "metadata": {},
   "outputs": [],
   "source": [
    "market_filter['de_nivel_atividade'].replace(classification_atividade, inplace=True)"
   ]
  },
  {
   "cell_type": "code",
   "execution_count": 34,
   "metadata": {
    "scrolled": true
   },
   "outputs": [
    {
     "ename": "NameError",
     "evalue": "name 'mercado_filtrado' is not defined",
     "output_type": "error",
     "traceback": [
      "\u001b[1;31m---------------------------------------------------------------------------\u001b[0m",
      "\u001b[1;31mNameError\u001b[0m                                 Traceback (most recent call last)",
      "\u001b[1;32m<ipython-input-34-0924cd41d48e>\u001b[0m in \u001b[0;36m<module>\u001b[1;34m\u001b[0m\n\u001b[1;32m----> 1\u001b[1;33m \u001b[0mmercado_filtrado\u001b[0m\u001b[1;33m[\u001b[0m\u001b[1;34m'de_nivel_atividade'\u001b[0m\u001b[1;33m]\u001b[0m\u001b[1;33m.\u001b[0m\u001b[0mvalue_counts\u001b[0m\u001b[1;33m(\u001b[0m\u001b[1;33m)\u001b[0m\u001b[1;33m\u001b[0m\u001b[1;33m\u001b[0m\u001b[0m\n\u001b[0m",
      "\u001b[1;31mNameError\u001b[0m: name 'mercado_filtrado' is not defined"
     ]
    }
   ],
   "source": [
    "mercado_filtrado['de_nivel_atividade'].value_counts()"
   ]
  },
  {
   "cell_type": "markdown",
   "metadata": {},
   "source": [
    "* I decided to encode those features like that, because I understood that, there's a priority order between the values and the encoded values must follow it."
   ]
  },
  {
   "cell_type": "code",
   "execution_count": 35,
   "metadata": {},
   "outputs": [],
   "source": [
    "# Applying label encoder in the other categorical featuers\n",
    "encoder = LabelEncoder()"
   ]
  },
  {
   "cell_type": "code",
   "execution_count": 36,
   "metadata": {},
   "outputs": [],
   "source": [
    "numerical_columns=['de_saude_tributaria', 'de_nivel_atividade', 'qt_socios']"
   ]
  },
  {
   "cell_type": "code",
   "execution_count": 37,
   "metadata": {
    "scrolled": true
   },
   "outputs": [
    {
     "name": "stderr",
     "output_type": "stream",
     "text": [
      "c:\\users\\marcel.rocha\\appdata\\local\\programs\\python\\python37\\lib\\site-packages\\ipykernel_launcher.py:4: SettingWithCopyWarning: \n",
      "A value is trying to be set on a copy of a slice from a DataFrame.\n",
      "Try using .loc[row_indexer,col_indexer] = value instead\n",
      "\n",
      "See the caveats in the documentation: https://pandas.pydata.org/pandas-docs/stable/user_guide/indexing.html#returning-a-view-versus-a-copy\n",
      "  after removing the cwd from sys.path.\n"
     ]
    }
   ],
   "source": [
    "# Applying label encoder in the other categorical featuers\n",
    "for i in range(len(market_filter.columns)):\n",
    "    if market_filter.columns[i] not in numerical_columns:\n",
    "        market_filter[market_filter.columns[i]] = encoder.fit_transform(market_filter[market_filter.columns[i]])"
   ]
  },
  {
   "cell_type": "code",
   "execution_count": 38,
   "metadata": {
    "scrolled": true
   },
   "outputs": [
    {
     "data": {
      "text/html": [
       "<div>\n",
       "<style scoped>\n",
       "    .dataframe tbody tr th:only-of-type {\n",
       "        vertical-align: middle;\n",
       "    }\n",
       "\n",
       "    .dataframe tbody tr th {\n",
       "        vertical-align: top;\n",
       "    }\n",
       "\n",
       "    .dataframe thead th {\n",
       "        text-align: right;\n",
       "    }\n",
       "</style>\n",
       "<table border=\"1\" class=\"dataframe\">\n",
       "  <thead>\n",
       "    <tr style=\"text-align: right;\">\n",
       "      <th></th>\n",
       "      <th>sg_uf</th>\n",
       "      <th>natureza_juridica_macro</th>\n",
       "      <th>de_ramo</th>\n",
       "      <th>setor</th>\n",
       "      <th>fl_rm</th>\n",
       "      <th>nm_segmento</th>\n",
       "      <th>sg_uf_matriz</th>\n",
       "      <th>de_saude_tributaria</th>\n",
       "      <th>de_nivel_atividade</th>\n",
       "      <th>nm_meso_regiao</th>\n",
       "      <th>de_faixa_faturamento_estimado</th>\n",
       "      <th>qt_socios</th>\n",
       "    </tr>\n",
       "    <tr>\n",
       "      <th>id</th>\n",
       "      <th></th>\n",
       "      <th></th>\n",
       "      <th></th>\n",
       "      <th></th>\n",
       "      <th></th>\n",
       "      <th></th>\n",
       "      <th></th>\n",
       "      <th></th>\n",
       "      <th></th>\n",
       "      <th></th>\n",
       "      <th></th>\n",
       "      <th></th>\n",
       "    </tr>\n",
       "  </thead>\n",
       "  <tbody>\n",
       "    <tr>\n",
       "      <th>a6984c3ae395090e3bee8ad63c3758b110de096d5d819583a784a113726db849</th>\n",
       "      <td>4</td>\n",
       "      <td>2</td>\n",
       "      <td>11</td>\n",
       "      <td>2</td>\n",
       "      <td>1</td>\n",
       "      <td>10</td>\n",
       "      <td>20</td>\n",
       "      <td>5</td>\n",
       "      <td>4</td>\n",
       "      <td>6</td>\n",
       "      <td>2</td>\n",
       "      <td>2.0</td>\n",
       "    </tr>\n",
       "    <tr>\n",
       "      <th>6178f41ade1365e44bc2c46654c2c8c0eaae27dcb476c47fdef50b33f4f56f05</th>\n",
       "      <td>3</td>\n",
       "      <td>5</td>\n",
       "      <td>21</td>\n",
       "      <td>5</td>\n",
       "      <td>1</td>\n",
       "      <td>3</td>\n",
       "      <td>17</td>\n",
       "      <td>2</td>\n",
       "      <td>2</td>\n",
       "      <td>4</td>\n",
       "      <td>10</td>\n",
       "      <td>1.0</td>\n",
       "    </tr>\n",
       "    <tr>\n",
       "      <th>4a7e5069a397f12fdd7fd57111d6dc5d3ba558958efc02edc5147bc2a2535b08</th>\n",
       "      <td>1</td>\n",
       "      <td>5</td>\n",
       "      <td>32</td>\n",
       "      <td>5</td>\n",
       "      <td>1</td>\n",
       "      <td>21</td>\n",
       "      <td>2</td>\n",
       "      <td>3</td>\n",
       "      <td>3</td>\n",
       "      <td>2</td>\n",
       "      <td>1</td>\n",
       "      <td>1.0</td>\n",
       "    </tr>\n",
       "    <tr>\n",
       "      <th>3348900fe63216a439d2e5238c79ddd46ede454df7b9d8c24ac33eb21d4b21ef</th>\n",
       "      <td>1</td>\n",
       "      <td>5</td>\n",
       "      <td>25</td>\n",
       "      <td>5</td>\n",
       "      <td>1</td>\n",
       "      <td>18</td>\n",
       "      <td>2</td>\n",
       "      <td>3</td>\n",
       "      <td>3</td>\n",
       "      <td>2</td>\n",
       "      <td>10</td>\n",
       "      <td>1.0</td>\n",
       "    </tr>\n",
       "    <tr>\n",
       "      <th>1f9bcabc9d3173c1fe769899e4fac14b053037b953a1e4b102c769f7611ab29f</th>\n",
       "      <td>4</td>\n",
       "      <td>5</td>\n",
       "      <td>27</td>\n",
       "      <td>5</td>\n",
       "      <td>1</td>\n",
       "      <td>8</td>\n",
       "      <td>20</td>\n",
       "      <td>5</td>\n",
       "      <td>4</td>\n",
       "      <td>6</td>\n",
       "      <td>10</td>\n",
       "      <td>1.0</td>\n",
       "    </tr>\n",
       "  </tbody>\n",
       "</table>\n",
       "</div>"
      ],
      "text/plain": [
       "                                                    sg_uf  \\\n",
       "id                                                          \n",
       "a6984c3ae395090e3bee8ad63c3758b110de096d5d81958...      4   \n",
       "6178f41ade1365e44bc2c46654c2c8c0eaae27dcb476c47...      3   \n",
       "4a7e5069a397f12fdd7fd57111d6dc5d3ba558958efc02e...      1   \n",
       "3348900fe63216a439d2e5238c79ddd46ede454df7b9d8c...      1   \n",
       "1f9bcabc9d3173c1fe769899e4fac14b053037b953a1e4b...      4   \n",
       "\n",
       "                                                    natureza_juridica_macro  \\\n",
       "id                                                                            \n",
       "a6984c3ae395090e3bee8ad63c3758b110de096d5d81958...                        2   \n",
       "6178f41ade1365e44bc2c46654c2c8c0eaae27dcb476c47...                        5   \n",
       "4a7e5069a397f12fdd7fd57111d6dc5d3ba558958efc02e...                        5   \n",
       "3348900fe63216a439d2e5238c79ddd46ede454df7b9d8c...                        5   \n",
       "1f9bcabc9d3173c1fe769899e4fac14b053037b953a1e4b...                        5   \n",
       "\n",
       "                                                    de_ramo  setor  fl_rm  \\\n",
       "id                                                                          \n",
       "a6984c3ae395090e3bee8ad63c3758b110de096d5d81958...       11      2      1   \n",
       "6178f41ade1365e44bc2c46654c2c8c0eaae27dcb476c47...       21      5      1   \n",
       "4a7e5069a397f12fdd7fd57111d6dc5d3ba558958efc02e...       32      5      1   \n",
       "3348900fe63216a439d2e5238c79ddd46ede454df7b9d8c...       25      5      1   \n",
       "1f9bcabc9d3173c1fe769899e4fac14b053037b953a1e4b...       27      5      1   \n",
       "\n",
       "                                                    nm_segmento  sg_uf_matriz  \\\n",
       "id                                                                              \n",
       "a6984c3ae395090e3bee8ad63c3758b110de096d5d81958...           10            20   \n",
       "6178f41ade1365e44bc2c46654c2c8c0eaae27dcb476c47...            3            17   \n",
       "4a7e5069a397f12fdd7fd57111d6dc5d3ba558958efc02e...           21             2   \n",
       "3348900fe63216a439d2e5238c79ddd46ede454df7b9d8c...           18             2   \n",
       "1f9bcabc9d3173c1fe769899e4fac14b053037b953a1e4b...            8            20   \n",
       "\n",
       "                                                    de_saude_tributaria  \\\n",
       "id                                                                        \n",
       "a6984c3ae395090e3bee8ad63c3758b110de096d5d81958...                    5   \n",
       "6178f41ade1365e44bc2c46654c2c8c0eaae27dcb476c47...                    2   \n",
       "4a7e5069a397f12fdd7fd57111d6dc5d3ba558958efc02e...                    3   \n",
       "3348900fe63216a439d2e5238c79ddd46ede454df7b9d8c...                    3   \n",
       "1f9bcabc9d3173c1fe769899e4fac14b053037b953a1e4b...                    5   \n",
       "\n",
       "                                                    de_nivel_atividade  \\\n",
       "id                                                                       \n",
       "a6984c3ae395090e3bee8ad63c3758b110de096d5d81958...                   4   \n",
       "6178f41ade1365e44bc2c46654c2c8c0eaae27dcb476c47...                   2   \n",
       "4a7e5069a397f12fdd7fd57111d6dc5d3ba558958efc02e...                   3   \n",
       "3348900fe63216a439d2e5238c79ddd46ede454df7b9d8c...                   3   \n",
       "1f9bcabc9d3173c1fe769899e4fac14b053037b953a1e4b...                   4   \n",
       "\n",
       "                                                    nm_meso_regiao  \\\n",
       "id                                                                   \n",
       "a6984c3ae395090e3bee8ad63c3758b110de096d5d81958...               6   \n",
       "6178f41ade1365e44bc2c46654c2c8c0eaae27dcb476c47...               4   \n",
       "4a7e5069a397f12fdd7fd57111d6dc5d3ba558958efc02e...               2   \n",
       "3348900fe63216a439d2e5238c79ddd46ede454df7b9d8c...               2   \n",
       "1f9bcabc9d3173c1fe769899e4fac14b053037b953a1e4b...               6   \n",
       "\n",
       "                                                    de_faixa_faturamento_estimado  \\\n",
       "id                                                                                  \n",
       "a6984c3ae395090e3bee8ad63c3758b110de096d5d81958...                              2   \n",
       "6178f41ade1365e44bc2c46654c2c8c0eaae27dcb476c47...                             10   \n",
       "4a7e5069a397f12fdd7fd57111d6dc5d3ba558958efc02e...                              1   \n",
       "3348900fe63216a439d2e5238c79ddd46ede454df7b9d8c...                             10   \n",
       "1f9bcabc9d3173c1fe769899e4fac14b053037b953a1e4b...                             10   \n",
       "\n",
       "                                                    qt_socios  \n",
       "id                                                             \n",
       "a6984c3ae395090e3bee8ad63c3758b110de096d5d81958...        2.0  \n",
       "6178f41ade1365e44bc2c46654c2c8c0eaae27dcb476c47...        1.0  \n",
       "4a7e5069a397f12fdd7fd57111d6dc5d3ba558958efc02e...        1.0  \n",
       "3348900fe63216a439d2e5238c79ddd46ede454df7b9d8c...        1.0  \n",
       "1f9bcabc9d3173c1fe769899e4fac14b053037b953a1e4b...        1.0  "
      ]
     },
     "execution_count": 38,
     "metadata": {},
     "output_type": "execute_result"
    }
   ],
   "source": [
    "market_filter.head()"
   ]
  },
  {
   "cell_type": "code",
   "execution_count": 39,
   "metadata": {
    "scrolled": true
   },
   "outputs": [
    {
     "data": {
      "image/png": "[encoded data removed]",
      "text/plain": [
       "<Figure size 864x648 with 1 Axes>"
      ]
     },
     "metadata": {},
     "output_type": "display_data"
    },
    {
     "data": {
      "image/png": "[encoded data removed]",
      "text/plain": [
       "<Figure size 864x648 with 1 Axes>"
      ]
     },
     "metadata": {},
     "output_type": "display_data"
    },
    {
     "data": {
      "image/png": "[encoded data removed]",
      "text/plain": [
       "<Figure size 864x648 with 1 Axes>"
      ]
     },
     "metadata": {},
     "output_type": "display_data"
    },
    {
     "data": {
      "image/png": "[encoded data removed]",
      "text/plain": [
       "<Figure size 864x648 with 1 Axes>"
      ]
     },
     "metadata": {},
     "output_type": "display_data"
    },
    {
     "data": {
      "image/png": "[encoded data removed]",
      "text/plain": [
       "<Figure size 864x648 with 1 Axes>"
      ]
     },
     "metadata": {},
     "output_type": "display_data"
    },
    {
     "data": {
      "image/png": "[encoded data removed]",
      "text/plain": [
       "<Figure size 864x648 with 1 Axes>"
      ]
     },
     "metadata": {},
     "output_type": "display_data"
    },
    {
     "data": {
      "image/png": "[encoded data removed]",
      "text/plain": [
       "<Figure size 864x648 with 1 Axes>"
      ]
     },
     "metadata": {},
     "output_type": "display_data"
    },
    {
     "data": {
      "image/png": "[encoded data removed]",
      "text/plain": [
       "<Figure size 864x648 with 1 Axes>"
      ]
     },
     "metadata": {},
     "output_type": "display_data"
    },
    {
     "data": {
      "image/png": "[encoded data removed]",
      "text/plain": [
       "<Figure size 864x648 with 1 Axes>"
      ]
     },
     "metadata": {},
     "output_type": "display_data"
    },
    {
     "data": {
      "image/png": "[encoded data removed]",
      "text/plain": [
       "<Figure size 864x648 with 1 Axes>"
      ]
     },
     "metadata": {},
     "output_type": "display_data"
    },
    {
     "data": {
      "image/png": "[encoded data removed]",
      "text/plain": [
       "<Figure size 864x648 with 1 Axes>"
      ]
     },
     "metadata": {},
     "output_type": "display_data"
    },
    {
     "data": {
      "image/png": "[encoded data removed]",
      "text/plain": [
       "<Figure size 864x648 with 1 Axes>"
      ]
     },
     "metadata": {},
     "output_type": "display_data"
    }
   ],
   "source": [
    "# visualizing the data enconded\n",
    "for i, j in enumerate(market_filter.columns):\n",
    "    plt.figure(i)\n",
    "    plt.title(j)\n",
    "    sns.countplot(market_filter[j])\n",
    "    plt.xlabel('')\n",
    "    plt.ylabel('')\n",
    "    plt.title(j, {'fontsize': 15})\n",
    "plt.tight_layout()"
   ]
  },
  {
   "cell_type": "code",
   "execution_count": 40,
   "metadata": {},
   "outputs": [],
   "source": [
    "#saving the data for the next step\n",
    "market_filter.to_csv('market_cleaned.csv')"
   ]
  },
  {
   "cell_type": "markdown",
   "metadata": {},
   "source": [
    "#### Disclaimer:\n",
    "\n",
    "The visualisation of the raw data was made using the pandas profiling tool. The report is available in this project's folder"
   ]
  }
 ],
 "metadata": {
  "kernelspec": {
   "display_name": "Python 3",
   "language": "python",
   "name": "python3"
  },
  "language_info": {
   "codemirror_mode": {
    "name": "ipython",
    "version": 3
   },
   "file_extension": ".py",
   "mimetype": "text/x-python",
   "name": "python",
   "nbconvert_exporter": "python",
   "pygments_lexer": "ipython3",
   "version": "3.7.3"
  }
 },
 "nbformat": 4,
 "nbformat_minor": 4
}
