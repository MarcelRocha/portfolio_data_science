{
 "cells": [
  {
   "cell_type": "markdown",
   "metadata": {},
   "source": [
    "\n",
    "# Objective\n",
    "The purpose of this product is to provide an automated service that recommends leads to a user given their current customer list (Portfolio).\n",
    "\n",
    "# Context\n",
    "Some companies would like to know who are the other companies in a given market (population) that are most likely to become their next customers. That is, your solution must find in the market who are the most adherent leads given the characteristics of the customers present in the user's portfolio.\n",
    "\n",
    "In addition, your solution must be agnostic to the user. Any user with a list of customers who want to explore this market can extract value from the service.\n",
    "\n",
    "For the challenge, the following bases should be considered:\n",
    "\n",
    "Market: Base with information about the companies in the market to be considered. Portfolio 1: Company customer ids 1 Portfolio 2: Company customer ids 2 Portfolio 3: Company customer ids 3\n",
    "\n",
    "Note: all companies (ids) in the portfolios are contained in the market (population base).\n"
   ]
  },
  {
   "cell_type": "code",
   "execution_count": 1,
   "metadata": {},
   "outputs": [],
   "source": [
    "# Import libraries necessary for this project\n",
    "from math import sqrt\n",
    "from time import time\n",
    "\n",
    "import pandas as pd\n",
    "import seaborn as sns\n",
    "import numpy as np\n",
    "import matplotlib.pyplot as plt\n",
    "\n",
    "from sklearn.cluster import KMeans\n",
    "from sklearn.neighbors import NearestNeighbors\n",
    "from sklearn.metrics.pairwise import cosine_similarity\n",
    "from sklearn.model_selection import train_test_split"
   ]
  },
  {
   "cell_type": "code",
   "execution_count": 2,
   "metadata": {},
   "outputs": [],
   "source": [
    "# Image settings for visualization\n",
    "from IPython.core.pylabtools import figsize\n",
    "\n",
    "figsize(12, 9)\n",
    "\n",
    "sns.set()"
   ]
  },
  {
   "cell_type": "code",
   "execution_count": 3,
   "metadata": {
    "scrolled": true
   },
   "outputs": [
    {
     "data": {
      "text/html": [
       "<div>\n",
       "<style scoped>\n",
       "    .dataframe tbody tr th:only-of-type {\n",
       "        vertical-align: middle;\n",
       "    }\n",
       "\n",
       "    .dataframe tbody tr th {\n",
       "        vertical-align: top;\n",
       "    }\n",
       "\n",
       "    .dataframe thead th {\n",
       "        text-align: right;\n",
       "    }\n",
       "</style>\n",
       "<table border=\"1\" class=\"dataframe\">\n",
       "  <thead>\n",
       "    <tr style=\"text-align: right;\">\n",
       "      <th></th>\n",
       "      <th>id</th>\n",
       "      <th>sg_uf</th>\n",
       "      <th>natureza_juridica_macro</th>\n",
       "      <th>de_ramo</th>\n",
       "      <th>setor</th>\n",
       "      <th>fl_rm</th>\n",
       "      <th>nm_segmento</th>\n",
       "      <th>sg_uf_matriz</th>\n",
       "      <th>de_saude_tributaria</th>\n",
       "      <th>de_nivel_atividade</th>\n",
       "      <th>nm_meso_regiao</th>\n",
       "      <th>de_faixa_faturamento_estimado</th>\n",
       "      <th>qt_socios</th>\n",
       "    </tr>\n",
       "  </thead>\n",
       "  <tbody>\n",
       "    <tr>\n",
       "      <th>0</th>\n",
       "      <td>a6984c3ae395090e3bee8ad63c3758b110de096d5d8195...</td>\n",
       "      <td>4</td>\n",
       "      <td>2</td>\n",
       "      <td>11</td>\n",
       "      <td>2</td>\n",
       "      <td>1</td>\n",
       "      <td>10</td>\n",
       "      <td>20</td>\n",
       "      <td>5</td>\n",
       "      <td>4</td>\n",
       "      <td>6</td>\n",
       "      <td>2</td>\n",
       "      <td>2.0</td>\n",
       "    </tr>\n",
       "    <tr>\n",
       "      <th>1</th>\n",
       "      <td>6178f41ade1365e44bc2c46654c2c8c0eaae27dcb476c4...</td>\n",
       "      <td>3</td>\n",
       "      <td>5</td>\n",
       "      <td>21</td>\n",
       "      <td>5</td>\n",
       "      <td>1</td>\n",
       "      <td>3</td>\n",
       "      <td>17</td>\n",
       "      <td>2</td>\n",
       "      <td>2</td>\n",
       "      <td>4</td>\n",
       "      <td>10</td>\n",
       "      <td>1.0</td>\n",
       "    </tr>\n",
       "    <tr>\n",
       "      <th>2</th>\n",
       "      <td>4a7e5069a397f12fdd7fd57111d6dc5d3ba558958efc02...</td>\n",
       "      <td>1</td>\n",
       "      <td>5</td>\n",
       "      <td>32</td>\n",
       "      <td>5</td>\n",
       "      <td>1</td>\n",
       "      <td>21</td>\n",
       "      <td>2</td>\n",
       "      <td>3</td>\n",
       "      <td>3</td>\n",
       "      <td>2</td>\n",
       "      <td>1</td>\n",
       "      <td>1.0</td>\n",
       "    </tr>\n",
       "    <tr>\n",
       "      <th>3</th>\n",
       "      <td>3348900fe63216a439d2e5238c79ddd46ede454df7b9d8...</td>\n",
       "      <td>1</td>\n",
       "      <td>5</td>\n",
       "      <td>25</td>\n",
       "      <td>5</td>\n",
       "      <td>1</td>\n",
       "      <td>18</td>\n",
       "      <td>2</td>\n",
       "      <td>3</td>\n",
       "      <td>3</td>\n",
       "      <td>2</td>\n",
       "      <td>10</td>\n",
       "      <td>1.0</td>\n",
       "    </tr>\n",
       "    <tr>\n",
       "      <th>4</th>\n",
       "      <td>1f9bcabc9d3173c1fe769899e4fac14b053037b953a1e4...</td>\n",
       "      <td>4</td>\n",
       "      <td>5</td>\n",
       "      <td>27</td>\n",
       "      <td>5</td>\n",
       "      <td>1</td>\n",
       "      <td>8</td>\n",
       "      <td>20</td>\n",
       "      <td>5</td>\n",
       "      <td>4</td>\n",
       "      <td>6</td>\n",
       "      <td>10</td>\n",
       "      <td>1.0</td>\n",
       "    </tr>\n",
       "  </tbody>\n",
       "</table>\n",
       "</div>"
      ],
      "text/plain": [
       "                                                  id  sg_uf  \\\n",
       "0  a6984c3ae395090e3bee8ad63c3758b110de096d5d8195...      4   \n",
       "1  6178f41ade1365e44bc2c46654c2c8c0eaae27dcb476c4...      3   \n",
       "2  4a7e5069a397f12fdd7fd57111d6dc5d3ba558958efc02...      1   \n",
       "3  3348900fe63216a439d2e5238c79ddd46ede454df7b9d8...      1   \n",
       "4  1f9bcabc9d3173c1fe769899e4fac14b053037b953a1e4...      4   \n",
       "\n",
       "   natureza_juridica_macro  de_ramo  setor  fl_rm  nm_segmento  sg_uf_matriz  \\\n",
       "0                        2       11      2      1           10            20   \n",
       "1                        5       21      5      1            3            17   \n",
       "2                        5       32      5      1           21             2   \n",
       "3                        5       25      5      1           18             2   \n",
       "4                        5       27      5      1            8            20   \n",
       "\n",
       "   de_saude_tributaria  de_nivel_atividade  nm_meso_regiao  \\\n",
       "0                    5                   4               6   \n",
       "1                    2                   2               4   \n",
       "2                    3                   3               2   \n",
       "3                    3                   3               2   \n",
       "4                    5                   4               6   \n",
       "\n",
       "   de_faixa_faturamento_estimado  qt_socios  \n",
       "0                              2        2.0  \n",
       "1                             10        1.0  \n",
       "2                              1        1.0  \n",
       "3                             10        1.0  \n",
       "4                             10        1.0  "
      ]
     },
     "execution_count": 3,
     "metadata": {},
     "output_type": "execute_result"
    }
   ],
   "source": [
    "# load the cleaned dataset\n",
    "market = pd.read_csv('market_cleaned.csv')\n",
    "market.head()"
   ]
  },
  {
   "cell_type": "code",
   "execution_count": 4,
   "metadata": {},
   "outputs": [],
   "source": [
    "aux_market = market.drop(columns=['id']) "
   ]
  },
  {
   "cell_type": "code",
   "execution_count": 5,
   "metadata": {},
   "outputs": [
    {
     "data": {
      "text/plain": [
       "sg_uf                            0\n",
       "natureza_juridica_macro          0\n",
       "de_ramo                          0\n",
       "setor                            0\n",
       "fl_rm                            0\n",
       "nm_segmento                      0\n",
       "sg_uf_matriz                     0\n",
       "de_saude_tributaria              0\n",
       "de_nivel_atividade               0\n",
       "nm_meso_regiao                   0\n",
       "de_faixa_faturamento_estimado    0\n",
       "qt_socios                        0\n",
       "dtype: int64"
      ]
     },
     "execution_count": 5,
     "metadata": {},
     "output_type": "execute_result"
    }
   ],
   "source": [
    "aux_market.isna().sum()"
   ]
  },
  {
   "cell_type": "code",
   "execution_count": 6,
   "metadata": {},
   "outputs": [],
   "source": [
    "def optimal_number_of_clusters(wcss):\n",
    "    \"\"\" Find the optimal number of clusters for the K-means algorithm based on a dataset\n",
    "    \n",
    "    Args:\n",
    "    wcss: list\n",
    "    \n",
    "    Return:\n",
    "    \n",
    "    Number of clusters\n",
    "    \"\"\"\n",
    "    x1, y1 = 1, wcss[0]\n",
    "    x2, y2 = 19, wcss[len(wcss)-1]\n",
    "    distances = []\n",
    "    for i in range(len(wcss)):\n",
    "        x0 = i + 1\n",
    "        y0 = wcss[i]\n",
    "        numerator = abs((y2-y1)*x0 - (x2-x1)*y0 + x2*y1 - y2*x1)\n",
    "        denominator = sqrt((y2 - y1)**2 + (x2 - x1)**2)\n",
    "        distances.append(numerator/denominator)\n",
    "    \n",
    "    return distances.index(max(distances)) + 1"
   ]
  },
  {
   "cell_type": "code",
   "execution_count": null,
   "metadata": {},
   "outputs": [],
   "source": [
    "# Using the Elbow Method to find the optimal number of clusters\n",
    "X = aux_market\n",
    "wcss = []\n",
    "start = time()\n",
    "for i in range(1,10):\n",
    "    kmeans = KMeans(n_clusters=i, init='k-means++', max_iter=300, n_init=10)\n",
    "    kmeans.fit(X)\n",
    "    wcss.append(kmeans.inertia_)\n",
    "plt.plot(range(1,10), wcss)\n",
    "plt.title('Elbow Method')\n",
    "plt.xlabel('Number of Clusters')\n",
    "plt.ylabel('WCSS')\n",
    "plt.show()\n",
    "end= time()\n",
    "print(f'Time of processing {round(end-start,3)} s')"
   ]
  },
  {
   "cell_type": "code",
   "execution_count": null,
   "metadata": {},
   "outputs": [],
   "source": [
    "print(optimal_number_of_clusters(wcss))"
   ]
  },
  {
   "cell_type": "markdown",
   "metadata": {},
   "source": [
    "## Taking a look in the Portfolios"
   ]
  },
  {
   "cell_type": "markdown",
   "metadata": {},
   "source": [
    "### Portfolio 1"
   ]
  },
  {
   "cell_type": "code",
   "execution_count": 7,
   "metadata": {},
   "outputs": [],
   "source": [
    "portfolio1 = pd.read_csv('portfolio1.csv')"
   ]
  },
  {
   "cell_type": "code",
   "execution_count": 8,
   "metadata": {
    "scrolled": true
   },
   "outputs": [
    {
     "data": {
      "text/html": [
       "<div>\n",
       "<style scoped>\n",
       "    .dataframe tbody tr th:only-of-type {\n",
       "        vertical-align: middle;\n",
       "    }\n",
       "\n",
       "    .dataframe tbody tr th {\n",
       "        vertical-align: top;\n",
       "    }\n",
       "\n",
       "    .dataframe thead th {\n",
       "        text-align: right;\n",
       "    }\n",
       "</style>\n",
       "<table border=\"1\" class=\"dataframe\">\n",
       "  <thead>\n",
       "    <tr style=\"text-align: right;\">\n",
       "      <th></th>\n",
       "      <th>Unnamed: 0</th>\n",
       "      <th>id</th>\n",
       "      <th>fl_matriz</th>\n",
       "      <th>de_natureza_juridica</th>\n",
       "      <th>sg_uf</th>\n",
       "      <th>natureza_juridica_macro</th>\n",
       "      <th>de_ramo</th>\n",
       "      <th>setor</th>\n",
       "      <th>idade_empresa_anos</th>\n",
       "      <th>idade_emp_cat</th>\n",
       "      <th>...</th>\n",
       "      <th>media_meses_servicos</th>\n",
       "      <th>max_meses_servicos</th>\n",
       "      <th>min_meses_servicos</th>\n",
       "      <th>qt_funcionarios</th>\n",
       "      <th>qt_funcionarios_12meses</th>\n",
       "      <th>qt_funcionarios_24meses</th>\n",
       "      <th>tx_crescimento_12meses</th>\n",
       "      <th>tx_crescimento_24meses</th>\n",
       "      <th>tx_rotatividade</th>\n",
       "      <th>qt_filiais</th>\n",
       "    </tr>\n",
       "  </thead>\n",
       "  <tbody>\n",
       "    <tr>\n",
       "      <th>0</th>\n",
       "      <td>0</td>\n",
       "      <td>dabe79bec87c88ae04e869bf6bd321ee5e1893cecf6625...</td>\n",
       "      <td>True</td>\n",
       "      <td>EMPRESARIO INDIVIDUAL</td>\n",
       "      <td>PI</td>\n",
       "      <td>OUTROS</td>\n",
       "      <td>COMERCIO VAREJISTA</td>\n",
       "      <td>COMERCIO</td>\n",
       "      <td>0.646575</td>\n",
       "      <td>&lt;= 1</td>\n",
       "      <td>...</td>\n",
       "      <td>NaN</td>\n",
       "      <td>NaN</td>\n",
       "      <td>NaN</td>\n",
       "      <td>NaN</td>\n",
       "      <td>NaN</td>\n",
       "      <td>NaN</td>\n",
       "      <td>NaN</td>\n",
       "      <td>NaN</td>\n",
       "      <td>NaN</td>\n",
       "      <td>0</td>\n",
       "    </tr>\n",
       "  </tbody>\n",
       "</table>\n",
       "<p>1 rows × 182 columns</p>\n",
       "</div>"
      ],
      "text/plain": [
       "   Unnamed: 0                                                 id  fl_matriz  \\\n",
       "0           0  dabe79bec87c88ae04e869bf6bd321ee5e1893cecf6625...       True   \n",
       "\n",
       "    de_natureza_juridica sg_uf natureza_juridica_macro             de_ramo  \\\n",
       "0  EMPRESARIO INDIVIDUAL    PI                  OUTROS  COMERCIO VAREJISTA   \n",
       "\n",
       "      setor  idade_empresa_anos idade_emp_cat  ...  media_meses_servicos  \\\n",
       "0  COMERCIO            0.646575          <= 1  ...                   NaN   \n",
       "\n",
       "   max_meses_servicos  min_meses_servicos  qt_funcionarios  \\\n",
       "0                 NaN                 NaN              NaN   \n",
       "\n",
       "   qt_funcionarios_12meses qt_funcionarios_24meses  tx_crescimento_12meses  \\\n",
       "0                      NaN                     NaN                     NaN   \n",
       "\n",
       "   tx_crescimento_24meses  tx_rotatividade qt_filiais  \n",
       "0                     NaN              NaN          0  \n",
       "\n",
       "[1 rows x 182 columns]"
      ]
     },
     "execution_count": 8,
     "metadata": {},
     "output_type": "execute_result"
    }
   ],
   "source": [
    "portfolio1.head(1)"
   ]
  },
  {
   "cell_type": "markdown",
   "metadata": {},
   "source": [
    "We can see that the Portfolio1 has all columns and is not encoded yet."
   ]
  },
  {
   "cell_type": "code",
   "execution_count": 9,
   "metadata": {},
   "outputs": [],
   "source": [
    "# removing dropping all columns but ID from the dataset\n",
    "portfolio1 = portfolio1.drop(columns=['Unnamed: 0'])\n",
    "portfolio1 = portfolio1.drop(portfolio1.columns[1:], axis = 1)"
   ]
  },
  {
   "cell_type": "code",
   "execution_count": 10,
   "metadata": {},
   "outputs": [],
   "source": [
    "# Merging Portfolio1 with the cleaned dataset\n",
    "portfolio1 = portfolio1.merge(market, on='id', how='inner')"
   ]
  },
  {
   "cell_type": "code",
   "execution_count": 11,
   "metadata": {
    "scrolled": false
   },
   "outputs": [
    {
     "data": {
      "text/html": [
       "<div>\n",
       "<style scoped>\n",
       "    .dataframe tbody tr th:only-of-type {\n",
       "        vertical-align: middle;\n",
       "    }\n",
       "\n",
       "    .dataframe tbody tr th {\n",
       "        vertical-align: top;\n",
       "    }\n",
       "\n",
       "    .dataframe thead th {\n",
       "        text-align: right;\n",
       "    }\n",
       "</style>\n",
       "<table border=\"1\" class=\"dataframe\">\n",
       "  <thead>\n",
       "    <tr style=\"text-align: right;\">\n",
       "      <th></th>\n",
       "      <th>id</th>\n",
       "      <th>sg_uf</th>\n",
       "      <th>natureza_juridica_macro</th>\n",
       "      <th>de_ramo</th>\n",
       "      <th>setor</th>\n",
       "      <th>fl_rm</th>\n",
       "      <th>nm_segmento</th>\n",
       "      <th>sg_uf_matriz</th>\n",
       "      <th>de_saude_tributaria</th>\n",
       "      <th>de_nivel_atividade</th>\n",
       "      <th>nm_meso_regiao</th>\n",
       "      <th>de_faixa_faturamento_estimado</th>\n",
       "      <th>qt_socios</th>\n",
       "    </tr>\n",
       "  </thead>\n",
       "  <tbody>\n",
       "    <tr>\n",
       "      <th>0</th>\n",
       "      <td>dabe79bec87c88ae04e869bf6bd321ee5e1893cecf6625...</td>\n",
       "      <td>3</td>\n",
       "      <td>5</td>\n",
       "      <td>5</td>\n",
       "      <td>1</td>\n",
       "      <td>0</td>\n",
       "      <td>9</td>\n",
       "      <td>17</td>\n",
       "      <td>2</td>\n",
       "      <td>2</td>\n",
       "      <td>15</td>\n",
       "      <td>10</td>\n",
       "      <td>1.0</td>\n",
       "    </tr>\n",
       "  </tbody>\n",
       "</table>\n",
       "</div>"
      ],
      "text/plain": [
       "                                                  id  sg_uf  \\\n",
       "0  dabe79bec87c88ae04e869bf6bd321ee5e1893cecf6625...      3   \n",
       "\n",
       "   natureza_juridica_macro  de_ramo  setor  fl_rm  nm_segmento  sg_uf_matriz  \\\n",
       "0                        5        5      1      0            9            17   \n",
       "\n",
       "   de_saude_tributaria  de_nivel_atividade  nm_meso_regiao  \\\n",
       "0                    2                   2              15   \n",
       "\n",
       "   de_faixa_faturamento_estimado  qt_socios  \n",
       "0                             10        1.0  "
      ]
     },
     "execution_count": 11,
     "metadata": {},
     "output_type": "execute_result"
    }
   ],
   "source": [
    "#chekcing it again\n",
    "portfolio1.head(1)"
   ]
  },
  {
   "cell_type": "code",
   "execution_count": 12,
   "metadata": {
    "scrolled": true
   },
   "outputs": [
    {
     "name": "stdout",
     "output_type": "stream",
     "text": [
      "<class 'pandas.core.frame.DataFrame'>\n",
      "Int64Index: 555 entries, 0 to 554\n",
      "Data columns (total 13 columns):\n",
      " #   Column                         Non-Null Count  Dtype  \n",
      "---  ------                         --------------  -----  \n",
      " 0   id                             555 non-null    object \n",
      " 1   sg_uf                          555 non-null    int64  \n",
      " 2   natureza_juridica_macro        555 non-null    int64  \n",
      " 3   de_ramo                        555 non-null    int64  \n",
      " 4   setor                          555 non-null    int64  \n",
      " 5   fl_rm                          555 non-null    int64  \n",
      " 6   nm_segmento                    555 non-null    int64  \n",
      " 7   sg_uf_matriz                   555 non-null    int64  \n",
      " 8   de_saude_tributaria            555 non-null    int64  \n",
      " 9   de_nivel_atividade             555 non-null    int64  \n",
      " 10  nm_meso_regiao                 555 non-null    int64  \n",
      " 11  de_faixa_faturamento_estimado  555 non-null    int64  \n",
      " 12  qt_socios                      555 non-null    float64\n",
      "dtypes: float64(1), int64(11), object(1)\n",
      "memory usage: 60.7+ KB\n"
     ]
    }
   ],
   "source": [
    "portfolio1.info()"
   ]
  },
  {
   "cell_type": "code",
   "execution_count": 174,
   "metadata": {},
   "outputs": [],
   "source": [
    "# let's set a function to visualize the portfolio's features so that we don't get redundant\n",
    "def visualize_portfolio(portfolio,columns):\n",
    "    for i in range(len(columns)):\n",
    "        ax=plt.subplot(3, 4, i+1)\n",
    "        sns.countplot(portfolio[columns[i]])\n",
    "\n",
    "        ax.set_title(columns[i])\n",
    "        ax.set_xlabel('')\n",
    "        ax.set_ylabel('')\n",
    "    plt.tight_layout()"
   ]
  },
  {
   "cell_type": "code",
   "execution_count": 56,
   "metadata": {},
   "outputs": [],
   "source": [
    "# we need to remove the id column of the list\n",
    "columns1 = portfolio1.columns[1:]"
   ]
  },
  {
   "cell_type": "code",
   "execution_count": 175,
   "metadata": {
    "scrolled": false
   },
   "outputs": [
    {
     "data": {
      "image/png": "[encoded data removed]",
      "text/plain": [
       "<Figure size 864x648 with 12 Axes>"
      ]
     },
     "metadata": {},
     "output_type": "display_data"
    }
   ],
   "source": [
    "visualize_portfolio(portfolio1, columns1)"
   ]
  },
  {
   "cell_type": "markdown",
   "metadata": {},
   "source": [
    "### Portfolio2"
   ]
  },
  {
   "cell_type": "code",
   "execution_count": 61,
   "metadata": {},
   "outputs": [],
   "source": [
    "# I've already checked that portfolio2 and portfolio3 only have the id column\n",
    "portfolio2 = pd.read_csv('portfolio2.csv').merge(market, on='id', how='inner')\n",
    "portfolio2 = portfolio2.drop(portfolio2.columns[0], axis = 1)"
   ]
  },
  {
   "cell_type": "code",
   "execution_count": 62,
   "metadata": {
    "scrolled": false
   },
   "outputs": [
    {
     "data": {
      "text/html": [
       "<div>\n",
       "<style scoped>\n",
       "    .dataframe tbody tr th:only-of-type {\n",
       "        vertical-align: middle;\n",
       "    }\n",
       "\n",
       "    .dataframe tbody tr th {\n",
       "        vertical-align: top;\n",
       "    }\n",
       "\n",
       "    .dataframe thead th {\n",
       "        text-align: right;\n",
       "    }\n",
       "</style>\n",
       "<table border=\"1\" class=\"dataframe\">\n",
       "  <thead>\n",
       "    <tr style=\"text-align: right;\">\n",
       "      <th></th>\n",
       "      <th>id</th>\n",
       "      <th>sg_uf</th>\n",
       "      <th>natureza_juridica_macro</th>\n",
       "      <th>de_ramo</th>\n",
       "      <th>setor</th>\n",
       "      <th>fl_rm</th>\n",
       "      <th>nm_segmento</th>\n",
       "      <th>sg_uf_matriz</th>\n",
       "      <th>de_saude_tributaria</th>\n",
       "      <th>de_nivel_atividade</th>\n",
       "      <th>nm_meso_regiao</th>\n",
       "      <th>de_faixa_faturamento_estimado</th>\n",
       "      <th>qt_socios</th>\n",
       "    </tr>\n",
       "  </thead>\n",
       "  <tbody>\n",
       "    <tr>\n",
       "      <th>0</th>\n",
       "      <td>09e95c1a84049001d086470a8f320a19b076f955a89122...</td>\n",
       "      <td>0</td>\n",
       "      <td>0</td>\n",
       "      <td>0</td>\n",
       "      <td>5</td>\n",
       "      <td>0</td>\n",
       "      <td>0</td>\n",
       "      <td>0</td>\n",
       "      <td>5</td>\n",
       "      <td>4</td>\n",
       "      <td>18</td>\n",
       "      <td>6</td>\n",
       "      <td>1.0</td>\n",
       "    </tr>\n",
       "  </tbody>\n",
       "</table>\n",
       "</div>"
      ],
      "text/plain": [
       "                                                  id  sg_uf  \\\n",
       "0  09e95c1a84049001d086470a8f320a19b076f955a89122...      0   \n",
       "\n",
       "   natureza_juridica_macro  de_ramo  setor  fl_rm  nm_segmento  sg_uf_matriz  \\\n",
       "0                        0        0      5      0            0             0   \n",
       "\n",
       "   de_saude_tributaria  de_nivel_atividade  nm_meso_regiao  \\\n",
       "0                    5                   4              18   \n",
       "\n",
       "   de_faixa_faturamento_estimado  qt_socios  \n",
       "0                              6        1.0  "
      ]
     },
     "execution_count": 62,
     "metadata": {},
     "output_type": "execute_result"
    }
   ],
   "source": [
    "portfolio2.head(1)"
   ]
  },
  {
   "cell_type": "code",
   "execution_count": 63,
   "metadata": {
    "scrolled": true
   },
   "outputs": [
    {
     "name": "stdout",
     "output_type": "stream",
     "text": [
      "<class 'pandas.core.frame.DataFrame'>\n",
      "Int64Index: 566 entries, 0 to 565\n",
      "Data columns (total 13 columns):\n",
      " #   Column                         Non-Null Count  Dtype  \n",
      "---  ------                         --------------  -----  \n",
      " 0   id                             566 non-null    object \n",
      " 1   sg_uf                          566 non-null    int64  \n",
      " 2   natureza_juridica_macro        566 non-null    int64  \n",
      " 3   de_ramo                        566 non-null    int64  \n",
      " 4   setor                          566 non-null    int64  \n",
      " 5   fl_rm                          566 non-null    int64  \n",
      " 6   nm_segmento                    566 non-null    int64  \n",
      " 7   sg_uf_matriz                   566 non-null    int64  \n",
      " 8   de_saude_tributaria            566 non-null    int64  \n",
      " 9   de_nivel_atividade             566 non-null    int64  \n",
      " 10  nm_meso_regiao                 566 non-null    int64  \n",
      " 11  de_faixa_faturamento_estimado  566 non-null    int64  \n",
      " 12  qt_socios                      566 non-null    float64\n",
      "dtypes: float64(1), int64(11), object(1)\n",
      "memory usage: 61.9+ KB\n"
     ]
    }
   ],
   "source": [
    "portfolio2.info()"
   ]
  },
  {
   "cell_type": "code",
   "execution_count": 64,
   "metadata": {},
   "outputs": [],
   "source": [
    "columns2 = portfolio2.columns[1:]"
   ]
  },
  {
   "cell_type": "code",
   "execution_count": 176,
   "metadata": {
    "scrolled": false
   },
   "outputs": [
    {
     "data": {
      "image/png": "[encoded data removed]",
      "text/plain": [
       "<Figure size 864x648 with 12 Axes>"
      ]
     },
     "metadata": {},
     "output_type": "display_data"
    }
   ],
   "source": [
    "visualize_portfolio(portfolio2, columns2)"
   ]
  },
  {
   "cell_type": "markdown",
   "metadata": {},
   "source": [
    "### Portfolio3"
   ]
  },
  {
   "cell_type": "code",
   "execution_count": 66,
   "metadata": {},
   "outputs": [],
   "source": [
    "# I've already checked that portfolio2 and portfolio3 only have the id column\n",
    "portfolio3 = pd.read_csv('portfolio3.csv').merge(market, on='id', how='inner')\n",
    "portfolio3 = portfolio3.drop(portfolio3.columns[0], axis = 1)"
   ]
  },
  {
   "cell_type": "code",
   "execution_count": 67,
   "metadata": {
    "scrolled": true
   },
   "outputs": [
    {
     "data": {
      "text/html": [
       "<div>\n",
       "<style scoped>\n",
       "    .dataframe tbody tr th:only-of-type {\n",
       "        vertical-align: middle;\n",
       "    }\n",
       "\n",
       "    .dataframe tbody tr th {\n",
       "        vertical-align: top;\n",
       "    }\n",
       "\n",
       "    .dataframe thead th {\n",
       "        text-align: right;\n",
       "    }\n",
       "</style>\n",
       "<table border=\"1\" class=\"dataframe\">\n",
       "  <thead>\n",
       "    <tr style=\"text-align: right;\">\n",
       "      <th></th>\n",
       "      <th>id</th>\n",
       "      <th>sg_uf</th>\n",
       "      <th>natureza_juridica_macro</th>\n",
       "      <th>de_ramo</th>\n",
       "      <th>setor</th>\n",
       "      <th>fl_rm</th>\n",
       "      <th>nm_segmento</th>\n",
       "      <th>sg_uf_matriz</th>\n",
       "      <th>de_saude_tributaria</th>\n",
       "      <th>de_nivel_atividade</th>\n",
       "      <th>nm_meso_regiao</th>\n",
       "      <th>de_faixa_faturamento_estimado</th>\n",
       "      <th>qt_socios</th>\n",
       "    </tr>\n",
       "  </thead>\n",
       "  <tbody>\n",
       "    <tr>\n",
       "      <th>0</th>\n",
       "      <td>bb61c09449a1c1f8b78955d8b7a7f73599e78358993fe2...</td>\n",
       "      <td>2</td>\n",
       "      <td>5</td>\n",
       "      <td>0</td>\n",
       "      <td>5</td>\n",
       "      <td>0</td>\n",
       "      <td>0</td>\n",
       "      <td>9</td>\n",
       "      <td>5</td>\n",
       "      <td>4</td>\n",
       "      <td>11</td>\n",
       "      <td>4</td>\n",
       "      <td>1.0</td>\n",
       "    </tr>\n",
       "  </tbody>\n",
       "</table>\n",
       "</div>"
      ],
      "text/plain": [
       "                                                  id  sg_uf  \\\n",
       "0  bb61c09449a1c1f8b78955d8b7a7f73599e78358993fe2...      2   \n",
       "\n",
       "   natureza_juridica_macro  de_ramo  setor  fl_rm  nm_segmento  sg_uf_matriz  \\\n",
       "0                        5        0      5      0            0             9   \n",
       "\n",
       "   de_saude_tributaria  de_nivel_atividade  nm_meso_regiao  \\\n",
       "0                    5                   4              11   \n",
       "\n",
       "   de_faixa_faturamento_estimado  qt_socios  \n",
       "0                              4        1.0  "
      ]
     },
     "execution_count": 67,
     "metadata": {},
     "output_type": "execute_result"
    }
   ],
   "source": [
    "portfolio3.head(1)"
   ]
  },
  {
   "cell_type": "code",
   "execution_count": 68,
   "metadata": {
    "scrolled": true
   },
   "outputs": [
    {
     "name": "stdout",
     "output_type": "stream",
     "text": [
      "<class 'pandas.core.frame.DataFrame'>\n",
      "Int64Index: 265 entries, 0 to 264\n",
      "Data columns (total 13 columns):\n",
      " #   Column                         Non-Null Count  Dtype  \n",
      "---  ------                         --------------  -----  \n",
      " 0   id                             265 non-null    object \n",
      " 1   sg_uf                          265 non-null    int64  \n",
      " 2   natureza_juridica_macro        265 non-null    int64  \n",
      " 3   de_ramo                        265 non-null    int64  \n",
      " 4   setor                          265 non-null    int64  \n",
      " 5   fl_rm                          265 non-null    int64  \n",
      " 6   nm_segmento                    265 non-null    int64  \n",
      " 7   sg_uf_matriz                   265 non-null    int64  \n",
      " 8   de_saude_tributaria            265 non-null    int64  \n",
      " 9   de_nivel_atividade             265 non-null    int64  \n",
      " 10  nm_meso_regiao                 265 non-null    int64  \n",
      " 11  de_faixa_faturamento_estimado  265 non-null    int64  \n",
      " 12  qt_socios                      265 non-null    float64\n",
      "dtypes: float64(1), int64(11), object(1)\n",
      "memory usage: 29.0+ KB\n"
     ]
    }
   ],
   "source": [
    "portfolio3.info()"
   ]
  },
  {
   "cell_type": "code",
   "execution_count": 70,
   "metadata": {},
   "outputs": [],
   "source": [
    "columns3 = portfolio3.columns[1:]"
   ]
  },
  {
   "cell_type": "code",
   "execution_count": 177,
   "metadata": {
    "scrolled": true
   },
   "outputs": [
    {
     "data": {
      "image/png": "[encoded data removed]",
      "text/plain": [
       "<Figure size 864x648 with 12 Axes>"
      ]
     },
     "metadata": {},
     "output_type": "display_data"
    }
   ],
   "source": [
    "visualize_portfolio(portfolio3, columns3)"
   ]
  },
  {
   "cell_type": "markdown",
   "metadata": {},
   "source": [
    "# Clustering the Portfolios"
   ]
  },
  {
   "cell_type": "code",
   "execution_count": 80,
   "metadata": {},
   "outputs": [],
   "source": [
    "def market_client_clusters(market, portfolio, clusters=3):\n",
    "    \"\"\" It clusters the portfolio according to the market dataset clustered\n",
    "    \n",
    "    Args:\n",
    "    market: dataset\n",
    "    portfolio: dataset\n",
    "    clusters: int\n",
    "    \n",
    "    returns:\n",
    "    market_clusters: dataset\n",
    "    client: dataset\n",
    "    \"\"\"\n",
    "    kmeans = KMeans(n_clusters=clusters, init='k-means++', max_iter=300, n_init=10)\n",
    "    id_market = market['id']\n",
    "    market = market.drop('id', axis=1)\n",
    "    y_km=kmeans.fit_predict(market)\n",
    "    \n",
    "    market_cluster = pd.concat([id_market, pd.DataFrame(y_km)], axis=1)\n",
    "    market_cluster.columns = ['id', 'cluster']\n",
    "    client = market_cluster.merge(portfolio['id'], indicator=True, how='outer')\n",
    "    client = client[client['_merge'] == 'both']\n",
    "    return market_cluster, client"
   ]
  },
  {
   "cell_type": "code",
   "execution_count": 77,
   "metadata": {},
   "outputs": [],
   "source": [
    "def portfolio_cluster(portfolio, clusters=3):\n",
    "    kmeans = KMeans(n_clusters=clusters, init='k-means++', max_iter=300, n_init=10)\n",
    "    id_portfolio = portfolio['id']\n",
    "    portfolio = portfolio.drop('id', axis=1)\n",
    "    y_km_port=kmeans.fit_predict(portfolio)\n",
    "    port_cluster = pd.concat([id_portfolio, pd.DataFrame(y_km_port)], axis=1)\n",
    "    port_cluster.columns = ['id', 'cluster']\n",
    "    return port_cluster\n",
    "    "
   ]
  },
  {
   "cell_type": "markdown",
   "metadata": {},
   "source": [
    "### Portfolio 1"
   ]
  },
  {
   "cell_type": "code",
   "execution_count": 89,
   "metadata": {
    "scrolled": false
   },
   "outputs": [],
   "source": [
    "m_cluster, client_port1 = market_client_clusters(market, portfolio1, 5)"
   ]
  },
  {
   "cell_type": "code",
   "execution_count": 85,
   "metadata": {
    "scrolled": false
   },
   "outputs": [
    {
     "data": {
      "text/plain": [
       "1    137986\n",
       "2    135360\n",
       "3     78877\n",
       "4     61719\n",
       "0     48356\n",
       "Name: cluster, dtype: int64"
      ]
     },
     "execution_count": 85,
     "metadata": {},
     "output_type": "execute_result"
    }
   ],
   "source": [
    "m_cluster['cluster'].value_counts()"
   ]
  },
  {
   "cell_type": "code",
   "execution_count": 90,
   "metadata": {
    "scrolled": false
   },
   "outputs": [
    {
     "data": {
      "text/plain": [
       "1    283\n",
       "2    272\n",
       "Name: cluster, dtype: int64"
      ]
     },
     "execution_count": 90,
     "metadata": {},
     "output_type": "execute_result"
    }
   ],
   "source": [
    "client_port1['cluster'].value_counts()"
   ]
  },
  {
   "cell_type": "markdown",
   "metadata": {},
   "source": [
    "### Portfolio 2"
   ]
  },
  {
   "cell_type": "code",
   "execution_count": 92,
   "metadata": {},
   "outputs": [],
   "source": [
    "m_cluster, client_port2 = market_client_clusters(market, portfolio2, 5)"
   ]
  },
  {
   "cell_type": "code",
   "execution_count": 93,
   "metadata": {
    "scrolled": false
   },
   "outputs": [
    {
     "data": {
      "text/plain": [
       "3    180\n",
       "1    174\n",
       "2    115\n",
       "0     72\n",
       "4     25\n",
       "Name: cluster, dtype: int64"
      ]
     },
     "execution_count": 93,
     "metadata": {},
     "output_type": "execute_result"
    }
   ],
   "source": [
    "client_port2['cluster'].value_counts()"
   ]
  },
  {
   "cell_type": "markdown",
   "metadata": {},
   "source": [
    "### Portfolio 3"
   ]
  },
  {
   "cell_type": "code",
   "execution_count": 94,
   "metadata": {},
   "outputs": [],
   "source": [
    "m_cluster, client_port3 = market_client_clusters(market, portfolio3, 5)"
   ]
  },
  {
   "cell_type": "code",
   "execution_count": 97,
   "metadata": {
    "scrolled": true
   },
   "outputs": [
    {
     "data": {
      "text/plain": [
       "2    78\n",
       "0    75\n",
       "4    54\n",
       "3    41\n",
       "1    17\n",
       "Name: cluster, dtype: int64"
      ]
     },
     "execution_count": 97,
     "metadata": {},
     "output_type": "execute_result"
    }
   ],
   "source": [
    "client_port3['cluster'].value_counts()"
   ]
  },
  {
   "cell_type": "code",
   "execution_count": 98,
   "metadata": {},
   "outputs": [
    {
     "data": {
      "text/plain": [
       "Index(['id', 'sg_uf', 'natureza_juridica_macro', 'de_ramo', 'setor', 'fl_rm',\n",
       "       'nm_segmento', 'sg_uf_matriz', 'de_saude_tributaria',\n",
       "       'de_nivel_atividade', 'nm_meso_regiao', 'de_faixa_faturamento_estimado',\n",
       "       'qt_socios'],\n",
       "      dtype='object')"
      ]
     },
     "execution_count": 98,
     "metadata": {},
     "output_type": "execute_result"
    }
   ],
   "source": [
    "portfolio1.columns"
   ]
  },
  {
   "cell_type": "markdown",
   "metadata": {},
   "source": [
    "* Our model clustered the Portfolio1 into the clusters 1 and 2. \n",
    "* Portfolios 2 and 3 were well distributed into all clusters. \n",
    "* Analysing all the three portfolios, it's understandble that the first one is clustered only into two clusters. We can see by the visualisations that the number of unique values for Features such as `de_ramo`, `de_segmento`, which represents the market where the client is inserted, is smaller. It probably indicates that the Client1(Portfolio1) is probably newer in the field or it has a very biased market. \n",
    "* The clustering is a very good starting point for our recommendation system."
   ]
  },
  {
   "cell_type": "markdown",
   "metadata": {},
   "source": [
    "# KNN Recommendation Model"
   ]
  },
  {
   "cell_type": "code",
   "execution_count": 99,
   "metadata": {
    "scrolled": true
   },
   "outputs": [],
   "source": [
    "knn = NearestNeighbors(metric='cosine', algorithm='brute', n_neighbors=20, n_jobs=-1)"
   ]
  },
  {
   "cell_type": "code",
   "execution_count": 101,
   "metadata": {},
   "outputs": [],
   "source": [
    "def restore_market(market_, base):\n",
    "    market_ = market_.drop(columns=['cluster'])\n",
    "    df_market = pd.merge(market_[['id']], base, on='id', how='inner')\n",
    "    return df_market"
   ]
  },
  {
   "cell_type": "code",
   "execution_count": 102,
   "metadata": {},
   "outputs": [],
   "source": [
    "def restore_client(client_, base):\n",
    "    df_client_ = client_.drop(columns=['cluster', '_merge'])\n",
    "    df_client_ = pd.merge(client_[['id']], base, on='id', how='inner')\n",
    "    return df_client_"
   ]
  },
  {
   "cell_type": "code",
   "execution_count": 123,
   "metadata": {},
   "outputs": [],
   "source": [
    "def simple_list(element_list):\n",
    "    \"\"\"\n",
    "    Transforma a lista de listas em uma lista simples\n",
    "    \n",
    "    :param lista: lista de listas \n",
    "    \"\"\"\n",
    "    if isinstance(element_list, list):\n",
    "        return [sub_elem for elem in element_list for sub_elem in simple_list(elem)]\n",
    "    else:\n",
    "        return [element_list]"
   ]
  },
  {
   "cell_type": "code",
   "execution_count": 100,
   "metadata": {},
   "outputs": [],
   "source": [
    "def create_df_recommendation(list_index_knn, list_distances_knn, market, X_train):\n",
    "    \"\"\"\n",
    "    Retorna um pd.Dataframe com os leads\n",
    "    \n",
    "    :param lista_indices_knn: lista de indices mais proximos\n",
    "    :param lista_distancias_knn: lista das distancias de cada indice\n",
    "    :param market: pd.Dataframe dataframe base\n",
    "    \"\"\"\n",
    "    \n",
    "    results = list(zip(list_index_knn, list_distances_knn))\n",
    "    df_results = pd.DataFrame(results, columns=['indices', 'distancias'])\n",
    "    \n",
    "    top = df_results.groupby('indices').agg(count=('indices', 'count'), distances=('distancias', 'min'))\\\n",
    "                                    .sort_values(['count', 'distances'], ascending=[False, True]).index.values\n",
    "\n",
    "    \n",
    "    df_knn = market.loc[top].set_index('id')\n",
    "    df_knn = df_knn[~df_knn.index.isin(X_train.index)]\n",
    "    \n",
    "    return df_knn"
   ]
  },
  {
   "cell_type": "markdown",
   "metadata": {},
   "source": [
    "## Market"
   ]
  },
  {
   "cell_type": "code",
   "execution_count": 104,
   "metadata": {
    "scrolled": true
   },
   "outputs": [],
   "source": [
    "# splitting the market database for each cluster\n",
    "market_0 = m_cluster[m_cluster.cluster == 0]\n",
    "market_1 = m_cluster[m_cluster.cluster == 1]\n",
    "market_2 = m_cluster[m_cluster.cluster == 2]\n",
    "market_3 = m_cluster[m_cluster.cluster == 3]\n",
    "market_4 = m_cluster[m_cluster.cluster == 4]"
   ]
  },
  {
   "cell_type": "code",
   "execution_count": 108,
   "metadata": {},
   "outputs": [],
   "source": [
    "# creating a dataset for each market cluster\n",
    "df0_market = restore_market(market_0, market)\n",
    "df1_market = restore_market(market_1, market) \n",
    "df2_market = restore_market(market_2, market) \n",
    "df3_market = restore_market(market_3, market) \n",
    "df4_market = restore_market(market_4, market) "
   ]
  },
  {
   "cell_type": "code",
   "execution_count": 109,
   "metadata": {},
   "outputs": [],
   "source": [
    "def split_teste_treino(base_cliente, tamanho_teste):\n",
    "    X_train, X_test, y_train, y_test = train_test_split(base_cliente, \n",
    "                                                                  list(range(len(base_cliente))),\n",
    "                                                        test_size=tamanho_teste, random_state=1)\n",
    "    return X_train, X_test"
   ]
  },
  {
   "cell_type": "code",
   "execution_count": 110,
   "metadata": {},
   "outputs": [],
   "source": [
    "def neighbors_generator(X_train, knn):\n",
    "    knn_index =  []\n",
    "    knn_distances = []\n",
    "    for i in range(X_train.shape[0]):\n",
    "        distances, index = knn.kneighbors([X_train.loc[X_train.index[i]]], n_neighbors=5)\n",
    "        knn_index.append(list(index[0]))\n",
    "        knn_distances.append(list(distances[0]))\n",
    "    return knn_index, knn_distances"
   ]
  },
  {
   "cell_type": "code",
   "execution_count": 150,
   "metadata": {},
   "outputs": [],
   "source": [
    "def aggregate_funcs(market, client, client_restored):\n",
    "    knn.fit(market.set_index('id'))\n",
    "    knn_index, knn_distances = neighbors_generator(client_restored.set_index('id'), knn)\n",
    "    list_knn_index = simple_list(knn_index)\n",
    "    list_knn_distances = simple_list(knn_distances)\n",
    "    recommendations = create_df_recommendation(list_knn_index, list_knn_distances, market, client)\n",
    "    return recommendations"
   ]
  },
  {
   "cell_type": "markdown",
   "metadata": {},
   "source": [
    "## Portfolio 1"
   ]
  },
  {
   "cell_type": "code",
   "execution_count": 112,
   "metadata": {},
   "outputs": [
    {
     "data": {
      "text/plain": [
       "2    283\n",
       "1    272\n",
       "Name: cluster, dtype: int64"
      ]
     },
     "execution_count": 112,
     "metadata": {},
     "output_type": "execute_result"
    }
   ],
   "source": [
    "cliente_port1['cluster'].value_counts()"
   ]
  },
  {
   "cell_type": "code",
   "execution_count": 113,
   "metadata": {},
   "outputs": [],
   "source": [
    "client1_1 = client_port1[client_port1.cluster == 1]\n",
    "client1_2 = client_port1[client_port1.cluster == 2]"
   ]
  },
  {
   "cell_type": "code",
   "execution_count": 118,
   "metadata": {},
   "outputs": [],
   "source": [
    "dfc1_1 = restore_client(client1_1, market)\n",
    "dfc1_2 = restore_client(client1_2, market)"
   ]
  },
  {
   "cell_type": "code",
   "execution_count": 151,
   "metadata": {},
   "outputs": [],
   "source": [
    "mkt1 = aggregate_funcs(df1_market, client1_1, dfc1_1)"
   ]
  },
  {
   "cell_type": "code",
   "execution_count": 153,
   "metadata": {},
   "outputs": [],
   "source": [
    "mkt2 = aggregate_funcs(df2_market, client1_2, dfc1_2)"
   ]
  },
  {
   "cell_type": "code",
   "execution_count": 155,
   "metadata": {},
   "outputs": [
    {
     "name": "stdout",
     "output_type": "stream",
     "text": [
      "Our model recommended 29 companies from the cluster 1 and 825 companies from the cluster 2\n"
     ]
    }
   ],
   "source": [
    "print(f'Our model recommended {mkt1.shape[0]} companies from the cluster 1 and {mkt2.shape[0]} companies from the cluster 2')"
   ]
  },
  {
   "cell_type": "markdown",
   "metadata": {},
   "source": [
    "## Portfolio 2"
   ]
  },
  {
   "cell_type": "code",
   "execution_count": 156,
   "metadata": {
    "scrolled": true
   },
   "outputs": [
    {
     "data": {
      "text/plain": [
       "3    180\n",
       "1    174\n",
       "2    115\n",
       "0     72\n",
       "4     25\n",
       "Name: cluster, dtype: int64"
      ]
     },
     "execution_count": 156,
     "metadata": {},
     "output_type": "execute_result"
    }
   ],
   "source": [
    "client_port2['cluster'].value_counts()"
   ]
  },
  {
   "cell_type": "code",
   "execution_count": 165,
   "metadata": {},
   "outputs": [],
   "source": [
    "client2_0 = client_port2[client_port2.cluster == 0]\n",
    "client2_1 = client_port2[client_port2.cluster == 1]\n",
    "client2_2 = client_port2[client_port2.cluster == 2]\n",
    "client2_3 = client_port2[client_port2.cluster == 3]\n",
    "client2_4 = client_port2[client_port2.cluster == 4]"
   ]
  },
  {
   "cell_type": "code",
   "execution_count": 166,
   "metadata": {},
   "outputs": [],
   "source": [
    "dfc2_0 = restore_client(client2_0, market)\n",
    "dfc2_1 = restore_client(client2_1, market)\n",
    "dfc2_2 = restore_client(client2_2, market)\n",
    "dfc2_3 = restore_client(client2_3, market)\n",
    "dfc2_4 = restore_client(client2_4, market)"
   ]
  },
  {
   "cell_type": "code",
   "execution_count": 167,
   "metadata": {},
   "outputs": [],
   "source": [
    "mkt2_0 = aggregate_funcs(df0_market, client2_0, dfc2_0)\n",
    "mkt2_1 = aggregate_funcs(df1_market, client2_1, dfc2_1)\n",
    "mkt2_2 = aggregate_funcs(df2_market, client2_2, dfc2_2)\n",
    "mkt2_3 = aggregate_funcs(df3_market, client2_3, dfc2_3)\n",
    "mkt2_4 = aggregate_funcs(df4_market, client2_4, dfc2_4)"
   ]
  },
  {
   "cell_type": "code",
   "execution_count": 168,
   "metadata": {},
   "outputs": [
    {
     "name": "stdout",
     "output_type": "stream",
     "text": [
      "Our model recommended 134 companies from the cluster 0\n",
      "134 companies from the cluster 1\n",
      "169 companies from the cluster 2\n",
      "113 companies from the cluster 3\n",
      "36 companies from the cluster 4\n"
     ]
    }
   ],
   "source": [
    "print(f\"\"\"Our model recommended {mkt2_0.shape[0]} companies from the cluster 0\n",
    "{mkt2_1.shape[0]} companies from the cluster 1\n",
    "{mkt2_2.shape[0]} companies from the cluster 2\n",
    "{mkt2_3.shape[0]} companies from the cluster 3\n",
    "{mkt2_4.shape[0]} companies from the cluster 4\"\"\")"
   ]
  },
  {
   "cell_type": "markdown",
   "metadata": {},
   "source": [
    "## Portfolio 3"
   ]
  },
  {
   "cell_type": "code",
   "execution_count": 164,
   "metadata": {},
   "outputs": [
    {
     "data": {
      "text/plain": [
       "2    78\n",
       "0    75\n",
       "4    54\n",
       "3    41\n",
       "1    17\n",
       "Name: cluster, dtype: int64"
      ]
     },
     "execution_count": 164,
     "metadata": {},
     "output_type": "execute_result"
    }
   ],
   "source": [
    "client_port3['cluster'].value_counts()"
   ]
  },
  {
   "cell_type": "code",
   "execution_count": 170,
   "metadata": {},
   "outputs": [],
   "source": [
    "client3_0 = client_port3[client_port3.cluster == 0]\n",
    "client3_1 = client_port3[client_port3.cluster == 1]\n",
    "client3_2 = client_port3[client_port3.cluster == 2]\n",
    "client3_3 = client_port3[client_port3.cluster == 3]\n",
    "client3_4 = client_port3[client_port3.cluster == 4]"
   ]
  },
  {
   "cell_type": "code",
   "execution_count": 171,
   "metadata": {},
   "outputs": [],
   "source": [
    "dfc3_0 = restore_client(client3_0, market)\n",
    "dfc3_1 = restore_client(client3_1, market)\n",
    "dfc3_2 = restore_client(client3_2, market)\n",
    "dfc3_3 = restore_client(client3_3, market)\n",
    "dfc3_4 = restore_client(client3_4, market)"
   ]
  },
  {
   "cell_type": "code",
   "execution_count": 172,
   "metadata": {},
   "outputs": [],
   "source": [
    "mkt3_0 = aggregate_funcs(df0_market, client3_0, dfc3_0)\n",
    "mkt3_1 = aggregate_funcs(df1_market, client3_1, dfc3_1)\n",
    "mkt3_2 = aggregate_funcs(df2_market, client3_2, dfc3_2)\n",
    "mkt3_3 = aggregate_funcs(df3_market, client3_3, dfc3_3)\n",
    "mkt3_4 = aggregate_funcs(df4_market, client3_4, dfc3_4)"
   ]
  },
  {
   "cell_type": "code",
   "execution_count": 173,
   "metadata": {
    "scrolled": false
   },
   "outputs": [
    {
     "name": "stdout",
     "output_type": "stream",
     "text": [
      "Our model recommended 193 companies from the cluster 0\n",
      "69 companies from the cluster 1\n",
      "183 companies from the cluster 2\n",
      "162 companies from the cluster 3\n",
      "228 companies from the cluster 4\n"
     ]
    }
   ],
   "source": [
    "print(f\"\"\"Our model recommended {mkt3_0.shape[0]} companies from the cluster 0\n",
    "{mkt3_1.shape[0]} companies from the cluster 1\n",
    "{mkt3_2.shape[0]} companies from the cluster 2\n",
    "{mkt3_3.shape[0]} companies from the cluster 3\n",
    "{mkt3_4.shape[0]} companies from the cluster 4\"\"\")"
   ]
  },
  {
   "cell_type": "markdown",
   "metadata": {},
   "source": [
    "# Conclusions\n",
    "\n",
    "* In this projected we were able to analyse a huge dataset with over 500k rows.\n",
    "* We were able to understand and select the best features for our model.\n",
    "* We could \"break\" the marke dataset into clusters making the processing faster.\n",
    "* We were also able to recommend new companies for each portfolio based on an agnostic solution.\n",
    "\n",
    "## What can we make better? \n",
    "\n",
    "* Work on metrics to evaluate the model.\n",
    "* Build a prototype API and deploy it online. "
   ]
  }
 ],
 "metadata": {
  "kernelspec": {
   "display_name": "Python 3",
   "language": "python",
   "name": "python3"
  },
  "language_info": {
   "codemirror_mode": {
    "name": "ipython",
    "version": 3
   },
   "file_extension": ".py",
   "mimetype": "text/x-python",
   "name": "python",
   "nbconvert_exporter": "python",
   "pygments_lexer": "ipython3",
   "version": "3.7.3"
  }
 },
 "nbformat": 4,
 "nbformat_minor": 4
}
