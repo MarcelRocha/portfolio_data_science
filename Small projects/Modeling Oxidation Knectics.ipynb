{
 "cells": [
  {
   "cell_type": "code",
   "execution_count": 1,
   "metadata": {},
   "outputs": [],
   "source": [
    "# Importing the libraries needed\n",
    "from math import pi, sqrt\n",
    "\n",
    "import pandas as pd\n",
    "import matplotlib.pyplot as plt\n",
    "import numpy as np\n",
    "import seaborn as sns"
   ]
  },
  {
   "cell_type": "code",
   "execution_count": 2,
   "metadata": {},
   "outputs": [],
   "source": [
    "# declaring the radius to surface sample in cm\n",
    "r = 1\n",
    "a = pi*(r**2)"
   ]
  },
  {
   "cell_type": "code",
   "execution_count": 3,
   "metadata": {},
   "outputs": [],
   "source": [
    "def une_duplicatas(lista1, lista2):\n",
    "    \"\"\"\n",
    "    input:\n",
    "    list of values\n",
    "    \n",
    "    output:\n",
    "    return list with the mean between the values of the two lists\n",
    "    \"\"\"\n",
    "    lista = []\n",
    "    for x, y in zip(lista1, lista2):\n",
    "        mean = round((x+y)/2, 3)\n",
    "        lista.append(mean)\n",
    "    return lista"
   ]
  },
  {
   "cell_type": "code",
   "execution_count": 4,
   "metadata": {},
   "outputs": [],
   "source": [
    "# listing the values of each sample\n",
    "rec_1 = [2.828, 3.578, 3.633, 3.661, 3.672, 3.674]\n",
    "rec_2 = [2.272, 3.337, 3.424, 3.446, 3.496, 3.524]\n",
    "lab_1 = [2.873, 3.659, 3.782, 3.823, 3.849, 3.908]\n",
    "lab_2 = [2.851, 3.595, 3.718, 3.749, 3.788, 3.849]\n",
    "\n",
    "rec = une_duplicatas(rec_1, rec_2)\n",
    "lab = une_duplicatas(lab_1,lab_2)"
   ]
  },
  {
   "cell_type": "code",
   "execution_count": 5,
   "metadata": {},
   "outputs": [],
   "source": [
    "# storing the samples in a dictionary\n",
    "simulacao_1 = {'rec': rec, \n",
    "               'lab': lab, \n",
    "               }"
   ]
  },
  {
   "cell_type": "markdown",
   "metadata": {},
   "source": [
    "This is storage makes de processing easier and better to work with."
   ]
  },
  {
   "cell_type": "code",
   "execution_count": 6,
   "metadata": {},
   "outputs": [],
   "source": [
    "lista_gm = []\n",
    "lista_gm2 = []\n",
    "for i in simulacao_1.values():\n",
    "    aux= i\n",
    "    for x, y in enumerate(aux):\n",
    "        limite = len(aux)-1\n",
    "        if x < limite:\n",
    "            test = round((aux[x+1] - aux[x]), 3)\n",
    "            gm = round(test/a, 8)\n",
    "            gm_2 = round(gm**2, 8)\n",
    "            lista_gm.append(gm)\n",
    "            lista_gm2.append(gm_2)"
   ]
  },
  {
   "cell_type": "markdown",
   "metadata": {},
   "source": [
    "* This implementation was used to calculate de mass gain based of this equation $ \\left ( \\frac{\\Delta m}{cm} \\right ) ^{2}  = kpt $  \n",
    "* lista_gm is the square root of the mass gain.\n",
    "* lista_gm2 is the mass gain."
   ]
  },
  {
   "cell_type": "code",
   "execution_count": 7,
   "metadata": {},
   "outputs": [],
   "source": [
    "def insere_zero(lista):\n",
    "    \"\"\"\n",
    "    insert one zero in te begining of a list\n",
    "    \n",
    "    input:\n",
    "    list of values\n",
    "    \n",
    "    output:\n",
    "    list with a zero in the begining\n",
    "    \"\"\"\n",
    "    for x, y in enumerate(lista):\n",
    "        lista[x].insert(0, 0.0)\n",
    "    return lista"
   ]
  },
  {
   "cell_type": "code",
   "execution_count": 8,
   "metadata": {},
   "outputs": [],
   "source": [
    "chunks_gm = [lista_gm[x:x+5] for x in range(0, len(lista_gm), 5)] #it splits lista_gm into two lists refered to each sample\n",
    "chunks_gm2 = [lista_gm2[x:x+5] for x in range(0, len(lista_gm2), 5)] #it splits lista_gm2 into two lists refered to each sample\n",
    "\n",
    "chunks_gm = insere_zero(chunks_gm)\n",
    "chunks_gm2 = insere_zero(chunks_gm2)"
   ]
  },
  {
   "cell_type": "code",
   "execution_count": 9,
   "metadata": {},
   "outputs": [],
   "source": [
    "# turning the storing the new data into a dictionary so that we can proceed it to pandas\n",
    "dados_calc ={\n",
    "    'rec_gm': chunks_gm[0],\n",
    "    'rec_gm2': chunks_gm2[0],\n",
    "    'lab_gm': chunks_gm[1],\n",
    "    'lab_gm2': chunks_gm2[1]\n",
    "}"
   ]
  },
  {
   "cell_type": "code",
   "execution_count": 10,
   "metadata": {},
   "outputs": [],
   "source": [
    "df = pd.DataFrame(simulacao_1) # dataframe: raw data\n",
    "df_calc = pd.DataFrame(dados_calc) # dataframe: calculated data \n",
    "\n",
    "df_simulacao = pd.concat([df, df_calc], axis=1) #dataframe: both dfs concatenated"
   ]
  },
  {
   "cell_type": "code",
   "execution_count": 11,
   "metadata": {},
   "outputs": [],
   "source": [
    "df_simulacao['tempo'] =  [x for x in range(0, 60, 10)] # now we add the time variable to our dataset"
   ]
  },
  {
   "cell_type": "code",
   "execution_count": 12,
   "metadata": {
    "scrolled": true
   },
   "outputs": [
    {
     "data": {
      "text/html": [
       "<div>\n",
       "<style scoped>\n",
       "    .dataframe tbody tr th:only-of-type {\n",
       "        vertical-align: middle;\n",
       "    }\n",
       "\n",
       "    .dataframe tbody tr th {\n",
       "        vertical-align: top;\n",
       "    }\n",
       "\n",
       "    .dataframe thead th {\n",
       "        text-align: right;\n",
       "    }\n",
       "</style>\n",
       "<table border=\"1\" class=\"dataframe\">\n",
       "  <thead>\n",
       "    <tr style=\"text-align: right;\">\n",
       "      <th></th>\n",
       "      <th>rec</th>\n",
       "      <th>lab</th>\n",
       "      <th>rec_gm</th>\n",
       "      <th>rec_gm2</th>\n",
       "      <th>lab_gm</th>\n",
       "      <th>lab_gm2</th>\n",
       "      <th>tempo</th>\n",
       "    </tr>\n",
       "  </thead>\n",
       "  <tbody>\n",
       "    <tr>\n",
       "      <th>0</th>\n",
       "      <td>2.550</td>\n",
       "      <td>2.862</td>\n",
       "      <td>0.000000</td>\n",
       "      <td>0.000000</td>\n",
       "      <td>0.000000</td>\n",
       "      <td>0.000000</td>\n",
       "      <td>0</td>\n",
       "    </tr>\n",
       "    <tr>\n",
       "      <th>1</th>\n",
       "      <td>3.458</td>\n",
       "      <td>3.627</td>\n",
       "      <td>0.289025</td>\n",
       "      <td>0.083536</td>\n",
       "      <td>0.243507</td>\n",
       "      <td>0.059296</td>\n",
       "      <td>10</td>\n",
       "    </tr>\n",
       "    <tr>\n",
       "      <th>2</th>\n",
       "      <td>3.529</td>\n",
       "      <td>3.750</td>\n",
       "      <td>0.022600</td>\n",
       "      <td>0.000511</td>\n",
       "      <td>0.039152</td>\n",
       "      <td>0.001533</td>\n",
       "      <td>20</td>\n",
       "    </tr>\n",
       "    <tr>\n",
       "      <th>3</th>\n",
       "      <td>3.554</td>\n",
       "      <td>3.786</td>\n",
       "      <td>0.007958</td>\n",
       "      <td>0.000063</td>\n",
       "      <td>0.011459</td>\n",
       "      <td>0.000131</td>\n",
       "      <td>30</td>\n",
       "    </tr>\n",
       "    <tr>\n",
       "      <th>4</th>\n",
       "      <td>3.584</td>\n",
       "      <td>3.819</td>\n",
       "      <td>0.009549</td>\n",
       "      <td>0.000091</td>\n",
       "      <td>0.010504</td>\n",
       "      <td>0.000110</td>\n",
       "      <td>40</td>\n",
       "    </tr>\n",
       "    <tr>\n",
       "      <th>5</th>\n",
       "      <td>3.599</td>\n",
       "      <td>3.878</td>\n",
       "      <td>0.004775</td>\n",
       "      <td>0.000023</td>\n",
       "      <td>0.018780</td>\n",
       "      <td>0.000353</td>\n",
       "      <td>50</td>\n",
       "    </tr>\n",
       "  </tbody>\n",
       "</table>\n",
       "</div>"
      ],
      "text/plain": [
       "     rec    lab    rec_gm   rec_gm2    lab_gm   lab_gm2  tempo\n",
       "0  2.550  2.862  0.000000  0.000000  0.000000  0.000000      0\n",
       "1  3.458  3.627  0.289025  0.083536  0.243507  0.059296     10\n",
       "2  3.529  3.750  0.022600  0.000511  0.039152  0.001533     20\n",
       "3  3.554  3.786  0.007958  0.000063  0.011459  0.000131     30\n",
       "4  3.584  3.819  0.009549  0.000091  0.010504  0.000110     40\n",
       "5  3.599  3.878  0.004775  0.000023  0.018780  0.000353     50"
      ]
     },
     "execution_count": 12,
     "metadata": {},
     "output_type": "execute_result"
    }
   ],
   "source": [
    "df_simulacao.head(6) # checking our dataset"
   ]
  },
  {
   "cell_type": "code",
   "execution_count": 13,
   "metadata": {},
   "outputs": [
    {
     "data": {
      "image/png": "[encoded data removed]",
      "text/plain": [
       "<Figure size 1440x648 with 1 Axes>"
      ]
     },
     "metadata": {
      "needs_background": "light"
     },
     "output_type": "display_data"
    }
   ],
   "source": [
    "#ploting the mass over time for the first sample \n",
    "plt.figure(figsize=(20, 9))\n",
    "sns.scatterplot(data= df_simulacao, x='tempo', y='rec', color='green', s=100)\n",
    "sns.scatterplot(data= df_simulacao, x='tempo', y='lab', color='blue', s=100)\n",
    "plt.ylabel(r'Ganho de massa', {'fontsize':15})\n",
    "plt.xlabel('Tempo\\h', {'fontsize': 15})\n",
    "plt.legend(['rec', 'lab'], title='Amostras', fontsize=15, title_fontsize=15)\n",
    "plt.text(0, 0, '')\n",
    "plt.show()"
   ]
  },
  {
   "cell_type": "code",
   "execution_count": 29,
   "metadata": {
    "scrolled": false
   },
   "outputs": [
    {
     "data": {
      "image/png": "[encoded data removed]",
      "text/plain": [
       "<Figure size 1440x648 with 1 Axes>"
      ]
     },
     "metadata": {
      "needs_background": "light"
     },
     "output_type": "display_data"
    }
   ],
   "source": [
    "#plotting the mass gain over time and comparing the samples\n",
    "plt.figure(figsize=(20, 9))\n",
    "sns.scatterplot(data= df_simulacao, x='tempo', y='rec_gm2', color='green', s=100)\n",
    "sns.scatterplot(data= df_simulacao, x='tempo', y='lab_gm2', color='blue', s=100)\n",
    "plt.ylabel(r'Ganho de massa\\ $g^2\\cdot cm^{-4} $', {'fontsize':15})\n",
    "plt.xlabel('Tempo\\h', {'fontsize': 15})\n",
    "plt.legend(['Recobrimento', 'Aço liga1LabH2'], title='Amostras', fontsize=15, title_fontsize=15)\n",
    "plt.text(0, 0, '')\n",
    "plt.show()"
   ]
  },
  {
   "cell_type": "markdown",
   "metadata": {},
   "source": [
    "Her we can see that the mass gain had a peak at 10 hours of experiment then it decreased and stabilized."
   ]
  },
  {
   "cell_type": "markdown",
   "metadata": {},
   "source": [
    "# **Modeling the experiment for 1000 hours**"
   ]
  },
  {
   "cell_type": "markdown",
   "metadata": {},
   "source": [
    "### To find the oxidation kinetic constant for the experimental data, I had to make the following assumptions: ##\n",
    "\n",
    "* For the mass gain of the coating I chose to exclude the first three data and treat the last data as an outlier, since, we have no further data to say that the coating will follow the tendency to further decrease its oxidation kinetics. So, I chose to use the points for 30 and 40 hours to fit the curve using the polyfit function of the library numpy with a polynomial of degree 1 given the kp equation being: $ \\left ( \\frac{\\Delta m}{cm} \\right ) ^{2}  = kpt $ . Being the units of the constant in: $ g^2\\cdot cm^{-4} $  \n",
    "\n",
    "\n",
    "* As for the laboratory sample, it was observed that after 30 hours of experiment the oxidation kinetics seems to have stabilized, and then the curve was fitted using the points for the 30 to 50 hour times using the polynomial fit function. in the same way as for the cover sample."
   ]
  },
  {
   "cell_type": "code",
   "execution_count": 15,
   "metadata": {},
   "outputs": [
    {
     "data": {
      "text/plain": [
       "3    0.000063\n",
       "4    0.000091\n",
       "5    0.000023\n",
       "Name: rec_gm2, dtype: float64"
      ]
     },
     "execution_count": 15,
     "metadata": {},
     "output_type": "execute_result"
    }
   ],
   "source": [
    "df_simulacao['rec_gm2'][3:] # we will use only the last three values of the sample"
   ]
  },
  {
   "cell_type": "code",
   "execution_count": 16,
   "metadata": {},
   "outputs": [],
   "source": [
    "t = 3600 # turning the time variable into seconds "
   ]
  },
  {
   "cell_type": "code",
   "execution_count": 17,
   "metadata": {},
   "outputs": [
    {
     "data": {
      "text/plain": [
       "7.738888888888883e-10"
      ]
     },
     "execution_count": 17,
     "metadata": {},
     "output_type": "execute_result"
    }
   ],
   "source": [
    "\n",
    "lista_rec = np.array(df_simulacao['rec_gm2'][3:5]) # we will use only the last two values of the sample\n",
    "tempo_rec = np.array([i*t for i in df_simulacao['tempo'][3:5]])\n",
    "\n",
    "kp_rec, ct_rec = np.polyfit(tempo_rec, lista_rec, 1) # calculating the knectics constant for the sample\n",
    "kp_rec"
   ]
  },
  {
   "cell_type": "code",
   "execution_count": 18,
   "metadata": {},
   "outputs": [
    {
     "data": {
      "text/plain": [
       "3.074861111111112e-09"
      ]
     },
     "execution_count": 18,
     "metadata": {},
     "output_type": "execute_result"
    }
   ],
   "source": [
    "lista_lab = np.array(df_simulacao['lab_gm2'][3:]) # we will use only the last three values of the sample\n",
    "tempo_lab = np.array([i*t for i in df_simulacao['tempo'][3:]])\n",
    "\n",
    "kp_lab, ct_lab = np.polyfit(tempo_lab, lista_lab, 1) # calculating the knectics constant for the sample\n",
    "kp_lab "
   ]
  },
  {
   "cell_type": "code",
   "execution_count": 20,
   "metadata": {},
   "outputs": [],
   "source": [
    "def simula_pontos(z1, kp, tempo = 3600, l=50, m=1050, n=50):\n",
    "    \"\"\"\n",
    "    it simulates new values according to a knectics constant in a chosen range of time\n",
    "    \n",
    "    input:\n",
    "    z1: list of values\n",
    "    kp: knectics constant\n",
    "    tempo: time in seconds\n",
    "    l: start time\n",
    "    m: end time\n",
    "    n: time step\n",
    "    \n",
    "    output:\n",
    "    novos_pontos: list with the new values\n",
    "    novos_tempos: list with the new values for time\n",
    "    \"\"\"\n",
    "    novo_tempo = [l] # l  tempo inicial\n",
    "    novos_pontos = [z1] # z1 massa inicial\n",
    "    for i in range(l*2, m, n): # m tempo final da simulação, n passo da simulação\n",
    "        z2 = round(sqrt(kp*i*tempo*a) + z1, 5)  \n",
    "        novos_pontos.append(z2)\n",
    "        novo_tempo.append(i)\n",
    "    return novos_pontos, novo_tempo"
   ]
  },
  {
   "cell_type": "code",
   "execution_count": 21,
   "metadata": {},
   "outputs": [],
   "source": [
    "# modeling and finding the new values\n",
    "pontos_rec, tempos_rec = simula_pontos(df_simulacao['rec_gm'][5], kp_rec)\n",
    "pontos_lab, tempos_lab = simula_pontos(df_simulacao['lab_gm'][5], kp_lab)"
   ]
  },
  {
   "cell_type": "code",
   "execution_count": 22,
   "metadata": {},
   "outputs": [],
   "source": [
    "dados_simul = pd.DataFrame({'rec_gm':pontos_rec, 'lab_gm': pontos_lab}) # creating a new table with the simulated values\n",
    "\n",
    "dados_simul['tempo'] = tempos_lab"
   ]
  },
  {
   "cell_type": "code",
   "execution_count": 23,
   "metadata": {
    "scrolled": false
   },
   "outputs": [
    {
     "data": {
      "text/html": [
       "<div>\n",
       "<style scoped>\n",
       "    .dataframe tbody tr th:only-of-type {\n",
       "        vertical-align: middle;\n",
       "    }\n",
       "\n",
       "    .dataframe tbody tr th {\n",
       "        vertical-align: top;\n",
       "    }\n",
       "\n",
       "    .dataframe thead th {\n",
       "        text-align: right;\n",
       "    }\n",
       "</style>\n",
       "<table border=\"1\" class=\"dataframe\">\n",
       "  <thead>\n",
       "    <tr style=\"text-align: right;\">\n",
       "      <th></th>\n",
       "      <th>rec_gm</th>\n",
       "      <th>lab_gm</th>\n",
       "      <th>tempo</th>\n",
       "    </tr>\n",
       "  </thead>\n",
       "  <tbody>\n",
       "    <tr>\n",
       "      <th>0</th>\n",
       "      <td>0.004775</td>\n",
       "      <td>0.01878</td>\n",
       "      <td>50</td>\n",
       "    </tr>\n",
       "    <tr>\n",
       "      <th>1</th>\n",
       "      <td>0.034360</td>\n",
       "      <td>0.07775</td>\n",
       "      <td>100</td>\n",
       "    </tr>\n",
       "    <tr>\n",
       "      <th>2</th>\n",
       "      <td>0.041010</td>\n",
       "      <td>0.09100</td>\n",
       "      <td>150</td>\n",
       "    </tr>\n",
       "    <tr>\n",
       "      <th>3</th>\n",
       "      <td>0.046610</td>\n",
       "      <td>0.10218</td>\n",
       "      <td>200</td>\n",
       "    </tr>\n",
       "    <tr>\n",
       "      <th>4</th>\n",
       "      <td>0.051550</td>\n",
       "      <td>0.11202</td>\n",
       "      <td>250</td>\n",
       "    </tr>\n",
       "  </tbody>\n",
       "</table>\n",
       "</div>"
      ],
      "text/plain": [
       "     rec_gm   lab_gm  tempo\n",
       "0  0.004775  0.01878     50\n",
       "1  0.034360  0.07775    100\n",
       "2  0.041010  0.09100    150\n",
       "3  0.046610  0.10218    200\n",
       "4  0.051550  0.11202    250"
      ]
     },
     "execution_count": 23,
     "metadata": {},
     "output_type": "execute_result"
    }
   ],
   "source": [
    "dados_simul.head()"
   ]
  },
  {
   "cell_type": "code",
   "execution_count": 31,
   "metadata": {
    "scrolled": false
   },
   "outputs": [
    {
     "data": {
      "image/png": "[encoded data removed]",
      "text/plain": [
       "<Figure size 1080x648 with 1 Axes>"
      ]
     },
     "metadata": {
      "needs_background": "light"
     },
     "output_type": "display_data"
    }
   ],
   "source": [
    "# plotting and comparing the experimental data with the simulated ones\n",
    "plt.figure(figsize=(15, 9))\n",
    "sns.scatterplot(data= df_simulacao, x='tempo', y='rec_gm', color='green', s=100)\n",
    "sns.scatterplot(data= dados_simul, x='tempo', y='rec_gm', color='blue', s=100)\n",
    "#sns.scatterplot(data= df_simulacao, x='tempo', y='a304_gm', color='black', s=100)\n",
    "#sns.scatterplot(data= df_gm, x='tempo', y='lab_2_gm', color='red', s=100)\n",
    "plt.ylabel(r'Ganho de massa\\ $g\\cdot cm^{-2} $', {'fontsize':15})\n",
    "plt.xlabel('Tempo\\h', {'fontsize': 15})\n",
    "plt.legend(['Dados Experimentais', 'Dados Simulados'], title='CuMn2O4/Aço liga1LabH2', fontsize=15, title_fontsize=15)\n",
    "plt.text(0, 0, '')\n",
    "plt.show()"
   ]
  },
  {
   "cell_type": "code",
   "execution_count": 32,
   "metadata": {},
   "outputs": [
    {
     "data": {
      "image/png": "[encoded data removed]",
      "text/plain": [
       "<Figure size 1080x648 with 1 Axes>"
      ]
     },
     "metadata": {
      "needs_background": "light"
     },
     "output_type": "display_data"
    }
   ],
   "source": [
    "# plotting and comparing the experimental data with the simulated ones\n",
    "plt.figure(figsize=(15, 9))\n",
    "sns.scatterplot(data= df_simulacao, x='tempo', y='lab_gm',markers='s', color='green', s=100)\n",
    "sns.scatterplot(data= dados_simul, x='tempo', y='lab_gm', markers= 'v', color='blue', s=100)\n",
    "#sns.scatterplot(data= df_simulacao, x='tempo', y='a304_gm', color='black', s=100)\n",
    "#sns.scatterplot(data= df_gm, x='tempo', y='lab_2_gm', color='red', s=100)\n",
    "plt.ylabel(r'Ganho de massa\\ $g\\cdot cm^{-2} $', {'fontsize':15})\n",
    "plt.xlabel('Tempo\\h', {'fontsize': 15})\n",
    "plt.legend(['Dados Experimentais', 'Datos Simulados'], title='Aço liga1LabH2', fontsize=15, title_fontsize=15)\n",
    "plt.text(0, 0, '')\n",
    "plt.show()"
   ]
  },
  {
   "cell_type": "markdown",
   "metadata": {},
   "source": [
    "### This would be the data behavior for 1000 hours of experiment according to the assumptions made.###"
   ]
  },
  {
   "cell_type": "markdown",
   "metadata": {},
   "source": [
    "### Conclusions:###\n",
    "\n",
    "* The oxidation kinetics constants for the coating and labH2 steel (sample 1) were respectively $7.39 \\cdot 10^{-10}$ e $3.08 \\cdot 10^{-9}$ showing that the coating (sample 2).\n",
    "\n",
    "* For covering. If the data follow the trend of mass gain in 50 hours the ratio between the oxidation kinetics of the coated steel and labH2 steel will be even greater.\n",
    "\n",
    "* From this simulation, it is possible to see that the steel coating helped considerably reduce the oxidation kinetics when compared to the non-covered steel."
   ]
  }
 ],
 "metadata": {
  "kernelspec": {
   "display_name": "Python 3",
   "language": "python",
   "name": "python3"
  },
  "language_info": {
   "codemirror_mode": {
    "name": "ipython",
    "version": 3
   },
   "file_extension": ".py",
   "mimetype": "text/x-python",
   "name": "python",
   "nbconvert_exporter": "python",
   "pygments_lexer": "ipython3",
   "version": "3.7.3"
  }
 },
 "nbformat": 4,
 "nbformat_minor": 4
}
